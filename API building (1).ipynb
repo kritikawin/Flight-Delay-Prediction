{
 "cells": [
  {
   "cell_type": "markdown",
   "metadata": {
    "id": "3pK3_sZPVx6E"
   },
   "source": [
    "# Flight Delay Prediction\n",
    "\n",
    "**Abstract:** \n",
    "\n",
    "\n",
    "Finding and measuring factors affecting aircraft delays on the ground and in the air and developing machine learning algorithms to optimize airline and airport operations based on the factors responsible for the flight delay"
   ]
  },
  {
   "cell_type": "code",
   "execution_count": null,
   "metadata": {
    "colab": {
     "base_uri": "https://localhost:8080/"
    },
    "id": "rb0UjiZvfJ1r",
    "outputId": "2cdb724d-6aca-4983-b283-a9e79512f5bf"
   },
   "outputs": [],
   "source": [
    "from google.colab import drive\n",
    "drive.mount('/content/drive')\n",
    "\n",
    "#directory where our dataset present\n",
    "data_dir = \"/content/drive/My Drive/Colab Notebooks/Airline Delay Prediction/Project2\"\n",
    "\n",
    "import os\n",
    "print(os.listdir(data_dir)) #folders inside dataset directory"
   ]
  },
  {
   "cell_type": "code",
   "execution_count": null,
   "metadata": {
    "id": "Rsg9meRSiyDh"
   },
   "outputs": [],
   "source": [
    "import pandas as pd\n",
    "import numpy as np\n",
    "import seaborn as sns\n",
    "import matplotlib.pyplot as plt\n",
    "%matplotlib inline"
   ]
  },
  {
   "cell_type": "code",
   "execution_count": null,
   "metadata": {
    "colab": {
     "base_uri": "https://localhost:8080/",
     "height": 241
    },
    "id": "MoA6iXCGjOot",
    "outputId": "9e82b768-c53f-4e6b-ba37-ccd2c8ebff7c"
   },
   "outputs": [],
   "source": [
    "data= pd.read_csv(data_dir+\"/data_final.csv\")\n",
    "data.head()"
   ]
  },
  {
   "cell_type": "markdown",
   "metadata": {
    "id": "TJa6Ar9ScP92"
   },
   "source": [
    "Before Beginning Data Transformtion, let us first split the dataset into Train-Test and then seperately perform the transformations on the datasets."
   ]
  },
  {
   "cell_type": "code",
   "execution_count": null,
   "metadata": {
    "colab": {
     "base_uri": "https://localhost:8080/",
     "height": 275
    },
    "id": "YBDaFfpsc88H",
    "outputId": "d218ebea-f3f3-43af-dca6-0cc8091ac1ff"
   },
   "outputs": [],
   "source": [
    "from sklearn.model_selection import train_test_split\n",
    "\n",
    "train, test = train_test_split(data, test_size=0.33,random_state = 1)\n",
    "print(train.shape)\n",
    "print(test.shape)\n",
    "\n",
    "test.head()\n"
   ]
  },
  {
   "cell_type": "code",
   "execution_count": null,
   "metadata": {
    "id": "pBNyYWCDo2gy"
   },
   "outputs": [],
   "source": []
  },
  {
   "cell_type": "markdown",
   "metadata": {
    "id": "QNYdKmq9oUZq"
   },
   "source": [
    "**Target Distribution for our Regression Problem**"
   ]
  },
  {
   "cell_type": "code",
   "execution_count": null,
   "metadata": {
    "colab": {
     "base_uri": "https://localhost:8080/",
     "height": 394
    },
    "id": "RSZK51w8ojqI",
    "outputId": "e02f662f-bf6e-45ce-a634-e0f3a2f1010f"
   },
   "outputs": [],
   "source": [
    "_ = train['arrival_delay_converted'].plot(kind = 'density', title = 'Distribution of Arrival Delays', fontsize=14, figsize=(10, 6))"
   ]
  },
  {
   "cell_type": "code",
   "execution_count": null,
   "metadata": {
    "colab": {
     "base_uri": "https://localhost:8080/",
     "height": 394
    },
    "id": "8-8GUlm6pKtK",
    "outputId": "c8b74bd9-dcf2-4120-8216-1bd0f12526ac"
   },
   "outputs": [],
   "source": [
    "_ = train['departure_delay_converted'].plot(kind = 'density', title = 'Distribution of Departure Delays', fontsize=14, figsize=(10, 6))"
   ]
  },
  {
   "cell_type": "markdown",
   "metadata": {
    "id": "zN6IPWPRpSc0"
   },
   "source": [
    "Observation: Since both distributions show almost a gaussian curve (no skewness), no other transformations like logarithmic transformations needed."
   ]
  },
  {
   "cell_type": "code",
   "execution_count": null,
   "metadata": {
    "id": "pQ-wZA3zX1QX"
   },
   "outputs": [],
   "source": []
  },
  {
   "cell_type": "code",
   "execution_count": null,
   "metadata": {
    "id": "V2MhQGYPX1Sf"
   },
   "outputs": [],
   "source": [
    "#Check if Data is Imbalanced"
   ]
  },
  {
   "cell_type": "code",
   "execution_count": null,
   "metadata": {
    "colab": {
     "base_uri": "https://localhost:8080/"
    },
    "id": "mF67BTp4X1Uw",
    "outputId": "864a4164-9319-488e-b58e-e8974c69ef21"
   },
   "outputs": [],
   "source": [
    "# selecting rows based on condition \n",
    "train_delayed_flights = train[train['arrival_delay_converted'] > 0] \n",
    "train_delayed_flights.shape"
   ]
  },
  {
   "cell_type": "code",
   "execution_count": null,
   "metadata": {
    "colab": {
     "base_uri": "https://localhost:8080/"
    },
    "id": "lHg6E18wX1XP",
    "outputId": "5b88a291-8bee-4e25-cba2-27c2148fb24d"
   },
   "outputs": [],
   "source": [
    "train_early_flights = train[train['arrival_delay_converted'] <= 0] \n",
    "train_early_flights.shape"
   ]
  },
  {
   "cell_type": "code",
   "execution_count": null,
   "metadata": {
    "colab": {
     "base_uri": "https://localhost:8080/"
    },
    "id": "VQztau_Y636L",
    "outputId": "081d5edc-a98c-4b23-a622-6e31011a8871"
   },
   "outputs": [],
   "source": [
    "print(f'Percentage of Flights which got delayed is: {100*2684/(2684+6710)}')\n",
    "print(f'Percentage of Flights which arrived early is: {100*6710/(2684+6710)}')\n"
   ]
  },
  {
   "cell_type": "markdown",
   "metadata": {
    "id": "rRVj_XFG7a_P"
   },
   "source": [
    "Hence it is an imbalanced dataset."
   ]
  },
  {
   "cell_type": "code",
   "execution_count": null,
   "metadata": {
    "id": "_JesBIH7X1b4"
   },
   "outputs": [],
   "source": []
  },
  {
   "cell_type": "code",
   "execution_count": null,
   "metadata": {
    "id": "bAvSDQ5e7aex"
   },
   "outputs": [],
   "source": []
  },
  {
   "cell_type": "code",
   "execution_count": null,
   "metadata": {
    "id": "PJ8urA-Z7agu"
   },
   "outputs": [],
   "source": []
  },
  {
   "cell_type": "markdown",
   "metadata": {
    "id": "iRZUreU-pvlX"
   },
   "source": [
    "**Variable Datatypes:**"
   ]
  },
  {
   "cell_type": "code",
   "execution_count": null,
   "metadata": {
    "colab": {
     "base_uri": "https://localhost:8080/"
    },
    "id": "by1ckGU0_Ag1",
    "outputId": "3b9574ac-4a88-45e9-c5eb-7c0f8266e420"
   },
   "outputs": [],
   "source": [
    "train.dtypes"
   ]
  },
  {
   "cell_type": "code",
   "execution_count": null,
   "metadata": {
    "colab": {
     "base_uri": "https://localhost:8080/"
    },
    "id": "3u_qE9dOWVmp",
    "outputId": "f3d91cd0-6e11-41bf-b85c-8eba801316ae"
   },
   "outputs": [],
   "source": [
    "#year column should be categorical not numeric.\n",
    "train['year'] = train['year'].astype('object')\n",
    "test['year'] = test['year'].astype('object')"
   ]
  },
  {
   "cell_type": "markdown",
   "metadata": {
    "id": "mLCRW-QLp9DF"
   },
   "source": [
    "**Data Transformations on Numeric and Categorical Features:**\n"
   ]
  },
  {
   "cell_type": "markdown",
   "metadata": {
    "id": "JOLv-3XheLHA"
   },
   "source": [
    "\n",
    "1.Handling Categorical Features:\n",
    "\n",
    "'Carrier'\n",
    "\n",
    "'Airplane Type'\n",
    "\n",
    "'Year'\n",
    "\n",
    "'Month'\n",
    "\n",
    "'Departure Airport'\n",
    "\n",
    "'Arrival Airport'"
   ]
  },
  {
   "cell_type": "markdown",
   "metadata": {
    "id": "_mJIk7oHay0Q"
   },
   "source": [
    "\n",
    "We will apply one hot encoding on 'Carrier','Airplane Type','Departure Airport', 'Arrival Airport' and 'year' since less than 6 categories for each columns are there.\n",
    "\n",
    "\n",
    "\n",
    "\n"
   ]
  },
  {
   "cell_type": "code",
   "execution_count": null,
   "metadata": {
    "colab": {
     "base_uri": "https://localhost:8080/",
     "height": 241
    },
    "id": "jBOYKJknfCLb",
    "outputId": "5f03213d-0ec4-4f8c-8604-8a255cbe23a4"
   },
   "outputs": [],
   "source": [
    "train_transformed= pd.get_dummies(train)\n",
    "\n",
    "test_transformed= pd.get_dummies(test)\n",
    "\n",
    "test_transformed.head()\n",
    "\n",
    "#month not considered in this one hot encoding (as we haven't converted it to object from int64 type). \n",
    "#We are handling it by another encoding as shown below."
   ]
  },
  {
   "cell_type": "markdown",
   "metadata": {
    "id": "WRKiOTJ-hjeb"
   },
   "source": [
    "Handling Month Column:"
   ]
  },
  {
   "cell_type": "code",
   "execution_count": null,
   "metadata": {
    "colab": {
     "base_uri": "https://localhost:8080/",
     "height": 275
    },
    "id": "O3Ji4ytOIzEC",
    "outputId": "6102c172-bd39-421e-b68f-8ab0bc04d9c0"
   },
   "outputs": [],
   "source": [
    "#Mean Encoding of Month Variable according to Target (Arrival_Delay)\n",
    "\n",
    "#calculate mean of target in train data according to month\n",
    "Mean_encoded_month = train_transformed.groupby(['month'])['arrival_delay_converted'].mean().to_dict() \n",
    "\n",
    "\n",
    "print(Mean_encoded_month)\n",
    "\n",
    "print(\"===========================================================================================\")\n",
    "\n",
    "#use the SAME train mean value for both train,test encoding to avoid data leakage\n",
    "train_transformed['month_encoded'] =  train_transformed['month'].map(Mean_encoded_month) \n",
    "test_transformed['month_encoded'] =  test_transformed['month'].map(Mean_encoded_month) \n",
    "\n",
    "#somewhat follows trend we saw while doing EDA of average delayed flights per month\n",
    "\n",
    "train_transformed.head()"
   ]
  },
  {
   "cell_type": "code",
   "execution_count": null,
   "metadata": {
    "colab": {
     "base_uri": "https://localhost:8080/",
     "height": 241
    },
    "id": "jh0y_s78R5w6",
    "outputId": "00f157f7-11f0-4ffd-83c4-51e638ea622b"
   },
   "outputs": [],
   "source": [
    "test_transformed.head()"
   ]
  },
  {
   "cell_type": "code",
   "execution_count": null,
   "metadata": {
    "id": "7v-einoALeMO"
   },
   "outputs": [],
   "source": [
    "#drop column after encoding\n",
    "train_transformed.drop('month',axis=1,inplace=True)\n",
    "test_transformed.drop('month',axis=1,inplace=True)"
   ]
  },
  {
   "cell_type": "code",
   "execution_count": null,
   "metadata": {
    "id": "KrQE9IAYgirC"
   },
   "outputs": [],
   "source": []
  },
  {
   "cell_type": "code",
   "execution_count": null,
   "metadata": {
    "id": "2F9ERiCegis8"
   },
   "outputs": [],
   "source": []
  },
  {
   "cell_type": "code",
   "execution_count": null,
   "metadata": {
    "id": "2KcoziGwgUqC"
   },
   "outputs": [],
   "source": []
  },
  {
   "cell_type": "code",
   "execution_count": null,
   "metadata": {
    "id": "3Lxz1pWpgjMY"
   },
   "outputs": [],
   "source": []
  },
  {
   "cell_type": "code",
   "execution_count": null,
   "metadata": {
    "id": "PB-JaP41gjOQ"
   },
   "outputs": [],
   "source": []
  },
  {
   "cell_type": "code",
   "execution_count": null,
   "metadata": {
    "colab": {
     "base_uri": "https://localhost:8080/"
    },
    "id": "yiJfcZsadVEo",
    "outputId": "82ba11a1-547d-4997-c922-35bb80f671e2"
   },
   "outputs": [],
   "source": [
    "#ID_COL= ''\n",
    "TARGET_COL='arrival_delay_converted'\n",
    "\n",
    "features = [c for c in train_transformed.columns if c not in [TARGET_COL]]\n",
    "print(f'\\nThe train dataset contains {len(features)} input features')\n",
    "\n",
    "#also let's drop the ID_COL from dataframe right now itself\n",
    "#data= data.drop([ID_COL],axis=1)"
   ]
  },
  {
   "cell_type": "code",
   "execution_count": null,
   "metadata": {
    "colab": {
     "base_uri": "https://localhost:8080/"
    },
    "id": "5XUBOO0i4Mls",
    "outputId": "2724208e-a67b-4743-d3e4-b44202f5ab82"
   },
   "outputs": [],
   "source": [
    "features"
   ]
  },
  {
   "cell_type": "code",
   "execution_count": null,
   "metadata": {
    "colab": {
     "base_uri": "https://localhost:8080/"
    },
    "id": "AsLf7z4PxGO0",
    "outputId": "3001189d-e756-4016-9eaa-f62dc7ba1953"
   },
   "outputs": [],
   "source": [
    "print(train_transformed.shape)\n",
    "print(test_transformed.shape)\n"
   ]
  },
  {
   "cell_type": "markdown",
   "metadata": {
    "id": "ypcRM96d5gNG"
   },
   "source": [
    "Get Features and Predictor Variable Vales:"
   ]
  },
  {
   "cell_type": "code",
   "execution_count": null,
   "metadata": {
    "id": "plE1f2XRc8k1"
   },
   "outputs": [],
   "source": [
    "#Input to our model will be the features\n",
    "X_trn, X_test = train_transformed[features], test_transformed[features]\n",
    "\n",
    "#Output of our model will be the TARGET_COL\n",
    "y_trn, y_test = train_transformed[TARGET_COL], test_transformed[TARGET_COL]"
   ]
  },
  {
   "cell_type": "code",
   "execution_count": null,
   "metadata": {
    "colab": {
     "base_uri": "https://localhost:8080/",
     "height": 241
    },
    "id": "2p1SQjuidjwb",
    "outputId": "5db399ad-3005-46b6-eccc-49be041762fd"
   },
   "outputs": [],
   "source": [
    "X_trn.head()"
   ]
  },
  {
   "cell_type": "code",
   "execution_count": null,
   "metadata": {
    "colab": {
     "base_uri": "https://localhost:8080/"
    },
    "id": "iuVuoZLfeRyv",
    "outputId": "ef609e3b-552d-498c-f243-88f17eebb8c3"
   },
   "outputs": [],
   "source": [
    "y_trn #actual values of target in train dataset"
   ]
  },
  {
   "cell_type": "code",
   "execution_count": null,
   "metadata": {
    "id": "7qrJ2iIJeZgi"
   },
   "outputs": [],
   "source": []
  },
  {
   "cell_type": "code",
   "execution_count": null,
   "metadata": {
    "id": "C-I5aQIlDPQ_"
   },
   "outputs": [],
   "source": []
  },
  {
   "cell_type": "markdown",
   "metadata": {
    "id": "iGbEe_HuDQrJ"
   },
   "source": [
    "**List of all columns after Categorical Variables are encoded**"
   ]
  },
  {
   "cell_type": "code",
   "execution_count": null,
   "metadata": {
    "colab": {
     "base_uri": "https://localhost:8080/"
    },
    "id": "otc8QxjHgdTM",
    "outputId": "fa08293d-3574-4b09-8ac4-5c5c277e7b3a"
   },
   "outputs": [],
   "source": [
    "\n",
    "cols=X_trn.columns.tolist()\n",
    "cols"
   ]
  },
  {
   "cell_type": "code",
   "execution_count": null,
   "metadata": {
    "id": "tXbFoCWCC0Th"
   },
   "outputs": [],
   "source": [
    "\n",
    "num_cols=[ 'month_encoded',\n",
    " 'D_DewPointC', 'D_WindGustKmph', 'D_cloudcover', 'D_humidity', 'D_precipMM', 'D_pressure', 'D_tempC', 'D_visibility','D_winddirDegree', 'D_windspeedKmph', \n",
    " 'A_DewPointC', 'A_WindGustKmph','A_cloudcover', 'A_humidity', 'A_precipMM', 'A_pressure', 'A_tempC','A_visibility', 'A_winddirDegree', 'A_windspeedKmph',\n",
    " 'duration_converted', 'departure_delay_converted', ]\n",
    "\n",
    "cat_cols=[\n",
    "       'Airplane Type_A20N','Airplane Type_A320', 'Airplane Type_B737', 'Airplane Type_B738',\n",
    "       'Carrier_Air Asia', 'Carrier_Air India', 'Carrier_Go Air','Carrier_Indigo', 'Carrier_Spicejet', 'Carrier_Vistara',\n",
    "       'Departure Airport_BLR', 'Departure Airport_BOM','Departure Airport_CCU', 'Departure Airport_DEL', \n",
    "       'Arrival Airport_BOM','Arrival Airport_DEL', 'Arrival Airport_HYD', \n",
    "       'year_2018', 'year_2019','year_2020']"
   ]
  },
  {
   "cell_type": "code",
   "execution_count": null,
   "metadata": {
    "colab": {
     "base_uri": "https://localhost:8080/"
    },
    "id": "6E1oDRjECU9u",
    "outputId": "612f581d-a5d2-46d0-9d8a-65f24c0573f6"
   },
   "outputs": [],
   "source": [
    "num_cols_index=[X_trn.columns.get_loc(c) for c in num_cols if c in X_trn]\n",
    "num_cols_index"
   ]
  },
  {
   "cell_type": "code",
   "execution_count": null,
   "metadata": {
    "colab": {
     "base_uri": "https://localhost:8080/"
    },
    "id": "Sj9lRbkNgdUz",
    "outputId": "b2f3f12a-2dc8-4ef6-947a-f50c6b36db5a"
   },
   "outputs": [],
   "source": [
    "cat_cols_index=[X_trn.columns.get_loc(c) for c in cat_cols if c in X_trn]\n",
    "cat_cols_index"
   ]
  },
  {
   "cell_type": "code",
   "execution_count": null,
   "metadata": {
    "id": "w64yUzPW5uRQ"
   },
   "outputs": [],
   "source": []
  },
  {
   "cell_type": "code",
   "execution_count": null,
   "metadata": {
    "id": "urvXEvYvDOEN"
   },
   "outputs": [],
   "source": []
  },
  {
   "cell_type": "markdown",
   "metadata": {
    "id": "lIF3rGNNfCW7"
   },
   "source": [
    "2. StandardScaler on numerical features\n"
   ]
  },
  {
   "cell_type": "code",
   "execution_count": null,
   "metadata": {
    "id": "pGvHLg3bee-4"
   },
   "outputs": [],
   "source": [
    "#Standardize numeirc features by removing the mean and scaling to unit variance. This is necessary for Logistic Regression.\n",
    "from sklearn.preprocessing import StandardScaler\n",
    "\n",
    "scaler = StandardScaler()\n",
    "_ = scaler.fit(X_trn)\n",
    "\n",
    "X_trn = scaler.transform(X_trn)\n",
    "X_test = scaler.transform(X_test)"
   ]
  },
  {
   "cell_type": "code",
   "execution_count": null,
   "metadata": {
    "colab": {
     "base_uri": "https://localhost:8080/"
    },
    "id": "vzV6VlLSwt1k",
    "outputId": "d0ce525c-92bd-4992-89c4-884020bee203"
   },
   "outputs": [],
   "source": [
    "print(X_trn.shape)\n",
    "print(X_test.shape)"
   ]
  },
  {
   "cell_type": "code",
   "execution_count": null,
   "metadata": {
    "colab": {
     "base_uri": "https://localhost:8080/"
    },
    "id": "H9AtCyaucpUJ",
    "outputId": "95c47c99-33c3-4cb4-f52d-6d7b5a3dc745"
   },
   "outputs": [],
   "source": [
    "X_trn[0] #1st row in train dataset"
   ]
  },
  {
   "cell_type": "code",
   "execution_count": null,
   "metadata": {
    "colab": {
     "base_uri": "https://localhost:8080/"
    },
    "id": "_ANpX7tTef6q",
    "outputId": "59c99786-b62a-4293-bcd6-56baf2bef572"
   },
   "outputs": [],
   "source": [
    "X_test #test dataset after transformation"
   ]
  },
  {
   "cell_type": "code",
   "execution_count": null,
   "metadata": {
    "id": "WVx-1Dah4K1P"
   },
   "outputs": [],
   "source": []
  },
  {
   "cell_type": "markdown",
   "metadata": {
    "id": "2dgrQCLarIl6"
   },
   "source": [
    "**Metric for our Regression Problem:**\n",
    "\n",
    "\n",
    "1. **RMSE**\n",
    "2. **R2 Value**"
   ]
  },
  {
   "cell_type": "code",
   "execution_count": null,
   "metadata": {
    "id": "21nnMKmYsRV_"
   },
   "outputs": [],
   "source": [
    "from sklearn.metrics import mean_squared_error, mean_squared_log_error\n",
    "\n",
    "def rmse(y_true, y_pred):\n",
    "  return np.sqrt(mean_squared_error(y_true, y_pred))\n",
    "\n",
    "def rmsle(y_true, y_pred):\n",
    "  return np.sqrt(mean_squared_log_error(y_true, y_pred))\n"
   ]
  },
  {
   "cell_type": "code",
   "execution_count": null,
   "metadata": {
    "colab": {
     "base_uri": "https://localhost:8080/"
    },
    "id": "gDFFWM8mtc5V",
    "outputId": "3c0f3909-7295-4cd1-9d8a-f5398d2a038e"
   },
   "outputs": [],
   "source": [
    "y_trn #actual values of target in train dataset"
   ]
  },
  {
   "cell_type": "code",
   "execution_count": null,
   "metadata": {
    "id": "npBVXa0o1_YS"
   },
   "outputs": [],
   "source": []
  },
  {
   "cell_type": "markdown",
   "metadata": {
    "id": "2a9WISg0tRxG"
   },
   "source": [
    "**Baseline Model 1: Predicting Every instance as Mean of Target Column**"
   ]
  },
  {
   "cell_type": "code",
   "execution_count": null,
   "metadata": {
    "colab": {
     "base_uri": "https://localhost:8080/"
    },
    "id": "yw7gM-cKtAtG",
    "outputId": "b51309ae-424a-4ba0-cb66-279e79dfe530"
   },
   "outputs": [],
   "source": [
    "#predictions on train data\n",
    "preds_train = pd.Series([y_trn.mean()] * len(X_trn))\n",
    "print(preds_train)\n",
    "\n",
    "#performance on train data\n",
    "rmse_score = rmse(y_trn,preds_train)\n",
    "#rmsle_score = rmsle(y_trn, preds_target)\n",
    "\n",
    "print(f'RMSE metric score for Train Data is: {rmse_score}')\n",
    "#print(f'RMSLE metric score is: {rmsle_score}')"
   ]
  },
  {
   "cell_type": "code",
   "execution_count": null,
   "metadata": {
    "colab": {
     "base_uri": "https://localhost:8080/"
    },
    "id": "3jTuhirTtGHm",
    "outputId": "ea8c5e71-bffb-4517-809e-6eff71965763"
   },
   "outputs": [],
   "source": [
    "#predictions on Test data (using mean of target in train data)\n",
    "\n",
    "preds_test = pd.Series([y_trn.mean()] * len(X_test))\n",
    "print(preds_test)\n",
    "\n",
    "\n",
    "#performance on Test Data\n",
    "rmse_score = rmse(y_test,preds_test)\n",
    "\n",
    "print(f'RMSE metric score for Test Data is: {rmse_score}')\n"
   ]
  },
  {
   "cell_type": "code",
   "execution_count": null,
   "metadata": {
    "id": "3ajulfuBwewu"
   },
   "outputs": [],
   "source": []
  },
  {
   "cell_type": "markdown",
   "metadata": {
    "id": "loJAHf581iJT"
   },
   "source": [
    "**Baseline Model 2: Predicting Every instance as Median of Target Column**"
   ]
  },
  {
   "cell_type": "code",
   "execution_count": null,
   "metadata": {
    "colab": {
     "base_uri": "https://localhost:8080/"
    },
    "id": "sJwjajh91mp7",
    "outputId": "7cf06b66-3066-4ac5-b6e8-4e5cc8d817b5"
   },
   "outputs": [],
   "source": [
    "#predictions on train data\n",
    "preds_train = pd.Series([y_trn.median()] * len(X_trn))\n",
    "print(preds_train)\n",
    "\n",
    "#performance on train data\n",
    "rmse_score = rmse(y_trn,preds_train)\n",
    "\n",
    "print(f'RMSE metric score for Train Data is: {rmse_score}')"
   ]
  },
  {
   "cell_type": "code",
   "execution_count": null,
   "metadata": {
    "colab": {
     "base_uri": "https://localhost:8080/"
    },
    "id": "XOYeD3OO15gC",
    "outputId": "26b93e59-f880-4617-c915-9b1e1bde06df"
   },
   "outputs": [],
   "source": [
    "#predictions on Test data (using median of target in train data)\n",
    "\n",
    "preds_test = pd.Series([y_trn.median()] * len(X_test))\n",
    "print(preds_test)\n",
    "\n",
    "\n",
    "#performance on Test Data\n",
    "rmse_score = rmse(y_test,preds_test)\n",
    "\n",
    "print(f'RMSE metric score for Test Data is: {rmse_score}')"
   ]
  },
  {
   "cell_type": "code",
   "execution_count": null,
   "metadata": {
    "id": "l3KntSfg2K-k"
   },
   "outputs": [],
   "source": []
  },
  {
   "cell_type": "code",
   "execution_count": null,
   "metadata": {
    "id": "iJEwwbp52vPQ"
   },
   "outputs": [],
   "source": [
    "from sklearn.metrics import r2_score\n",
    "from sklearn.linear_model import LinearRegression, ElasticNet\n",
    "from sklearn.tree import DecisionTreeRegressor\n",
    "from sklearn.ensemble import RandomForestRegressor\n",
    "from lightgbm import LGBMRegressor\n",
    "from xgboost import XGBRegressor"
   ]
  },
  {
   "cell_type": "code",
   "execution_count": null,
   "metadata": {
    "id": "_bp6NJvz3Hm0"
   },
   "outputs": [],
   "source": []
  },
  {
   "cell_type": "code",
   "execution_count": null,
   "metadata": {
    "id": "q53oItM0FwLV"
   },
   "outputs": [],
   "source": []
  },
  {
   "cell_type": "code",
   "execution_count": null,
   "metadata": {
    "id": "MKmVbBCvFwNP"
   },
   "outputs": [],
   "source": [
    "rmse_scores={}\n",
    "coeff_det={}\n"
   ]
  },
  {
   "cell_type": "markdown",
   "metadata": {
    "id": "wwF3YOKe7EU8"
   },
   "source": [
    "# Model 1: Linear Regression\n",
    "\n",
    "a) Only Numeric Columns\n"
   ]
  },
  {
   "cell_type": "code",
   "execution_count": null,
   "metadata": {
    "colab": {
     "base_uri": "https://localhost:8080/"
    },
    "id": "iwy6eQvS9BeJ",
    "outputId": "ffe98155-f302-424f-c73e-4c79505f8102"
   },
   "outputs": [],
   "source": [
    "X_trn[:, num_cols_index]\n"
   ]
  },
  {
   "cell_type": "code",
   "execution_count": null,
   "metadata": {
    "colab": {
     "base_uri": "https://localhost:8080/"
    },
    "id": "5BX8xxdrEynD",
    "outputId": "94dfc4ae-1025-498e-f45f-392046162857"
   },
   "outputs": [],
   "source": [
    "X_trn[:, num_cols_index].shape"
   ]
  },
  {
   "cell_type": "code",
   "execution_count": null,
   "metadata": {
    "colab": {
     "base_uri": "https://localhost:8080/"
    },
    "id": "giE2WmYG7Qv2",
    "outputId": "ad87780b-c1ea-4558-ab0b-0a17b2dfbb37"
   },
   "outputs": [],
   "source": [
    "lr1 = LinearRegression()\n",
    "\n",
    "_ = lr1.fit(X_trn[:, num_cols_index], y_trn)\n",
    "\n",
    "\n",
    "\n",
    "\n",
    "preds_test = lr1.predict(X_test[:, num_cols_index])\n",
    "\n",
    "rmse_score = rmse(y_test,preds_test)\n",
    "print(f'RMSE metric score for Test Data is: {rmse_score}')\n"
   ]
  },
  {
   "cell_type": "markdown",
   "metadata": {
    "id": "JBBuW3gy7yii"
   },
   "source": [
    "\n",
    "b) Only Categorical Columns\n"
   ]
  },
  {
   "cell_type": "code",
   "execution_count": null,
   "metadata": {
    "colab": {
     "base_uri": "https://localhost:8080/"
    },
    "id": "WSERQumi7ziN",
    "outputId": "84be84f2-4fe9-4f7d-af08-94adf6a7734a"
   },
   "outputs": [],
   "source": [
    "lr2 = LinearRegression()\n",
    "\n",
    "_ = lr2.fit(X_trn[:, cat_cols_index], y_trn)\n",
    "\n",
    "\n",
    "\n",
    "\n",
    "preds_test = lr2.predict(X_test[:, cat_cols_index])\n",
    "\n",
    "rmse_score = rmse(y_test,preds_test)\n",
    "print(f'RMSE metric score for Test Data is: {rmse_score}')\n"
   ]
  },
  {
   "cell_type": "markdown",
   "metadata": {
    "id": "j6R-ZY4M7z5X"
   },
   "source": [
    "\n",
    "c) Both Numeric and Categorical Columns"
   ]
  },
  {
   "cell_type": "code",
   "execution_count": null,
   "metadata": {
    "id": "EY4nAcBe70Pm"
   },
   "outputs": [],
   "source": [
    "lr3 = LinearRegression()\n",
    "\n",
    "_ = lr3.fit(X_trn, y_trn)\n",
    "\n",
    "#Predictions on Test Data\n",
    "preds_test = lr3.predict(X_test)\n"
   ]
  },
  {
   "cell_type": "code",
   "execution_count": null,
   "metadata": {
    "colab": {
     "base_uri": "https://localhost:8080/"
    },
    "id": "_RbWmOc8Fy73",
    "outputId": "8a7588c0-fdb4-496c-96a6-7d2a1acc91cb"
   },
   "outputs": [],
   "source": [
    "print('Performance Metrics for Linear Regression on Test Data: \\n')\n",
    "\n",
    "\n",
    "# The Root Mean Squared error\n",
    "rmse_score = rmse(y_test,preds_test)\n",
    "print(f'RMSE metric score is: {rmse_score}')\n",
    "\n",
    "# The mean squared error\n",
    "print('Mean squared error: %.2f' % mean_squared_error(y_test, preds_test))\n",
    "\n",
    "# The coefficient of determination: 1 is perfect prediction\n",
    "print('Coefficient of determination: %.2f'% r2_score(y_test, preds_test))"
   ]
  },
  {
   "cell_type": "code",
   "execution_count": null,
   "metadata": {
    "colab": {
     "base_uri": "https://localhost:8080/"
    },
    "id": "Tb_UfbC3O1eT",
    "outputId": "2267cca6-c64d-4a40-8686-7ade826e10c1"
   },
   "outputs": [],
   "source": [
    "# The coefficients\n",
    "print('Coefficients of Linear Regression: \\n', lr3.coef_)\n"
   ]
  },
  {
   "cell_type": "code",
   "execution_count": null,
   "metadata": {
    "id": "At_M7cvMPNAI"
   },
   "outputs": [],
   "source": [
    "rmse_scores['lr3']= 6.609363296368543\n",
    "coeff_det['lr3']=0.80\n"
   ]
  },
  {
   "cell_type": "code",
   "execution_count": null,
   "metadata": {
    "id": "5vky4sxQnw0h"
   },
   "outputs": [],
   "source": [
    "#Plot:"
   ]
  },
  {
   "cell_type": "code",
   "execution_count": null,
   "metadata": {
    "id": "5CgmGOOWGC_B"
   },
   "outputs": [],
   "source": [
    "plt.scatter(y_pred, y_test)\n",
    "plt.plot(np.linspace(0,400,400), np.linspace(0,400,400), c = 'orange', linestyle='--')\n",
    "plt.xlabel('prediction')\n",
    "plt.ylabel('true values')\n",
    "plt.xlim(0,400)\n",
    "plt.ylim(0,400)\n",
    "plt.title('Predicted vs True values')"
   ]
  },
  {
   "cell_type": "code",
   "execution_count": null,
   "metadata": {
    "id": "LWUoHr8wGDBg"
   },
   "outputs": [],
   "source": []
  },
  {
   "cell_type": "markdown",
   "metadata": {
    "id": "FN2_L4sSGDQm"
   },
   "source": [
    "# Model 2: SVM Regressor\n",
    "\n",
    "a) Linear SVR\n"
   ]
  },
  {
   "cell_type": "code",
   "execution_count": null,
   "metadata": {
    "colab": {
     "base_uri": "https://localhost:8080/",
     "height": 232
    },
    "id": "MoYLSlr5GH_i",
    "outputId": "d0ba2441-6831-4c7b-988b-2f12cfc83c88"
   },
   "outputs": [],
   "source": [
    "from sklearn.svm import SVR\n",
    "lr_svr = SVR(kernel='linear')\n",
    "\n",
    "_ = lr_svr.fit(X_trn[:, num_cols_index], y_trn)\n",
    "\n",
    "\n",
    "\n",
    "#get predictions on test data\n",
    "preds_test = lr_svr.predict(X_test[:, num_cols_index])\n"
   ]
  },
  {
   "cell_type": "code",
   "execution_count": null,
   "metadata": {
    "id": "rCoV_0zLPeC4"
   },
   "outputs": [],
   "source": [
    "print('Performance Metrics for Support Vector Regression on Test Data: \\n')\n",
    "\n",
    "\n",
    "# The Root Mean Squared error\n",
    "rmse_score = rmse(y_test,preds_test)\n",
    "print(f'RMSE metric score is: {rmse_score}')\n",
    "\n",
    "# The mean squared error\n",
    "print('Mean squared error: %.2f' % mean_squared_error(y_test, preds_test))\n",
    "\n",
    "# The coefficient of determination: 1 is perfect prediction\n",
    "print('Coefficient of determination: %.2f'% r2_score(y_test, preds_test))"
   ]
  },
  {
   "cell_type": "code",
   "execution_count": null,
   "metadata": {
    "colab": {
     "background_save": true
    },
    "id": "jUEcJjMuGID4",
    "outputId": "9a69ddce-433f-4d42-866e-a5cd62c0e1b1"
   },
   "outputs": [],
   "source": [
    "from sklearn.model_selection import GridSearchCV\n",
    "\n",
    "hyperparam_combs = {\n",
    "    \n",
    "    'C':[0.125, 0.5, 1, 2, 8, 16]\n",
    "\n",
    "    }\n",
    "\n",
    "\n",
    "lr_svr = GridSearchCV(SVR(kernel='linear'),\n",
    "                         hyperparam_combs,\n",
    "                         scoring='neg_root_mean_squared_error',\n",
    "                         )\n",
    "\n",
    "search = lr_svr.fit(X_trn, y_trn)\n",
    "\n",
    "search.best_params_"
   ]
  },
  {
   "cell_type": "code",
   "execution_count": null,
   "metadata": {
    "id": "gd2KdAKmQoNI"
   },
   "outputs": [],
   "source": [
    "best_params = {'C':0.5\n",
    "}\n",
    "\n",
    "lr_svr_tuned = SVR(**best_params)\n",
    "\n",
    "_ = lr_svr_tuned.fit(X_trn, y_trn)\n",
    "\n",
    "\n",
    "\n",
    "#Predictions on Test Data\n",
    "preds_test = lr_svr_tuned.predict(X_test)"
   ]
  },
  {
   "cell_type": "code",
   "execution_count": null,
   "metadata": {
    "colab": {
     "base_uri": "https://localhost:8080/"
    },
    "id": "YVghk-foPy5D",
    "outputId": "d914e6b8-a90e-4780-f0ab-8f7768d3281c"
   },
   "outputs": [],
   "source": [
    "print('Performance Metrics for Support Vector Regression on Test Data: \\n')\n",
    "\n",
    "\n",
    "# The Root Mean Squared error\n",
    "rmse_score = rmse(y_test,preds_test)\n",
    "print(f'RMSE metric score is: {rmse_score}')\n",
    "\n",
    "# The mean squared error\n",
    "print('Mean squared error: %.2f' % mean_squared_error(y_test, preds_test))\n",
    "\n",
    "# The coefficient of determination: 1 is perfect prediction\n",
    "print('Coefficient of determination: %.2f'% r2_score(y_test, preds_test))"
   ]
  },
  {
   "cell_type": "code",
   "execution_count": null,
   "metadata": {
    "id": "AmlTS6MSGh11"
   },
   "outputs": [],
   "source": []
  },
  {
   "cell_type": "code",
   "execution_count": null,
   "metadata": {
    "id": "GbxG5xCoGh4D"
   },
   "outputs": [],
   "source": []
  },
  {
   "cell_type": "code",
   "execution_count": null,
   "metadata": {
    "id": "yp-qbe-WGirE"
   },
   "outputs": [],
   "source": [
    "rmse_scores['linear_svr']= 8.568946496064715\n",
    "coeff_det['linear_svr']=0.67\n"
   ]
  },
  {
   "cell_type": "code",
   "execution_count": null,
   "metadata": {
    "id": "15-vPpX7GitJ"
   },
   "outputs": [],
   "source": []
  },
  {
   "cell_type": "markdown",
   "metadata": {
    "id": "4Tx3p447Txrx"
   },
   "source": [
    "\n",
    "b) Kernel SVR"
   ]
  },
  {
   "cell_type": "code",
   "execution_count": null,
   "metadata": {
    "id": "mrobbRJCUb3f"
   },
   "outputs": [],
   "source": [
    "from sklearn.svm import SVR\n",
    "kernel_svr = SVR(kernel='rbf')\n",
    "\n",
    "_ = kernel_svr.fit(X_trn[:, num_cols_index], y_trn)\n",
    "\n",
    "#get predictions on test data\n",
    "preds_test = kernel_svr.predict(X_test[:, num_cols_index])\n"
   ]
  },
  {
   "cell_type": "code",
   "execution_count": null,
   "metadata": {
    "colab": {
     "base_uri": "https://localhost:8080/"
    },
    "id": "thUqs7V5U7RV",
    "outputId": "22a84437-a9e5-4222-a461-9a2f7091409b"
   },
   "outputs": [],
   "source": [
    "print('Performance Metrics for Kernal SVR on Test Data: \\n')\n",
    "\n",
    "\n",
    "# The Root Mean Squared error\n",
    "rmse_score = rmse(y_test,preds_test)\n",
    "print(f'RMSE metric score is: {rmse_score}')\n",
    "\n",
    "# The mean squared error\n",
    "print('Mean squared error: %.2f' % mean_squared_error(y_test, preds_test))\n",
    "\n",
    "# The coefficient of determination: 1 is perfect prediction\n",
    "print('Coefficient of determination: %.2f'% r2_score(y_test, preds_test))"
   ]
  },
  {
   "cell_type": "code",
   "execution_count": null,
   "metadata": {
    "colab": {
     "base_uri": "https://localhost:8080/"
    },
    "id": "WsaE3LnjPy69",
    "outputId": "3f45e892-143f-43fa-b1c1-7d8a15d17ccf"
   },
   "outputs": [],
   "source": [
    "hyperparam_combs={\n",
    "\n",
    "'C': [0.1, 0.5, 1, 10, 100, 1000],  \n",
    "              'gamma': [1, 0.1, 0.01, 0.001, 0.0001]\n",
    "\n",
    "}\n",
    "\n",
    "kernel_svr = GridSearchCV(SVR(kernel='rbf'),\n",
    "                         hyperparam_combs,\n",
    "                         scoring='neg_root_mean_squared_error',\n",
    "                         )\n",
    "\n",
    "search = kernel_svr.fit(X_trn, y_trn)\n",
    "\n",
    "search.best_params_"
   ]
  },
  {
   "cell_type": "code",
   "execution_count": null,
   "metadata": {
    "id": "gmxh1GS5Y1rt"
   },
   "outputs": [],
   "source": [
    "best_params = {'C':100, 'gamma': 0.01\n",
    "}\n",
    "\n",
    "kernel_svr_tuned = SVR(kernel='rbf',**best_params)\n",
    "\n",
    "_ = kernel_svr_tuned.fit(X_trn, y_trn)\n",
    "\n",
    "\n",
    "#Predictions on Test Data\n",
    "preds_test = kernel_svr_tuned.predict(X_test)"
   ]
  },
  {
   "cell_type": "code",
   "execution_count": null,
   "metadata": {
    "colab": {
     "base_uri": "https://localhost:8080/"
    },
    "id": "Ro6X6sBfPy9M",
    "outputId": "56100856-f59a-4fad-b818-05ed01ba286f"
   },
   "outputs": [],
   "source": [
    "print('Performance Metrics for Support Vector Regression on Test Data: \\n')\n",
    "\n",
    "# The Root Mean Squared error\n",
    "rmse_score = rmse(y_test,preds_test)\n",
    "print(f'RMSE metric score is: {rmse_score}')\n",
    "\n",
    "# The mean squared error\n",
    "print('Mean squared error: %.2f' % mean_squared_error(y_test, preds_test))\n",
    "\n",
    "# The coefficient of determination: 1 is perfect prediction\n",
    "print('Coefficient of determination: %.2f'% r2_score(y_test, preds_test))"
   ]
  },
  {
   "cell_type": "code",
   "execution_count": null,
   "metadata": {
    "id": "vPOKtD7TZRio"
   },
   "outputs": [],
   "source": []
  },
  {
   "cell_type": "code",
   "execution_count": null,
   "metadata": {
    "id": "6caXDQNJZRna"
   },
   "outputs": [],
   "source": [
    "rmse_scores['kernel_svr']= 4.165074172142831\n",
    "coeff_det['kernel_svr']=0.92\n"
   ]
  },
  {
   "cell_type": "markdown",
   "metadata": {
    "id": "4MuRGzFYFzqS"
   },
   "source": [
    "# Model 3: Decision Tree Regressor"
   ]
  },
  {
   "cell_type": "code",
   "execution_count": null,
   "metadata": {
    "id": "Tjpq0v9-Fy-Y"
   },
   "outputs": [],
   "source": [
    "dt = DecisionTreeRegressor(random_state=2)\n",
    "\n",
    "_ = dt.fit(X_trn, y_trn)\n",
    "\n",
    "\n",
    "#Predictions on Test Data\n",
    "preds_test = dt.predict(X_test)\n"
   ]
  },
  {
   "cell_type": "code",
   "execution_count": null,
   "metadata": {
    "colab": {
     "base_uri": "https://localhost:8080/"
    },
    "id": "tSf9yeYEP5-w",
    "outputId": "3f11c005-1c9b-4817-d9a6-f316dfd039d3"
   },
   "outputs": [],
   "source": [
    "print('Performance Metrics for Decision Tree on Test Data: \\n')\n",
    "\n",
    "# The Root Mean Squared error\n",
    "rmse_score = rmse(y_test,preds_test)\n",
    "print(f'RMSE metric score is: {rmse_score}')\n",
    "\n",
    "# The mean squared error\n",
    "print('Mean squared error: %.2f' % mean_squared_error(y_test, preds_test))\n",
    "\n",
    "# The coefficient of determination: 1 is perfect prediction\n",
    "print('Coefficient of determination: %.2f'% r2_score(y_test, preds_test))"
   ]
  },
  {
   "cell_type": "code",
   "execution_count": null,
   "metadata": {
    "colab": {
     "base_uri": "https://localhost:8080/"
    },
    "id": "kDwrJ9M3QDdd",
    "outputId": "a0863842-a3cf-4f9c-852e-0579563fd318"
   },
   "outputs": [],
   "source": [
    "dt.get_params()"
   ]
  },
  {
   "cell_type": "code",
   "execution_count": null,
   "metadata": {
    "id": "z7fc0kkAG-cM"
   },
   "outputs": [],
   "source": []
  },
  {
   "cell_type": "code",
   "execution_count": null,
   "metadata": {
    "id": "p_KoISf3G-eT"
   },
   "outputs": [],
   "source": []
  },
  {
   "cell_type": "code",
   "execution_count": null,
   "metadata": {
    "id": "s6aRHrwcG-gU"
   },
   "outputs": [],
   "source": [
    "rmse_scores['dt']= 7.579939863342771\n",
    "coeff_det['dt']=0.74\n"
   ]
  },
  {
   "cell_type": "code",
   "execution_count": null,
   "metadata": {
    "id": "Yg8G9O0vG_KZ"
   },
   "outputs": [],
   "source": []
  },
  {
   "cell_type": "markdown",
   "metadata": {
    "id": "3g6BZcGAQLFC"
   },
   "source": [
    "**Hyperparameter Tuning on Decision Tree Regressor**"
   ]
  },
  {
   "cell_type": "code",
   "execution_count": null,
   "metadata": {
    "colab": {
     "base_uri": "https://localhost:8080/"
    },
    "id": "Da_rYYPNQPX5",
    "outputId": "d44c15b9-4959-4665-8243-ae8ac33379bb"
   },
   "outputs": [],
   "source": [
    "from sklearn.model_selection import RandomizedSearchCV\n",
    "\n",
    "hyperparam_combs = {\n",
    "    'max_depth': [4, 6, 8, 10, 12],\n",
    "    'min_samples_split': [2, 10, 20, 30, 40],\n",
    "    'max_features': [0.2, 0.4, 0.6, 0.8, 1],\n",
    "    'max_leaf_nodes': [8, 16, 32, 64, 128],\n",
    "}\n",
    "\n",
    "\n",
    "dt = RandomizedSearchCV(DecisionTreeRegressor(),\n",
    "                         hyperparam_combs,\n",
    "                         scoring='neg_root_mean_squared_error',\n",
    "                         random_state=2,\n",
    "                         n_iter=30)\n",
    "\n",
    "search = dt.fit(X_trn, y_trn)\n",
    "\n",
    "search.best_params_"
   ]
  },
  {
   "cell_type": "code",
   "execution_count": null,
   "metadata": {
    "id": "k2Oxo4fsTpsD"
   },
   "outputs": [],
   "source": [
    "best_params = {'max_depth': 10,\n",
    " 'max_features': 0.6,\n",
    " 'max_leaf_nodes': 128,\n",
    " 'min_samples_split': 20,\n",
    "}\n",
    "\n",
    "dt_tuned = DecisionTreeRegressor(random_state = 2,**best_params)\n",
    "\n",
    "_ = dt_tuned.fit(X_trn, y_trn)\n",
    "\n",
    "\n",
    "\n",
    "#Predictions on Test Data\n",
    "preds_test = dt_tuned.predict(X_test)"
   ]
  },
  {
   "cell_type": "code",
   "execution_count": null,
   "metadata": {
    "colab": {
     "base_uri": "https://localhost:8080/"
    },
    "id": "WvKOmYo7USnb",
    "outputId": "99f070e3-65a6-4907-d487-7851a637c583"
   },
   "outputs": [],
   "source": [
    "print('Performance Metrics for Decision Tree on Test Data: \\n')\n",
    "\n",
    "# The Root Mean Squared error\n",
    "rmse_score = rmse(y_test,preds_test)\n",
    "print(f'RMSE metric score is: {rmse_score}')\n",
    "\n",
    "# The mean squared error\n",
    "print('Mean squared error: %.2f' % mean_squared_error(y_test, preds_test))\n",
    "\n",
    "# The coefficient of determination: 1 is perfect prediction\n",
    "print('Coefficient of determination: %.2f'% r2_score(y_test, preds_test))"
   ]
  },
  {
   "cell_type": "code",
   "execution_count": null,
   "metadata": {
    "id": "MLggaQusU5kn"
   },
   "outputs": [],
   "source": []
  },
  {
   "cell_type": "code",
   "execution_count": null,
   "metadata": {
    "id": "hwFYHOSGCCpw"
   },
   "outputs": [],
   "source": []
  },
  {
   "cell_type": "markdown",
   "metadata": {
    "id": "cRNRFxhLCFYF"
   },
   "source": [
    "# Model 4: Random Forest Regressor"
   ]
  },
  {
   "cell_type": "code",
   "execution_count": null,
   "metadata": {
    "id": "8tTqxz2lCCr2"
   },
   "outputs": [],
   "source": [
    "#creation of random forrest\n",
    "from sklearn.ensemble import RandomForestRegressor\n",
    "\n",
    "rf = RandomForestRegressor(random_state=2) #by default no of estimators=10\n",
    "rf.fit(X_trn, y_trn)\n",
    "\n",
    "\n",
    "#Predictions on Test Data\n",
    "preds_test = rf.predict(X_test)\n"
   ]
  },
  {
   "cell_type": "code",
   "execution_count": null,
   "metadata": {
    "colab": {
     "base_uri": "https://localhost:8080/"
    },
    "id": "jcLgpDIHCWm6",
    "outputId": "cca9c163-42e5-4e7c-9202-5d1c08dc8c4c"
   },
   "outputs": [],
   "source": [
    "print('Performance Metrics for Random Forrest on Test Data: \\n')\n",
    "\n",
    "# The Root Mean Squared error\n",
    "rmse_score = rmse(y_test,preds_test)\n",
    "print(f'RMSE metric score is: {rmse_score}')\n",
    "\n",
    "# The mean squared error\n",
    "print('Mean squared error: %.2f' % mean_squared_error(y_test, preds_test))\n",
    "\n",
    "# The coefficient of determination: 1 is perfect prediction\n",
    "print('Coefficient of determination: %.2f'% r2_score(y_test, preds_test))"
   ]
  },
  {
   "cell_type": "code",
   "execution_count": null,
   "metadata": {
    "id": "PhP12EE4HJ5S"
   },
   "outputs": [],
   "source": []
  },
  {
   "cell_type": "code",
   "execution_count": null,
   "metadata": {
    "id": "eOxnO9-EHJ7U"
   },
   "outputs": [],
   "source": [
    "rmse_scores['rf']= 5.432977750205356\n",
    "coeff_det['rf']=0.87\n"
   ]
  },
  {
   "cell_type": "code",
   "execution_count": null,
   "metadata": {
    "id": "XxlRgaWoHJ9Y"
   },
   "outputs": [],
   "source": []
  },
  {
   "cell_type": "code",
   "execution_count": null,
   "metadata": {
    "colab": {
     "base_uri": "https://localhost:8080/"
    },
    "id": "DWuW_OJ_Cb3o",
    "outputId": "be89a6de-0aae-4f82-c017-f51df99d9827"
   },
   "outputs": [],
   "source": [
    "# Look at parameters used by our current forest\n",
    "print('Parameters currently in use:\\n')\n",
    "print(rf.get_params())"
   ]
  },
  {
   "cell_type": "code",
   "execution_count": null,
   "metadata": {
    "colab": {
     "base_uri": "https://localhost:8080/"
    },
    "id": "PN8A8ZBaCheN",
    "outputId": "b1d63f31-cc62-4dc1-fb39-a7dc8a7ece31"
   },
   "outputs": [],
   "source": [
    "hyperparam_combs = {\n",
    "    'max_depth': [4, 6, 8, 10, 12],\n",
    "    'min_samples_split': [2, 10, 20, 30, 40],\n",
    "    'max_features': [0.2, 0.4, 0.6, 0.8, 1],\n",
    "    'max_leaf_nodes': [8, 16, 32, 64, 128],\n",
    "}\n",
    "\n",
    "rf = RandomizedSearchCV(RandomForestRegressor(),\n",
    "                         hyperparam_combs,\n",
    "                         scoring='neg_root_mean_squared_error',\n",
    "                         random_state=2,\n",
    "                         n_iter=10)\n",
    "\n",
    "search = rf.fit(X_trn, y_trn)\n",
    "\n",
    "search.best_params_"
   ]
  },
  {
   "cell_type": "code",
   "execution_count": null,
   "metadata": {
    "id": "tuwtCo3JEcla"
   },
   "outputs": [],
   "source": [
    "best_params = {'max_depth': 10,\n",
    " 'max_features': 0.6,\n",
    " 'max_leaf_nodes': 128,\n",
    " 'min_samples_split': 20,\n",
    "}\n",
    "\n",
    "rf_tuned = RandomForestRegressor(random_state = 2,**best_params)\n",
    "\n",
    "_ = rf_tuned.fit(X_trn, y_trn)\n",
    "\n",
    "\n",
    "\n",
    "#Predictions on Test Data\n",
    "\n",
    "preds_test = rf_tuned.predict(X_test)"
   ]
  },
  {
   "cell_type": "code",
   "execution_count": null,
   "metadata": {
    "colab": {
     "base_uri": "https://localhost:8080/"
    },
    "id": "4kxustGXEfYn",
    "outputId": "7f0843bd-fe92-4f29-fe5f-2413df2a84ce"
   },
   "outputs": [],
   "source": [
    "print('Performance Metrics for Random Forest on Test Data: \\n')\n",
    "\n",
    "# The Root Mean Squared error\n",
    "rmse_score = rmse(y_test,preds_test)\n",
    "print(f'RMSE metric score is: {rmse_score}')\n",
    "\n",
    "# The mean squared error\n",
    "print('Mean squared error: %.2f' % mean_squared_error(y_test, preds_test))\n",
    "\n",
    "# The coefficient of determination: 1 is perfect prediction\n",
    "print('Coefficient of determination: %.2f'% r2_score(y_test, preds_test))"
   ]
  },
  {
   "cell_type": "code",
   "execution_count": null,
   "metadata": {
    "colab": {
     "base_uri": "https://localhost:8080/",
     "height": 730
    },
    "id": "AUNM3bHdIstR",
    "outputId": "499d1756-fb53-447f-fdd0-1aa7bfde5d6e"
   },
   "outputs": [],
   "source": [
    "#Visualizing Feature Importance\n",
    "\n",
    "def plot_feature_importances(model):\n",
    "      features = cols #cols varible we made above has list of all columns in our training data\n",
    "      importances = model.feature_importances_\n",
    "      indices = np.argsort(importances)\n",
    "\n",
    "      plt.figure(figsize=(12,12))\n",
    "\n",
    "      plt.title('Feature Importances')\n",
    "      plt.barh(range(len(indices)), importances[indices], color='r', align='center')\n",
    "      plt.yticks(range(len(indices)), [features[i] for i in indices])\n",
    "      plt.ylabel(\"Feature\")\n",
    "      plt.xlabel('Relative Importance')\n",
    "      plt.show()\n",
    "          \n",
    "\n",
    "plot_feature_importances(rf_tuned)   "
   ]
  },
  {
   "cell_type": "code",
   "execution_count": null,
   "metadata": {
    "id": "BTMmRatsGNyN"
   },
   "outputs": [],
   "source": []
  },
  {
   "cell_type": "code",
   "execution_count": null,
   "metadata": {
    "id": "YN6efb9b5Jk8"
   },
   "outputs": [],
   "source": []
  },
  {
   "cell_type": "markdown",
   "metadata": {
    "id": "7OlB3tiYAmEk"
   },
   "source": [
    "# Model 5: GradientBoosting"
   ]
  },
  {
   "cell_type": "code",
   "execution_count": null,
   "metadata": {
    "id": "ZznHyRWt5JpH"
   },
   "outputs": [],
   "source": [
    "from sklearn.ensemble import GradientBoostingRegressor\n",
    "\n",
    "gbdt = GradientBoostingRegressor(random_state=2)\n",
    "gbdt.fit(X_trn, y_trn)\n",
    "\n",
    "\n",
    "#Predictions on Test Data\n",
    "preds_test = gbdt.predict(X_test)"
   ]
  },
  {
   "cell_type": "code",
   "execution_count": null,
   "metadata": {
    "colab": {
     "base_uri": "https://localhost:8080/"
    },
    "id": "pm77N78h5VAk",
    "outputId": "f79b2146-82d4-40de-909b-580b78c3897f"
   },
   "outputs": [],
   "source": [
    "print('Performance Metrics for Gradient Boost Decision Tree on Test Data: \\n')\n",
    "\n",
    "# The Root Mean Squared error\n",
    "rmse_score = rmse(y_test,preds_test)\n",
    "print(f'RMSE metric score is: {rmse_score}')\n",
    "\n",
    "# The mean squared error\n",
    "print('Mean squared error: %.2f' % mean_squared_error(y_test, preds_test))\n",
    "\n",
    "# The coefficient of determination: 1 is perfect prediction\n",
    "print('Coefficient of determination: %.2f'% r2_score(y_test, preds_test))"
   ]
  },
  {
   "cell_type": "code",
   "execution_count": null,
   "metadata": {
    "colab": {
     "base_uri": "https://localhost:8080/"
    },
    "id": "ly9ePUlO5VC9",
    "outputId": "42c51621-8755-4b81-ac85-db98594fc0d1"
   },
   "outputs": [],
   "source": [
    "#Hyperparameter Tuning\n",
    "\n",
    "\n",
    "param_grid = {'max_depth': np.arange(5,8,1), \\\n",
    "             'n_estimators':np.arange(10,170,10),\n",
    "    'max_depth': [4, 6, 8, 10, 12],\n",
    "    'min_samples_split': [2, 10, 20, 30, 40],\n",
    "    'max_features': [0.2, 0.4, 0.6, 0.8, 1],\n",
    "    'max_leaf_nodes': [8, 16, 32, 64, 128],\n",
    "\n",
    "}\n",
    "\n",
    "\n",
    "gbdt = RandomizedSearchCV(GradientBoostingRegressor(),\n",
    "                         param_grid,\n",
    "                         scoring='neg_root_mean_squared_error',\n",
    "                         random_state=2,\n",
    "                         n_iter=50)\n",
    "\n",
    "search = gbdt.fit(X_trn, y_trn)\n",
    "\n",
    "search.best_params_"
   ]
  },
  {
   "cell_type": "code",
   "execution_count": null,
   "metadata": {
    "id": "Le7vs5sV44UB"
   },
   "outputs": [],
   "source": [
    "best_params = {'max_depth': 10,\n",
    " 'max_features': 0.4,\n",
    " 'max_leaf_nodes': 32,\n",
    " 'min_samples_split': 40,\n",
    " 'n_estimators': 140\n",
    "}\n",
    "\n",
    "gbdt_tuned = GradientBoostingRegressor(random_state = 2,**best_params)\n",
    "\n",
    "_ = gbdt_tuned.fit(X_trn, y_trn)\n",
    "\n",
    "\n",
    "\n",
    "#Predictions on Test Data\n",
    "\n",
    "preds_test = gbdt_tuned.predict(X_test)"
   ]
  },
  {
   "cell_type": "code",
   "execution_count": null,
   "metadata": {
    "colab": {
     "base_uri": "https://localhost:8080/"
    },
    "id": "IBEfIWqJ44WU",
    "outputId": "635d8a18-fb5e-4bfd-9785-f5400ce33614"
   },
   "outputs": [],
   "source": [
    "print('Performance Metrics for Gradient Boost Decision Tree on Test Data: \\n')\n",
    "\n",
    "# The Root Mean Squared error\n",
    "rmse_score = rmse(y_test,preds_test)\n",
    "print(f'RMSE metric score is: {rmse_score}')\n",
    "\n",
    "# The mean squared error\n",
    "print('Mean squared error: %.2f' % mean_squared_error(y_test, preds_test))\n",
    "\n",
    "# The coefficient of determination: 1 is perfect prediction\n",
    "print('Coefficient of determination: %.2f'% r2_score(y_test, preds_test))"
   ]
  },
  {
   "cell_type": "code",
   "execution_count": null,
   "metadata": {
    "colab": {
     "base_uri": "https://localhost:8080/",
     "height": 730
    },
    "id": "DLpsQ8fM44Ym",
    "outputId": "8e8d98d8-8dbd-44ee-f6bf-95e9846031ec"
   },
   "outputs": [],
   "source": [
    "plot_feature_importances(gbdt_tuned)   "
   ]
  },
  {
   "cell_type": "code",
   "execution_count": null,
   "metadata": {
    "id": "ezy17Z5c6Fpo"
   },
   "outputs": [],
   "source": []
  },
  {
   "cell_type": "code",
   "execution_count": null,
   "metadata": {
    "id": "NGWsv1r56Frt"
   },
   "outputs": [],
   "source": [
    "rmse_scores['gbdt']= 4.447249461638161\n",
    "coeff_det['gbdt']=0.91\n"
   ]
  },
  {
   "cell_type": "code",
   "execution_count": null,
   "metadata": {
    "id": "SM_SiWWNGN0G"
   },
   "outputs": [],
   "source": []
  },
  {
   "cell_type": "markdown",
   "metadata": {
    "id": "EruWwWrrGN7o"
   },
   "source": [
    "# Model 6: More Advanced Models\n",
    "\n",
    "a)LightGBM\n"
   ]
  },
  {
   "cell_type": "code",
   "execution_count": null,
   "metadata": {
    "id": "-dl85UmbGTLL"
   },
   "outputs": [],
   "source": [
    "from lightgbm import LGBMRegressor\n",
    "\n",
    "lgbm = LGBMRegressor(random_state=2)\n",
    "lgbm.fit(X_trn, y_trn)\n",
    "\n",
    "#Predictions on Test Data\n",
    "preds_test = lgbm.predict(X_test)\n"
   ]
  },
  {
   "cell_type": "code",
   "execution_count": null,
   "metadata": {
    "colab": {
     "base_uri": "https://localhost:8080/"
    },
    "id": "y20zH-sVoum4",
    "outputId": "01d1e57b-2897-412c-9e19-38b4f29df584"
   },
   "outputs": [],
   "source": [
    "print('Performance Metrics for LightGBM on Test Data: \\n')\n",
    "\n",
    "# The Root Mean Squared error\n",
    "rmse_score = rmse(y_test,preds_test)\n",
    "print(f'RMSE metric score is: {rmse_score}')\n",
    "class\n",
    "# The mean squared error\n",
    "print('Mean squared error: %.2f' % mean_squared_error(y_test, preds_test))\n",
    "\n",
    "# The coefficient of determination: 1 is perfect prediction\n",
    "print('Coefficient of determination: %.2f'% r2_score(y_test, preds_test))"
   ]
  },
  {
   "cell_type": "code",
   "execution_count": null,
   "metadata": {
    "colab": {
     "base_uri": "https://localhost:8080/",
     "height": 730
    },
    "id": "AFj27NZq4SG7",
    "outputId": "16b47086-7578-4691-8538-5057ce208749"
   },
   "outputs": [],
   "source": [
    "\n",
    "plot_feature_importances(lgbm)   "
   ]
  },
  {
   "cell_type": "code",
   "execution_count": null,
   "metadata": {
    "id": "s5oa_Yn34VBX"
   },
   "outputs": [],
   "source": []
  },
  {
   "cell_type": "code",
   "execution_count": null,
   "metadata": {
    "id": "EnaMLLgSD51A"
   },
   "outputs": [],
   "source": []
  },
  {
   "cell_type": "code",
   "execution_count": null,
   "metadata": {
    "id": "doU4tvgJD53A"
   },
   "outputs": [],
   "source": [
    "#taking random parameter values \n",
    "lgbm2 = LGBMRegressor(n_estimators = 1000,\n",
    "                        learning_rate = 0.05,\n",
    "                        colsample_bytree = 0.76, #each tree won't consider all columns. only 76% features will be used by each tree!\n",
    "                        metric = 'None',\n",
    "                      random_state=2\n",
    "                        )\n",
    "lgbm2.fit(X_trn, y_trn)\n",
    "\n",
    "#Predictions on Test Data\n",
    "preds_test = lgbm2.predict(X_test)\n"
   ]
  },
  {
   "cell_type": "code",
   "execution_count": null,
   "metadata": {
    "colab": {
     "base_uri": "https://localhost:8080/"
    },
    "id": "Tiy3AZ_DD543",
    "outputId": "d64feac3-48f6-45a5-f3c9-2d6535b87744"
   },
   "outputs": [],
   "source": [
    "print('Performance Metrics for LightGBM on Test Data: \\n')\n",
    "\n",
    "# The Root Mean Squared error\n",
    "rmse_score = rmse(y_test,preds_test)\n",
    "print(f'RMSE metric score is: {rmse_score}')\n",
    "\n",
    "# The mean squared error\n",
    "print('Mean squared error: %.2f' % mean_squared_error(y_test, preds_test))\n",
    "\n",
    "# The coefficient of determination: 1 is perfect prediction\n",
    "print('Coefficient of determination: %.2f'% r2_score(y_test, preds_test))"
   ]
  },
  {
   "cell_type": "code",
   "execution_count": null,
   "metadata": {
    "colab": {
     "base_uri": "https://localhost:8080/",
     "height": 730
    },
    "id": "HI1k-Wr2D560",
    "outputId": "5c1efbbb-a951-4d7b-86da-74e1877368c1"
   },
   "outputs": [],
   "source": [
    "\n",
    "plot_feature_importances(lgbm2)   "
   ]
  },
  {
   "cell_type": "code",
   "execution_count": null,
   "metadata": {
    "id": "yddc5oBqHhTI"
   },
   "outputs": [],
   "source": []
  },
  {
   "cell_type": "code",
   "execution_count": null,
   "metadata": {
    "id": "B9TAHRpjHhVK"
   },
   "outputs": [],
   "source": [
    "rmse_scores['lgb']= 4.240479118593097\n",
    "coeff_det['lgb']=0.92\n",
    "\n"
   ]
  },
  {
   "cell_type": "code",
   "execution_count": null,
   "metadata": {
    "id": "CPd9_tTNEVj1"
   },
   "outputs": [],
   "source": []
  },
  {
   "cell_type": "code",
   "execution_count": null,
   "metadata": {
    "id": "lDIY_PIayOcK"
   },
   "outputs": [],
   "source": [
    "#Hyperparameter Tuning"
   ]
  },
  {
   "cell_type": "code",
   "execution_count": null,
   "metadata": {
    "id": "1z_ZnrWbrGb1"
   },
   "outputs": [],
   "source": [
    "from scipy.stats import randint as sp_randint\n",
    "from scipy.stats import uniform as sp_uniform\n",
    "\n",
    "parameters={ \n",
    "            \"eval_metric\" : 'rmse', \n",
    "            'verbose': 100,\n",
    "}\n",
    "\n",
    "parameter_tuning ={\n",
    "             'max_depth': sp_randint(10,50),\n",
    "             'num_leaves': sp_randint(6, 50), \n",
    "             'learning_rate ': [0.1,0.01,0.001],\n",
    "             'min_child_samples': sp_randint(100, 500), \n",
    "             'min_child_weight': [1e-5, 1e-3, 1e-2, 1e-1, 1, 1e1, 1e2, 1e3, 1e4],\n",
    "             'subsample': sp_uniform(loc=0.2, scale=0.8), \n",
    "             'colsample_bytree': sp_uniform(loc=0.4, scale=0.6),\n",
    "             'reg_alpha': [0, 1e-1, 1, 2, 5, 7, 10, 50, 100],\n",
    "             'reg_lambda': [0, 1e-1, 1, 5, 10, 20, 50, 100]\n",
    "}\n",
    "\n",
    "\n",
    "\n",
    "\n",
    "lgbm = LGBMRegressor(n_estimators = 1000, n_jobs=-1, metric=\"None\", silent=True, random_state=2)\n",
    "\n",
    "lgbm = RandomizedSearchCV(lgbm,\n",
    "                         param_distributions= parameter_tuning,\n",
    "                         scoring='neg_root_mean_squared_error',\n",
    "                         random_state=2,\n",
    "                         n_iter=50, verbose=False)\n",
    "\n",
    "search = lgbm.fit(X_trn, y_trn, **parameters)\n"
   ]
  },
  {
   "cell_type": "code",
   "execution_count": null,
   "metadata": {
    "colab": {
     "base_uri": "https://localhost:8080/"
    },
    "id": "0bvNyr670Fnu",
    "outputId": "33a87ea1-37ce-4d5e-a51a-336e7f3d5d62"
   },
   "outputs": [],
   "source": [
    "print('Best score : {} with parameters: {} '.format(search.best_score_, search.best_params_))"
   ]
  },
  {
   "cell_type": "code",
   "execution_count": null,
   "metadata": {
    "colab": {
     "base_uri": "https://localhost:8080/"
    },
    "id": "Ia_7zzJNy8Lu",
    "outputId": "8a04f233-13aa-43a6-8f13-eacdf5952bd8"
   },
   "outputs": [],
   "source": [
    "best_parameters = search.best_params_\n",
    "best_parameters"
   ]
  },
  {
   "cell_type": "code",
   "execution_count": null,
   "metadata": {
    "colab": {
     "base_uri": "https://localhost:8080/"
    },
    "id": "V2fe5TChzBuY",
    "outputId": "2d477245-32f6-4640-c24e-c2d1d61ed641"
   },
   "outputs": [],
   "source": [
    "lgbm_tuned = LGBMRegressor(**best_parameters)\n",
    "lgbm_tuned.set_params(**best_parameters)"
   ]
  },
  {
   "cell_type": "code",
   "execution_count": null,
   "metadata": {
    "id": "M9eR3ryv3min"
   },
   "outputs": [],
   "source": [
    "#Predictions on Test Data\n",
    "preds_test = lgbm_tuned.predict(X_test)"
   ]
  },
  {
   "cell_type": "code",
   "execution_count": null,
   "metadata": {
    "colab": {
     "base_uri": "https://localhost:8080/"
    },
    "id": "JHrTIo6i3xds",
    "outputId": "6d0ff4dc-334c-44ce-b05e-e163d84b3fda"
   },
   "outputs": [],
   "source": [
    "print('Performance Metrics for XGBoost on Test Data: \\n')\n",
    "\n",
    "# The Root Mean Squared error\n",
    "rmse_score = rmse(y_test,preds_test)\n",
    "print(f'RMSE metric score is: {rmse_score}')\n",
    "\n",
    "# The mean squared error\n",
    "print('Mean squared error: %.2f' % mean_squared_error(y_test, preds_test))\n",
    "\n",
    "# The coefficient of determination: 1 is perfect prediction\n",
    "print('Coefficient of determination: %.2f'% r2_score(y_test, preds_test))"
   ]
  },
  {
   "cell_type": "code",
   "execution_count": null,
   "metadata": {
    "id": "Y-dANhjV30vX"
   },
   "outputs": [],
   "source": []
  },
  {
   "cell_type": "code",
   "execution_count": null,
   "metadata": {
    "id": "E8oPRVmBCGQU"
   },
   "outputs": [],
   "source": []
  },
  {
   "cell_type": "code",
   "execution_count": null,
   "metadata": {
    "id": "j1V23xQmCGSN"
   },
   "outputs": [],
   "source": []
  },
  {
   "cell_type": "code",
   "execution_count": null,
   "metadata": {
    "id": "RZEVAceJCGU-"
   },
   "outputs": [],
   "source": []
  },
  {
   "cell_type": "markdown",
   "metadata": {
    "id": "vUf2IgOVEkbW"
   },
   "source": [
    "b)XGBoost"
   ]
  },
  {
   "cell_type": "code",
   "execution_count": null,
   "metadata": {
    "id": "YQsfzqu_CNih"
   },
   "outputs": [],
   "source": []
  },
  {
   "cell_type": "code",
   "execution_count": null,
   "metadata": {
    "colab": {
     "base_uri": "https://localhost:8080/"
    },
    "id": "q4TJA8h2CNkR",
    "outputId": "6f9edb2d-bc71-4697-f5d2-656bfc30449a"
   },
   "outputs": [],
   "source": [
    "from xgboost import XGBRegressor\n",
    "\n",
    "xgb = XGBRegressor(random_state=2)\n",
    "xgb.fit(X_trn, y_trn)\n",
    "\n",
    "#Predictions on Test Data\n",
    "preds_test = xgb.predict(X_test)\n"
   ]
  },
  {
   "cell_type": "code",
   "execution_count": null,
   "metadata": {
    "colab": {
     "base_uri": "https://localhost:8080/"
    },
    "id": "oyKoopdOCNm3",
    "outputId": "b139e918-e122-40cf-e653-aa41ef60d331"
   },
   "outputs": [],
   "source": [
    "print('Performance Metrics for XGBoost on Test Data: \\n')\n",
    "\n",
    "# The Root Mean Squared error\n",
    "rmse_score = rmse(y_test,preds_test)\n",
    "print(f'RMSE metric score is: {rmse_score}')\n",
    "\n",
    "# The mean squared error\n",
    "print('Mean squared error: %.2f' % mean_squared_error(y_test, preds_test))\n",
    "\n",
    "# The coefficient of determination: 1 is perfect prediction\n",
    "print('Coefficient of determination: %.2f'% r2_score(y_test, preds_test))"
   ]
  },
  {
   "cell_type": "code",
   "execution_count": null,
   "metadata": {
    "id": "1HpynmXiCNo_"
   },
   "outputs": [],
   "source": [
    "#Taking some random parameters"
   ]
  },
  {
   "cell_type": "code",
   "execution_count": null,
   "metadata": {
    "colab": {
     "base_uri": "https://localhost:8080/"
    },
    "id": "sP4Ou3DxCGXQ",
    "outputId": "ef274c84-e493-4f9a-e66e-1485ba1b6766"
   },
   "outputs": [],
   "source": [
    "xgb = XGBRegressor(n_estimators = 1000,\n",
    "                    max_depth = 6,\n",
    "                    learning_rate = 0.05,\n",
    "                    colsample_bytree = 0.5,\n",
    "                    random_state=2,\n",
    "                    )\n",
    "\n",
    "xgb.fit(X_trn, y_trn)\n",
    "\n",
    "#Predictions on Test Data\n",
    "preds_test = xgb.predict(X_test)\n"
   ]
  },
  {
   "cell_type": "code",
   "execution_count": null,
   "metadata": {
    "colab": {
     "base_uri": "https://localhost:8080/"
    },
    "id": "WJ48Sg02Cpxr",
    "outputId": "af66380c-c1b1-430d-d58a-a3d4bbeadb68"
   },
   "outputs": [],
   "source": [
    "print('Performance Metrics for XGBoost on Test Data: \\n')\n",
    "\n",
    "# The Root Mean Squared error\n",
    "rmse_score = rmse(y_test,preds_test)\n",
    "print(f'RMSE metric score is: {rmse_score}')\n",
    "\n",
    "# The mean squared error\n",
    "print('Mean squared error: %.2f' % mean_squared_error(y_test, preds_test))\n",
    "\n",
    "# The coefficient of determination: 1 is perfect prediction\n",
    "print('Coefficient of determination: %.2f'% r2_score(y_test, preds_test))"
   ]
  },
  {
   "cell_type": "code",
   "execution_count": null,
   "metadata": {
    "id": "vOY94hkTDPNm"
   },
   "outputs": [],
   "source": []
  },
  {
   "cell_type": "code",
   "execution_count": null,
   "metadata": {
    "id": "XOt08qlKH3yU"
   },
   "outputs": [],
   "source": [
    "rmse_scores['xgboost']= 4.271406328482151\n",
    "coeff_det['xgboost']=0.92\n"
   ]
  },
  {
   "cell_type": "code",
   "execution_count": null,
   "metadata": {
    "id": "mtdjwWPODXfT"
   },
   "outputs": [],
   "source": [
    "#Hyperparameter Tuning of XGBoost"
   ]
  },
  {
   "cell_type": "code",
   "execution_count": null,
   "metadata": {
    "id": "uIRLVVD4DXhz"
   },
   "outputs": [],
   "source": []
  },
  {
   "cell_type": "code",
   "execution_count": null,
   "metadata": {
    "id": "KYhmnm-HDXkF"
   },
   "outputs": [],
   "source": []
  },
  {
   "cell_type": "code",
   "execution_count": null,
   "metadata": {
    "id": "-NbgEpBcDXmm"
   },
   "outputs": [],
   "source": []
  },
  {
   "cell_type": "code",
   "execution_count": null,
   "metadata": {
    "id": "uDMP9YZTDXo0"
   },
   "outputs": [],
   "source": []
  },
  {
   "cell_type": "markdown",
   "metadata": {
    "id": "yr-vA-3AEnGV"
   },
   "source": [
    "\n",
    "c)CatBoost"
   ]
  },
  {
   "cell_type": "code",
   "execution_count": null,
   "metadata": {
    "id": "qsbwSkE-EoUh"
   },
   "outputs": [],
   "source": []
  },
  {
   "cell_type": "code",
   "execution_count": null,
   "metadata": {
    "id": "DODWkubVIk7V"
   },
   "outputs": [],
   "source": []
  },
  {
   "cell_type": "code",
   "execution_count": null,
   "metadata": {
    "id": "rXd2MwuxIk9i"
   },
   "outputs": [],
   "source": []
  },
  {
   "cell_type": "code",
   "execution_count": null,
   "metadata": {
    "id": "6JnI2qWWIk_w"
   },
   "outputs": [],
   "source": []
  },
  {
   "cell_type": "code",
   "execution_count": null,
   "metadata": {
    "id": "y9im76CFIK6a"
   },
   "outputs": [],
   "source": []
  },
  {
   "cell_type": "code",
   "execution_count": null,
   "metadata": {
    "id": "JlWSyYd2IHBJ"
   },
   "outputs": [],
   "source": []
  },
  {
   "cell_type": "markdown",
   "metadata": {
    "id": "4YKUznzkDYbq"
   },
   "source": [
    "# Comparing all Models:"
   ]
  },
  {
   "cell_type": "code",
   "execution_count": null,
   "metadata": {
    "colab": {
     "base_uri": "https://localhost:8080/"
    },
    "id": "hbLUzcq7EoYt",
    "outputId": "37c2c89c-a243-45b4-bb9e-2f6e843f4651"
   },
   "outputs": [],
   "source": [
    "rmse_scores"
   ]
  },
  {
   "cell_type": "code",
   "execution_count": null,
   "metadata": {
    "colab": {
     "base_uri": "https://localhost:8080/"
    },
    "id": "FSGpf3BMIFjH",
    "outputId": "36537664-0f8c-4ae2-f835-a190839b94e3"
   },
   "outputs": [],
   "source": [
    "coeff_det"
   ]
  },
  {
   "cell_type": "code",
   "execution_count": null,
   "metadata": {
    "colab": {
     "base_uri": "https://localhost:8080/"
    },
    "id": "7J6rShCODXtY",
    "outputId": "e3522ecb-9eaf-4deb-b209-9870f017019b"
   },
   "outputs": [],
   "source": [
    "print('\\n                                   RMSE      r2_Score')\n",
    "print('------------------------------------------------------------------------------')\n",
    "print('Linear Regression:                 {:.04}     {:.04}'.format(rmse_scores['lr3'] ,coeff_det['lr3']))\n",
    "\n",
    "print('Linear SVR:                        {:.04}     {:.04} '.format(rmse_scores['linear_svr'],\\\n",
    "                                                        coeff_det['linear_svr']))\n",
    "\n",
    "print('RBF-Kernel SVR:                    {:.04}     {:.04} '.format(rmse_scores['kernel_svr'],\\\n",
    "                                                          coeff_det['kernel_svr']))\n",
    "\n",
    "print('Decision Tree Regressor:           {:.04}      {:.04} '.format(rmse_scores['dt'],\\\n",
    "                                                      coeff_det['dt']))\n",
    "\n",
    "print('Random Forest Regressor:           {:.04}     {:.04} '.format(rmse_scores['rf'],\\\n",
    "                                                           coeff_det['rf']))\n",
    "\n",
    "print('Gradient Boosting DT Regressor:    {:.04}     {:.04} '.format(rmse_scores['gbdt'],\\\n",
    "                                                        coeff_det['gbdt']))\n",
    "\n",
    "print('XGBoost Regressor:                 {:.04}     {:.04} '.format(rmse_scores['xgboost'],\\\n",
    "                                                        coeff_det['xgboost']))\n",
    "\n",
    "print('LightGBM Regressor:                {:.04}      {:.04} '.format(rmse_scores['lgb'],\\\n",
    "                                                        coeff_det['lgb']))"
   ]
  },
  {
   "cell_type": "code",
   "execution_count": null,
   "metadata": {
    "id": "HWhUVmQbKpTL"
   },
   "outputs": [],
   "source": []
  },
  {
   "cell_type": "code",
   "execution_count": null,
   "metadata": {
    "id": "Zqk4uHXQSgP-"
   },
   "outputs": [],
   "source": []
  },
  {
   "cell_type": "code",
   "execution_count": null,
   "metadata": {
    "id": "RO4OlKHbSosJ"
   },
   "outputs": [],
   "source": []
  },
  {
   "cell_type": "code",
   "execution_count": null,
   "metadata": {
    "id": "FPevv7V0SouS"
   },
   "outputs": [],
   "source": []
  },
  {
   "cell_type": "markdown",
   "metadata": {
    "id": "wf8-aAIWSgpO"
   },
   "source": [
    "Saving the Models:"
   ]
  },
  {
   "cell_type": "code",
   "execution_count": null,
   "metadata": {
    "id": "768_Rj7_Qzck"
   },
   "outputs": [],
   "source": [
    "import pickle\n",
    "\n",
    "# save the kernel-svr model to disk\n",
    "filename = \"/content/drive/My Drive/Colab Notebooks/Airline Delay Prediction/Project2/rbfkernelsvr.sav\"\n",
    "pickle.dump(kernel_svr, open(filename, 'wb'))\n",
    "\n",
    "# save the lightgbm model to disk\n",
    "filename = \"/content/drive/My Drive/Colab Notebooks/Airline Delay Prediction/Project2/lightgmb.sav\"\n",
    "pickle.dump(lgbm2, open(filename, 'wb'))\n",
    "\n",
    "# save the xgboost model to disk\n",
    "filename = \"/content/drive/My Drive/Colab Notebooks/Airline Delay Prediction/Project2/xgb.sav\"\n",
    "pickle.dump(xgb, open(filename, 'wb'))\n"
   ]
  },
  {
   "cell_type": "code",
   "execution_count": null,
   "metadata": {
    "colab": {
     "base_uri": "https://localhost:8080/"
    },
    "id": "leay5wEvQ-TS",
    "outputId": "fed3bcd7-b687-4ff0-83e7-284ae8ed0011"
   },
   "outputs": [],
   "source": [
    "# load the model from disk\n",
    "\n",
    "filename = \"/content/drive/My Drive/Colab Notebooks/Airline Delay Prediction/Project2/rbfkernelsvr.sav\"\n",
    "\n",
    "loaded_model = pickle.load(open(filename, 'rb'))\n",
    "\n",
    "\n",
    "\n",
    "#Predictions on Test Data\n",
    "preds_test = loaded_model.predict(X_test)\n",
    "\n",
    "\n",
    "print('Performance Metrics for LightGBM on Test Data: \\n')\n",
    "\n",
    "# The Root Mean Squared error\n",
    "rmse_score = rmse(y_test,preds_test)\n",
    "print(f'RMSE metric score is: {rmse_score}')\n",
    "\n",
    "# The mean squared error\n",
    "print('Mean squared error: %.2f' % mean_squared_error(y_test, preds_test))\n",
    "\n",
    "# The coefficient of determination: 1 is perfect prediction\n",
    "print('Coefficient of determination: %.2f'% r2_score(y_test, preds_test))"
   ]
  },
  {
   "cell_type": "code",
   "execution_count": 1,
   "metadata": {
    "id": "MrtVlS0xSyIR"
   },
   "outputs": [],
   "source": [
    "import requests\n",
    "import json"
   ]
  },
  {
   "cell_type": "code",
   "execution_count": 31,
   "metadata": {},
   "outputs": [],
   "source": [
    "result = requests.get(\"https://randomuser.me/api/\")"
   ]
  },
  {
   "cell_type": "code",
   "execution_count": 32,
   "metadata": {},
   "outputs": [
    {
     "data": {
      "text/plain": [
       "200"
      ]
     },
     "execution_count": 32,
     "metadata": {},
     "output_type": "execute_result"
    }
   ],
   "source": [
    "result.status_code"
   ]
  },
  {
   "cell_type": "code",
   "execution_count": 33,
   "metadata": {},
   "outputs": [],
   "source": [
    "text = result.text"
   ]
  },
  {
   "cell_type": "code",
   "execution_count": 34,
   "metadata": {},
   "outputs": [
    {
     "data": {
      "text/plain": [
       "'{\"results\":[{\"gender\":\"female\",\"name\":{\"title\":\"Ms\",\"first\":\"Carol\",\"last\":\"Sutton\"},\"location\":{\"street\":{\"number\":1006,\"name\":\"O\\'Connell Street\"},\"city\":\"Ashbourne\",\"state\":\"Wexford\",\"country\":\"Ireland\",\"postcode\":54114,\"coordinates\":{\"latitude\":\"20.6173\",\"longitude\":\"163.5112\"},\"timezone\":{\"offset\":\"-9:00\",\"description\":\"Alaska\"}},\"email\":\"carol.sutton@example.com\",\"login\":{\"uuid\":\"2ef1190f-7d6e-4914-a52b-195b82fd7029\",\"username\":\"silverbutterfly615\",\"password\":\"bowman\",\"salt\":\"3y6Mgrku\",\"md5\":\"6979fcc99dd3be217d264e305fd2af35\",\"sha1\":\"2e79ecf9adb1a15c1c0430b6370e613b4416e7e3\",\"sha256\":\"a29072ff8fba235b103aa50251220c90d66768c728cd29136ef4fd8c48714c58\"},\"dob\":{\"date\":\"1963-05-04T05:30:38.118Z\",\"age\":58},\"registered\":{\"date\":\"2015-05-02T17:45:04.099Z\",\"age\":6},\"phone\":\"021-984-0159\",\"cell\":\"081-850-2924\",\"id\":{\"name\":\"PPS\",\"value\":\"9758250T\"},\"picture\":{\"large\":\"https://randomuser.me/api/portraits/women/48.jpg\",\"medium\":\"https://randomuser.me/api/portraits/med/women/48.jpg\",\"thumbnail\":\"https://randomuser.me/api/portraits/thumb/women/48.jpg\"},\"nat\":\"IE\"}],\"info\":{\"seed\":\"1a053dc9483e91aa\",\"results\":1,\"page\":1,\"version\":\"1.3\"}}'"
      ]
     },
     "execution_count": 34,
     "metadata": {},
     "output_type": "execute_result"
    }
   ],
   "source": [
    "text"
   ]
  },
  {
   "cell_type": "code",
   "execution_count": 35,
   "metadata": {},
   "outputs": [],
   "source": [
    "if 'json' in result.headers.get('Content-Type'):\n",
    "    js = result.json()\n",
    "else:\n",
    "    print('Response content is not in JSON format.')\n",
    "    js = 'spam'"
   ]
  },
  {
   "cell_type": "code",
   "execution_count": null,
   "metadata": {},
   "outputs": [],
   "source": []
  },
  {
   "cell_type": "code",
   "execution_count": 7,
   "metadata": {},
   "outputs": [],
   "source": [
    "from urllib import request"
   ]
  },
  {
   "cell_type": "code",
   "execution_count": 8,
   "metadata": {},
   "outputs": [],
   "source": [
    "url = \"https://www.expedia.com/api/flight/search?departureDate=2021-03-03&departureAirport=HYD&arrivalAirport=BOM\"\n",
    "url1=\"https://www.wikipedia.org/\"\n",
    "#URLError: <urlopen error [WinError 10060] A connection attempt failed because the connected party did not properly respond after a period of time, or established connection failed because connected host has failed to respond>"
   ]
  },
  {
   "cell_type": "code",
   "execution_count": 14,
   "metadata": {},
   "outputs": [],
   "source": [
    "resp = request.urlopen(url1)\n"
   ]
  },
  {
   "cell_type": "code",
   "execution_count": 15,
   "metadata": {},
   "outputs": [
    {
     "data": {
      "text/plain": [
       "http.client.HTTPResponse"
      ]
     },
     "execution_count": 15,
     "metadata": {},
     "output_type": "execute_result"
    }
   ],
   "source": [
    "type(resp)"
   ]
  },
  {
   "cell_type": "code",
   "execution_count": 16,
   "metadata": {},
   "outputs": [
    {
     "data": {
      "text/plain": [
       "200"
      ]
     },
     "execution_count": 16,
     "metadata": {},
     "output_type": "execute_result"
    }
   ],
   "source": [
    "resp.code"
   ]
  },
  {
   "cell_type": "code",
   "execution_count": 17,
   "metadata": {},
   "outputs": [
    {
     "data": {
      "text/plain": [
       "b'<!DOCTYPE html>\\n<html lang=\"mul\" class=\"no-js\">\\n<head>\\n<meta charset=\"utf-8\">\\n<title>Wikipedia</title>\\n<meta name=\"description\" content=\"Wikipedia is a free online encyclopedia, created and edited by volunteers around the world and hosted by the Wikimedia Foundation.\">\\n<script>\\ndocument.documentElement.className = document.documentElement.className.replace( /(^|\\\\s)no-js(\\\\s|$)/, \"$1js-enabled$2\" );\\n</script>\\n<meta name=\"viewport\" content=\"initial-scale=1,user-scalable=yes\">\\n<link rel=\"apple-touch-icon\" href=\"/static/apple-touch/wikipedia.png\">\\n<link rel=\"shortcut icon\" href=\"/static/favicon/wikipedia.ico\">\\n<link rel=\"license\" href=\"//creativecommons.org/licenses/by-sa/3.0/\">\\n<style>\\n.sprite{background-image:linear-gradient(transparent,transparent),url(portal/wikipedia.org/assets/img/sprite-46c49284.svg);background-repeat:no-repeat;display:inline-block;vertical-align:middle}.svg-Commons-logo_sister{background-position:0 0;width:47px;height:47px}.svg-MediaWiki-logo_sister{background-position:0 -47px;width:42px;height:42px}.svg-Meta-Wiki-logo_sister{background-position:0 -89px;width:37px;height:37px}.svg-Wikibooks-logo_sister{background-position:0 -126px;width:37px;height:37px}.svg-Wikidata-logo_sister{background-position:0 -163px;width:49px;height:49px}.svg-Wikimedia-logo_black{background-position:0 -212px;width:42px;height:42px}.svg-Wikipedia_wordmark{background-position:0 -254px;width:176px;height:32px}.svg-Wikiquote-logo_sister{background-position:0 -286px;width:42px;height:42px}.svg-Wikisource-logo_sister{background-position:0 -328px;width:39px;height:39px}.svg-Wikispecies-logo_sister{background-position:0 -367px;width:42px;height:42px}.svg-Wikiversity-logo_sister{background-position:0 -409px;width:43px;height:37px}.svg-Wikivoyage-logo_sister{background-position:0 -446px;width:36px;height:36px}.svg-Wiktionary-logo_sister{background-position:0 -482px;width:37px;height:37px}.svg-arrow-down{background-position:0 -519px;width:12px;height:8px}.svg-arrow-down-blue{background-position:0 -527px;width:14px;height:14px}.svg-badge_google_play_store{background-position:0 -541px;width:124px;height:38px}.svg-badge_ios_app_store{background-position:0 -579px;width:110px;height:38px}.svg-language-icon{background-position:0 -617px;width:22px;height:22px}.svg-noimage{background-position:0 -639px;width:58px;height:58px}.svg-search-icon{background-position:0 -697px;width:22px;height:22px}.svg-wikipedia_app_tile{background-position:0 -719px;width:42px;height:42px}\\n</style>\\n<style>\\nhtml{font-family:sans-serif;-ms-text-size-adjust:100%;-webkit-text-size-adjust:100%;font-size:62.5%}body{margin:0}article,aside,details,figcaption,figure,footer,header,hgroup,main,menu,nav,section,summary{display:block}audio,canvas,progress,video{display:inline-block;vertical-align:baseline}audio:not([controls]){display:none;height:0}[hidden],template{display:none}a{background-color:transparent}a:active,a:hover{outline:0}abbr[title]{border-bottom:1px dotted}b,strong{font-weight:700}dfn{font-style:italic}h1{font-size:32px;font-size:3.2rem;margin:12px 0;margin:1.2rem 0}mark{background:#fc3;color:#000}small{font-size:13px;font-size:1.3rem}sub,sup{font-size:75%;line-height:0;position:relative;vertical-align:baseline}sup{top:-.5em}sub{bottom:-.25em}svg:not(:root){overflow:hidden}figure{margin:16px 40px;margin:1.6rem 4rem}hr{box-sizing:content-box}pre{overflow:auto}code,kbd,pre,samp{font-family:monospace,monospace;font-size:14px;font-size:1.4rem}button,input,optgroup,select,textarea{color:inherit;font:inherit;margin:0}button{overflow:visible}button,select{text-transform:none}button,html input[type=button],input[type=reset],input[type=submit]{-webkit-appearance:button;cursor:pointer}button[disabled],html input[disabled]{cursor:default}button::-moz-focus-inner,input::-moz-focus-inner{border:0;padding:0}input{line-height:normal}input[type=checkbox],input[type=radio]{box-sizing:border-box;padding:0}input[type=number]::-webkit-inner-spin-button,input[type=number]::-webkit-outer-spin-button{height:auto}input[type=search]{-webkit-appearance:none;box-sizing:content-box}input[type=search]::-webkit-search-cancel-button,input[type=search]::-webkit-search-decoration{-webkit-appearance:none}input[type=search]:focus{outline-offset:-2px}fieldset{border:1px solid #a2a9b1;margin:0 2px;margin:0 .2rem;padding:6px 10px 12px;padding:.6rem 1rem 1.2rem}legend{border:0;padding:0}textarea{overflow:auto}optgroup{font-weight:700}table{border-collapse:collapse;border-spacing:0}td,th{padding:0}.hidden,[hidden]{display:none!important}.screen-reader-text{display:block;position:absolute!important;clip:rect(1px,1px,1px,1px);width:1px;height:1px;margin:-1px;border:0;padding:0;overflow:hidden}body{background-color:#fff;font-family:-apple-system,BlinkMacSystemFont,Segoe UI,Roboto,Lato,Helvetica,Arial,sans-serif;font-size:14px;font-size:1.4rem;line-height:1.5;margin:4px 0 16px;margin:.4rem 0 1.6rem}a{-ms-touch-action:manipulation;touch-action:manipulation}a,a:active,a:focus{unicode-bidi:embed;outline:0;color:#36c;text-decoration:none}a:focus{outline:1px solid #36c}a:hover{text-decoration:underline}img{vertical-align:middle}hr,img{border:0}hr{clear:both;height:0;border-bottom:1px solid #c8ccd1;margin:2.6px 13px;margin:.26rem 1.3rem}.pure-button{display:inline-block;zoom:1;line-height:normal;white-space:nowrap;text-align:center;cursor:pointer;-webkit-user-drag:none;-webkit-user-select:none;-moz-user-select:none;-ms-user-select:none;user-select:none;box-sizing:border-box;background-color:#f8f9fa;color:#202122;position:relative;min-height:19.2px;min-height:1.92rem;min-width:16px;min-width:1.6rem;margin:1.6px 0;margin:.16rem 0;border:1px solid #a2a9b1;border-radius:2px;padding:8px 16px;padding:.8rem 1.6rem;font-family:inherit;font-size:inherit;font-weight:700;text-decoration:none;vertical-align:top;transition:background .1s ease,color .1s ease,border-color .1s ease,box-shadow .1s ease}.pure-button::-moz-focus-inner{padding:0;border:0}.pure-button-hover,.pure-button:hover{background-color:#fff;border-color:#a2a9b1;color:#404244}.pure-button-active,.pure-button:active{background-color:#c8ccd1;border-color:#72777d;color:#000}.pure-button:focus{outline:0;border-color:#36c;box-shadow:inset 0 0 0 1px #36c}.pure-button-primary-progressive{background-color:#36c;border-color:#36c;color:#fff}.pure-button-primary-progressive:hover{background:#447ff5;border-color:#447ff5}.pure-button-primary-progressive:active{background-color:#2a4b8d;border-color:#2a4b8d;box-shadow:none;color:#fff}.pure-button-primary-progressive:focus{box-shadow:inset 0 0 0 1px #36c,inset 0 0 0 2px #fff;border-color:#36c}.pure-form input[type=search]{background-color:#fff;display:inline-block;box-sizing:border-box;border:1px solid #a2a9b1;border-radius:2px;padding:8px;padding:.8rem;box-shadow:inset 0 0 0 1px #fff'"
      ]
     },
     "execution_count": 17,
     "metadata": {},
     "output_type": "execute_result"
    }
   ],
   "source": [
    "resp.peek()"
   ]
  },
  {
   "cell_type": "code",
   "execution_count": 18,
   "metadata": {},
   "outputs": [
    {
     "name": "stdout",
     "output_type": "stream",
     "text": [
      "<class 'bytes'>\n",
      "66728\n"
     ]
    }
   ],
   "source": [
    "data = resp.read()\n",
    "print(type(data))\n",
    "print(len(data))"
   ]
  },
  {
   "cell_type": "code",
   "execution_count": 19,
   "metadata": {},
   "outputs": [],
   "source": [
    "html = data.decode(\"UTF-8\")"
   ]
  },
  {
   "cell_type": "code",
   "execution_count": 20,
   "metadata": {},
   "outputs": [
    {
     "data": {
      "text/plain": [
       "'<!DOCTYPE html>\\n<html lang=\"mul\" class=\"no-js\">\\n<head>\\n<meta charset=\"utf-8\">\\n<title>Wikipedia</title>\\n<meta name=\"description\" content=\"Wikipedia is a free online encyclopedia, created and edited by volunteers around the world and hosted by the Wikimedia Foundation.\">\\n<script>\\ndocument.documentElement.className = document.documentElement.className.replace( /(^|\\\\s)no-js(\\\\s|$)/, \"$1js-enabled$2\" );\\n</script>\\n<meta name=\"viewport\" content=\"initial-scale=1,user-scalable=yes\">\\n<link rel=\"apple-touch-icon\" href=\"/static/apple-touch/wikipedia.png\">\\n<link rel=\"shortcut icon\" href=\"/static/favicon/wikipedia.ico\">\\n<link rel=\"license\" href=\"//creativecommons.org/licenses/by-sa/3.0/\">\\n<style>\\n.sprite{background-image:linear-gradient(transparent,transparent),url(portal/wikipedia.org/assets/img/sprite-46c49284.svg);background-repeat:no-repeat;display:inline-block;vertical-align:middle}.svg-Commons-logo_sister{background-position:0 0;width:47px;height:47px}.svg-MediaWiki-logo_sister{background-position:0 -47px;width:42px;height:42px}.svg-Meta-Wiki-logo_sister{background-position:0 -89px;width:37px;height:37px}.svg-Wikibooks-logo_sister{background-position:0 -126px;width:37px;height:37px}.svg-Wikidata-logo_sister{background-position:0 -163px;width:49px;height:49px}.svg-Wikimedia-logo_black{background-position:0 -212px;width:42px;height:42px}.svg-Wikipedia_wordmark{background-position:0 -254px;width:176px;height:32px}.svg-Wikiquote-logo_sister{background-position:0 -286px;width:42px;height:42px}.svg-Wikisource-logo_sister{background-position:0 -328px;width:39px;height:39px}.svg-Wikispecies-logo_sister{background-position:0 -367px;width:42px;height:42px}.svg-Wikiversity-logo_sister{background-position:0 -409px;width:43px;height:37px}.svg-Wikivoyage-logo_sister{background-position:0 -446px;width:36px;height:36px}.svg-Wiktionary-logo_sister{background-position:0 -482px;width:37px;height:37px}.svg-arrow-down{background-position:0 -519px;width:12px;height:8px}.svg-arrow-down-blue{background-position:0 -527px;width:14px;height:14px}.svg-badge_google_play_store{background-position:0 -541px;width:124px;height:38px}.svg-badge_ios_app_store{background-position:0 -579px;width:110px;height:38px}.svg-language-icon{background-position:0 -617px;width:22px;height:22px}.svg-noimage{background-position:0 -639px;width:58px;height:58px}.svg-search-icon{background-position:0 -697px;width:22px;height:22px}.svg-wikipedia_app_tile{background-position:0 -719px;width:42px;height:42px}\\n</style>\\n<style>\\nhtml{font-family:sans-serif;-ms-text-size-adjust:100%;-webkit-text-size-adjust:100%;font-size:62.5%}body{margin:0}article,aside,details,figcaption,figure,footer,header,hgroup,main,menu,nav,section,summary{display:block}audio,canvas,progress,video{display:inline-block;vertical-align:baseline}audio:not([controls]){display:none;height:0}[hidden],template{display:none}a{background-color:transparent}a:active,a:hover{outline:0}abbr[title]{border-bottom:1px dotted}b,strong{font-weight:700}dfn{font-style:italic}h1{font-size:32px;font-size:3.2rem;margin:12px 0;margin:1.2rem 0}mark{background:#fc3;color:#000}small{font-size:13px;font-size:1.3rem}sub,sup{font-size:75%;line-height:0;position:relative;vertical-align:baseline}sup{top:-.5em}sub{bottom:-.25em}svg:not(:root){overflow:hidden}figure{margin:16px 40px;margin:1.6rem 4rem}hr{box-sizing:content-box}pre{overflow:auto}code,kbd,pre,samp{font-family:monospace,monospace;font-size:14px;font-size:1.4rem}button,input,optgroup,select,textarea{color:inherit;font:inherit;margin:0}button{overflow:visible}button,select{text-transform:none}button,html input[type=button],input[type=reset],input[type=submit]{-webkit-appearance:button;cursor:pointer}button[disabled],html input[disabled]{cursor:default}button::-moz-focus-inner,input::-moz-focus-inner{border:0;padding:0}input{line-height:normal}input[type=checkbox],input[type=radio]{box-sizing:border-box;padding:0}input[type=number]::-webkit-inner-spin-button,input[type=number]::-webkit-outer-spin-button{height:auto}input[type=search]{-webkit-appearance:none;box-sizing:content-box}input[type=search]::-webkit-search-cancel-button,input[type=search]::-webkit-search-decoration{-webkit-appearance:none}input[type=search]:focus{outline-offset:-2px}fieldset{border:1px solid #a2a9b1;margin:0 2px;margin:0 .2rem;padding:6px 10px 12px;padding:.6rem 1rem 1.2rem}legend{border:0;padding:0}textarea{overflow:auto}optgroup{font-weight:700}table{border-collapse:collapse;border-spacing:0}td,th{padding:0}.hidden,[hidden]{display:none!important}.screen-reader-text{display:block;position:absolute!important;clip:rect(1px,1px,1px,1px);width:1px;height:1px;margin:-1px;border:0;padding:0;overflow:hidden}body{background-color:#fff;font-family:-apple-system,BlinkMacSystemFont,Segoe UI,Roboto,Lato,Helvetica,Arial,sans-serif;font-size:14px;font-size:1.4rem;line-height:1.5;margin:4px 0 16px;margin:.4rem 0 1.6rem}a{-ms-touch-action:manipulation;touch-action:manipulation}a,a:active,a:focus{unicode-bidi:embed;outline:0;color:#36c;text-decoration:none}a:focus{outline:1px solid #36c}a:hover{text-decoration:underline}img{vertical-align:middle}hr,img{border:0}hr{clear:both;height:0;border-bottom:1px solid #c8ccd1;margin:2.6px 13px;margin:.26rem 1.3rem}.pure-button{display:inline-block;zoom:1;line-height:normal;white-space:nowrap;text-align:center;cursor:pointer;-webkit-user-drag:none;-webkit-user-select:none;-moz-user-select:none;-ms-user-select:none;user-select:none;box-sizing:border-box;background-color:#f8f9fa;color:#202122;position:relative;min-height:19.2px;min-height:1.92rem;min-width:16px;min-width:1.6rem;margin:1.6px 0;margin:.16rem 0;border:1px solid #a2a9b1;border-radius:2px;padding:8px 16px;padding:.8rem 1.6rem;font-family:inherit;font-size:inherit;font-weight:700;text-decoration:none;vertical-align:top;transition:background .1s ease,color .1s ease,border-color .1s ease,box-shadow .1s ease}.pure-button::-moz-focus-inner{padding:0;border:0}.pure-button-hover,.pure-button:hover{background-color:#fff;border-color:#a2a9b1;color:#404244}.pure-button-active,.pure-button:active{background-color:#c8ccd1;border-color:#72777d;color:#000}.pure-button:focus{outline:0;border-color:#36c;box-shadow:inset 0 0 0 1px #36c}.pure-button-primary-progressive{background-color:#36c;border-color:#36c;color:#fff}.pure-button-primary-progressive:hover{background:#447ff5;border-color:#447ff5}.pure-button-primary-progressive:active{background-color:#2a4b8d;border-color:#2a4b8d;box-shadow:none;color:#fff}.pure-button-primary-progressive:focus{box-shadow:inset 0 0 0 1px #36c,inset 0 0 0 2px #fff;border-color:#36c}.pure-form input[type=search]{background-color:#fff;display:inline-block;box-sizing:border-box;border:1px solid #a2a9b1;border-radius:2px;padding:8px;padding:.8rem;box-shadow:inset 0 0 0 1px #fff;vertical-align:middle}.pure-form input:focus:invalid{color:#b32424;border-color:#d33}.pure-form fieldset{margin:0;padding:5.6px 0 12px;padding:.56rem 0 1.2rem;border:0}@media only screen and (max-width:480px){.pure-form input[type=search]{display:block}}.central-textlogo-wrapper{display:inline-block;vertical-align:bottom}.central-textlogo{position:relative;margin:40px auto 5px;margin:4rem auto .5rem;width:270px;font-family:Linux Libertine,Hoefler Text,Georgia,Times New Roman,Times,serif;font-size:30px;font-size:3rem;font-weight:400;line-height:33px;line-height:3.3rem;text-align:center;-ms-font-feature-settings:\"ss05\";font-feature-settings:\"ss05\"}.localized-slogan{display:block;font-family:Linux Libertine,Georgia,Times,serif;font-size:15px;font-size:1.5rem;font-weight:400}.central-textlogo__image{color:transparent;display:inline-block;overflow:hidden;text-indent:-10000px}.central-featured-logo{position:absolute;top:158px;left:35px}@media (max-width:480px){.central-textlogo{position:relative;height:70px;width:auto;margin:0;margin-top:20px;margin-top:2rem;text-align:center;line-height:25px;line-height:2.5rem;text-indent:-10px;text-indent:-1rem}.central-textlogo-wrapper{position:relative;top:12px;text-indent:2px;text-indent:.2rem}.svg-Wikipedia_wordmark{width:150px;height:25px;background-position:0 -218px;background-size:100%}.localized-slogan{font-size:14px;font-size:1.4rem}.central-featured-logo{position:relative;display:inline-block;width:57px;height:auto;left:0;top:0}}@media (max-width:240px){.central-textlogo__image{height:auto}}.central-featured{position:relative;height:325px;height:32.5rem;width:546px;width:54.6rem;max-width:100%;margin:0 auto;text-align:center;vertical-align:middle}.central-featured-lang{position:absolute;width:156px;width:15.6rem}.central-featured-lang .link-box{display:block;padding:0;text-decoration:none;white-space:normal}.central-featured-lang .link-box:hover strong{text-decoration:underline}.central-featured-lang strong{display:block;font-size:16px;font-size:1.6rem}.central-featured-lang small{color:#54595d;display:inline-block;font-size:13px;font-size:1.3rem;line-height:1.6}.central-featured-lang em{font-style:italic}.central-featured-lang .emNonItalicLang{font-style:normal}.lang1{top:0;right:60%}.lang2{top:0;left:60%}.lang3{top:20%;right:70%}.lang4{top:20%;left:70%}.lang5{top:40%;right:72%}.lang6{top:40%;left:72%}.lang7{top:60%;right:70%}.lang8{top:60%;left:70%}.lang9{top:80%;right:60%}.lang10{top:80%;left:60%}@media (max-width:480px){.central-featured{width:auto;height:auto;margin-top:70px;margin-top:7rem;font-size:13px;font-size:1.3rem;text-align:left}.central-featured:after{content:\" \";display:block;visibility:hidden;clear:both;height:0;font-size:0}.central-featured-lang{display:block;float:left;position:relative;top:auto;left:auto;right:auto;box-sizing:border-box;height:64px;height:6.4rem;width:33%;margin:0 0 16px;padding:0 16px;padding:0 1.6rem;font-size:14px;font-size:1.4rem;text-align:center}.central-featured-lang strong{font-size:14px;font-size:1.4rem;margin-bottom:4px}.central-featured-lang small{line-height:1.4}}@media (max-width:375px){.central-featured-lang{font-size:13px;font-size:1.3rem}}@media (max-width:240px){.central-featured-lang{width:100%}}.search-container{float:none;max-width:95%;width:540px;margin:4px auto 19.5px;margin:.4rem auto 1.95rem;text-align:center;vertical-align:middle}.search-container fieldset{word-spacing:-4px}.search-container button{min-height:44px;min-height:4.4rem;margin:0;border-radius:0 2px 2px 0;padding:8px 16px;padding:.8rem 1.6rem;font-size:16px;font-size:1.6rem;z-index:2}.search-container button .svg-search-icon{text-indent:-9999px}.search-container input[type=search]::-webkit-search-results-button,.search-container input[type=search]::-webkit-search-results-decoration{-webkit-appearance:none}.search-container input::-webkit-calendar-picker-indicator{display:none}.search-container .sprite.svg-arrow-down{position:absolute;top:8px;top:.8rem;right:6px;right:.6rem}#searchInput{-webkit-appearance:none;width:100%;height:44px;height:4.4rem;border-width:1px 0 1px 1px;border-radius:2px 0 0 2px;padding:8px 96px 8px 12px;padding:.8rem 9.6rem .8rem 1.2rem;font-size:16px;font-size:1.6rem;line-height:1.6;transition:background .1s ease,border-color .1s ease,box-shadow .1s ease}#searchInput:hover{border-color:#72777d}#searchInput:focus{border-color:#36c;box-shadow:inset 0 0 0 1px #36c;outline:0}.search-container .search-input{display:inline-block;position:relative;width:73%;vertical-align:top}@media only screen and (max-width:480px){.search-container .pure-form fieldset{margin-left:10px;margin-left:1rem;margin-right:66px;margin-right:6.6rem}.search-container .search-input{width:100%;margin-right:-66px;margin-right:-6.6rem}.search-container .pure-form button{float:right;right:-56px;right:-5.6rem}}.suggestions-dropdown{background-color:#fff;display:inline-block;position:absolute;left:0;z-index:2;margin:0;padding:0;border:1px solid #a2a9b1;border-top:0;box-shadow:0 2px 2px 0 rgba(0,0,0,.25);list-style-type:none;word-spacing:normal}.suggestion-link,.suggestions-dropdown{box-sizing:border-box;width:100%;text-align:left}.suggestion-link{display:block;position:relative;min-height:70px;min-height:7rem;padding:10px 10px 10px 85px;padding:1rem 1rem 1rem 8.5rem;border-bottom:1px solid #eaecf0;color:inherit;text-decoration:none;text-align:initial;white-space:normal}.suggestion-link.active{background-color:#eaf3ff}a.suggestion-link:hover{text-decoration:none}a.suggestion-link:active,a.suggestion-link:focus{outline:0;white-space:normal}.suggestion-thumbnail{background-color:#eaecf0;background-image:url(portal/wikipedia.org/assets/img/noimage.png);background-image:linear-gradient(transparent,transparent),url(\"data:image/svg+xml;charset=utf-8,%3Csvg xmlns=\\'http://www.w3.org/2000/svg\\' viewBox=\\'0 0 56 56\\'%3E%3Cpath fill=\\'%23eee\\' d=\\'M0 0h56v56H0z\\'/%3E%3Cpath fill=\\'%23999\\' d=\\'M36.4 13.5H17.8v24.9c0 1.4.9 2.3 2.3 2.3h18.7v-25c.1-1.4-1-2.2-2.4-2.2zM30.2 17h5.1v6.4h-5.1V17zm-8.8 0h6v1.8h-6V17zm0 4.6h6v1.8h-6v-1.8zm0 15.5v-1.8h13.8v1.8H21.4zm13.8-4.5H21.4v-1.8h13.8v1.8zm0-4.7H21.4v-1.8h13.8v1.8z\\'/%3E%3C/svg%3E\");background-image:linear-gradient(transparent,transparent),url(portal/wikipedia.org/assets/img/noimage.svg) !ie;background-image:-o-linear-gradient(transparent,transparent),url(portal/wikipedia.org/assets/img/noimage.png);background-position:50%;background-repeat:no-repeat;background-size:100% auto;background-size:cover;height:100%;width:70px;width:7rem;position:absolute;top:0;left:0}.suggestion-title{margin:0 0 7.8px;margin:0 0 .78rem;color:#54595d;font-size:16px;font-size:1.6rem;line-height:18.72px;line-height:1.872rem}.suggestion-link.active .suggestion-title{color:#36c}.suggestion-highlight{font-style:normal;text-decoration:underline}.suggestion-description{color:#72777d;margin:0;font-size:13px;font-size:1.3rem;line-height:14.299px;line-height:1.43rem}.styled-select{display:none;position:absolute;top:10px;top:1rem;bottom:12px;bottom:1.2rem;right:12px;right:1.2rem;max-width:95px;max-width:9.5rem;height:24px;height:2.4rem;border-radius:2px}.styled-select:hover{background-color:#f8f9fa}.styled-select .hide-arrow{right:32px;right:3.2rem;max-width:68px;max-width:6.8rem;height:24px;height:2.4rem;overflow:hidden;text-align:right}.styled-select select{background:transparent;display:inline;overflow:hidden;height:24px;height:2.4rem;min-width:110px;min-width:11rem;max-width:110px;max-width:11rem;width:110px;width:11rem;outline:0;box-sizing:border-box;border:0;line-height:24px;line-height:2.4rem;-webkit-appearance:none;-moz-appearance:window;text-indent:.01px;text-overflow:\"\";opacity:0;-moz-appearance:none;appearance:none;cursor:pointer}.styled-select.no-js{width:95px;width:9.5rem}.styled-select.no-js select{opacity:1;margin:0;padding:0 24px 0 8px;padding:0 2.4rem 0 .8rem;color:#54595d}.styled-select.no-js .hide-arrow{width:68px;width:6.8rem}.search-container .styled-select.no-js .js-langpicker-label{display:none}.styled-select.js-enabled .hide-arrow{padding:0 24px 0 8px;padding:0 2.4rem 0 .8rem}.styled-select.js-enabled select{background:transparent;position:absolute;top:0;left:0;height:100%;z-index:1;width:100%;border:0;margin:0;padding:0 24px;padding:0 2.4rem;color:transparent;color:hsla(0,0%,100%,0)}.styled-select.js-enabled select option{color:#54595d}.styled-select.js-enabled select:hover{background-color:transparent}.styled-select-active-helper{display:none}.styled-select.js-enabled select:focus+.styled-select-active-helper{display:block;position:absolute;top:0;left:0;z-index:0;width:100%;height:100%;outline:1px solid #36c}.search-container .js-langpicker-label{display:inline-block;margin:0;color:#54595d;font-size:13px;font-size:1.3rem;line-height:24px;line-height:2.4rem;text-transform:uppercase}.styled-select select:hover{background-color:#f8f9fa}.styled-select select::-ms-expand{display:none}.styled-select select:focus{outline:0;box-shadow:none}@-moz-document url-prefix(){.styled-select select{width:110%}}.other-projects{display:inline-block;width:65%}.other-project{float:left;position:relative;width:33%;height:90px;height:9rem}.other-project-link{display:inline-block;min-height:50px;width:100%;white-space:nowrap}a.other-project-link{text-decoration:none}.other-project-icon{display:inline-block;width:50px;text-align:center}.svg-Wikinews-logo_sister{background-image:url(portal/wikipedia.org/assets/img/Wikinews-logo_sister.png);background-position:0 0;background-size:47px 26px;width:47px;height:26px}@media (-webkit-min-device-pixel-ratio:1.25),(min-resolution:120dpi){.svg-Wikinews-logo_sister{background-image:url(portal/wikipedia.org/assets/img/Wikinews-logo_sister@2x.png)}}.other-project-text,.other-project .sprite-project-logos{display:inline-block}.other-project-text{max-width:65%;font-size:14px;font-size:1.4rem;vertical-align:middle;white-space:normal}.other-project-tagline,.other-project-title{display:block}.other-project-tagline{color:#54595d;font-size:13px;font-size:1.3rem}@media screen and (max-width:768px){.other-projects{width:100%}.other-project{width:33%}}@media screen and (max-width:480px){.other-project{width:50%}.other-project-tagline{-webkit-hyphens:auto;-ms-hyphens:auto;hyphens:auto}}@media screen and (max-width:320px){.other-project-text{margin-right:5px;font-size:13px;font-size:1.3rem}}.lang-list-container{background-color:#f8f9fa;overflow:hidden;position:relative;box-sizing:border-box;max-height:0;width:80%;margin:-16px auto 48px;margin:-1.6rem auto 4.8rem;transition:max-height .5s ease-out,visibility .5s ease-in 1s}.js-enabled .lang-list-container{visibility:hidden}.lang-list-active .lang-list-container,.no-js .lang-list-container{visibility:visible;max-height:10000px;transition:max-height 1s ease-in .2s,visibility 1000s ease-in 0ms}.no-js .lang-list-button{display:none}.lang-list-button-wrapper{text-align:center}.lang-list-button{background-color:#f8f9fa;display:inline;position:relative;z-index:1;margin:0 auto;padding:6px 12px;padding:.6rem 1.2rem;outline:16px solid #fff;outline:1.6rem solid #fff;border:1px solid #a2a9b1;border-radius:2px;color:#36c;font-size:14px;font-size:1.4rem;font-weight:700;line-height:1;transition:outline-width .1s ease-in .5s}.lang-list-button:hover{background-color:#fff;border-color:#a2a9b1}.lang-list-button:focus{border-color:#36c;box-shadow:inset 0 0 0 1px #36c}.lang-list-active .lang-list-button{background-color:#fff;outline:1px solid #fff;border-color:#72777d;transition-delay:0s}.lang-list-button-text{padding:0 6.4px;padding:0 .64rem;vertical-align:middle}.lang-list-button i{display:inline-block;vertical-align:middle}.no-js .lang-list-border,.no-js .lang-list-button{display:none}.lang-list-border{background-color:#c8ccd1;display:block;position:relative;max-width:460px;width:80%;margin:-16px auto 16px;margin:-1.6rem auto 1.6rem;height:1px;transition:max-width .2s ease-out 400s}.lang-list-active .lang-list-border{max-width:85%;transition-delay:0s}.no-js .lang-list-content{padding:0}.lang-list-content{position:relative;box-sizing:border-box;width:100%;padding:16px 16px 0;padding:1.6rem 1.6rem 0}.svg-arrow-down-blue{transition:transform .2s ease-out}.lang-list-active .svg-arrow-down-blue{transform:rotate(180deg)}.langlist{width:auto;margin:16px 0;margin:1.6rem 0;text-align:left}.langlist-others{font-weight:700;text-align:center}.hlist ul{margin:0;padding:0}.hlist li,.hlist ul ul{display:inline}.hlist li:before{content:\" · \";font-weight:700}.hlist li:first-child:before{content:none}.hlist li>ul:before{content:\"\\\\00a0(\"}.hlist li>ul:after{content:\") \"}.langlist>ul{column-width:11.2rem}.langlist>ul>li{display:block;line-height:1.7;break-inside:avoid}.no-js .langlist>ul{text-align:center;list-style-type:circle}.no-js .langlist>ul>li{display:inline-block;padding:0 8px;padding:0 .8rem}.langlist>ul>li:before{content:none}.langlist>ul>li a{white-space:normal}@media (max-width:480px){.langlist{font-size:inherit}.langlist a{word-wrap:break-word;white-space:normal}.lang-list-container{width:auto;margin-left:8px;margin-left:.8rem;margin-right:8px;margin-right:.8rem}.bookshelf{overflow:visible}}.bookshelf{display:block;border-top:1px solid #c8ccd1;box-shadow:0 -1px 0 #fff;text-align:center;white-space:nowrap}.bookshelf .text{background-color:#f8f9fa;position:relative;top:-11.2px;top:-1.12rem;font-weight:400;padding:0 8px;padding:0 .8rem}.bookshelf-container{display:block;overflow:visible;width:100%;height:1px;margin:24px 0 16px;margin:2.4rem 0 1.6rem;font-size:13px;font-size:1.3rem;font-weight:700;line-height:1.5}@media (max-width:480px){.bookshelf{width:auto;left:auto}.bookshelf-container{text-align:left;width:auto}}.app-badges .footer-sidebar-content{background-color:#f8f9fa}.app-badges .footer-sidebar-text{padding-top:8px;padding-top:.8rem;padding-bottom:8px;padding-bottom:.8rem}.app-badges .sprite.footer-sidebar-icon{top:8px;top:.8rem}.app-badges ul{margin:0;padding:0;list-style-type:none}.app-badge{display:inline-block}@media screen and (max-width:768px){.app-badges .footer-sidebar-content{text-align:center}.app-badges .sprite.footer-sidebar-icon{display:inline-block;position:relative;margin:0;top:-3px;left:0;vertical-align:middle;transform:scale(.7)}}.footer{overflow:hidden;max-width:100%;margin:0 auto;padding:41.6px 12.8px 12.8px;padding:4.16rem 1.28rem 1.28rem;font-size:13px;font-size:1.3rem}.footer:after,.footer:before{content:\" \";display:table}.footer:after{clear:both}.footer-sidebar{width:35%;float:left;clear:left;margin-bottom:32px;margin-bottom:3.2rem;vertical-align:top}.footer-sidebar-content{position:relative;max-width:350px;margin:0 auto}.sprite.footer-sidebar-icon{position:absolute;top:0;left:8px;left:.8rem}.footer-sidebar-text{position:relative;margin:0;padding-left:60px;padding-left:6rem;padding-right:20px;padding-right:2rem;color:#54595d}.site-license{margin:0;color:#54595d;text-align:center}.site-license small:after{content:\"\\\\2022\";display:inline-block;font-size:13px;font-size:1.3rem;line-height:inherit;margin-left:8px;margin-left:.8rem;margin-right:5px;margin-right:.5rem}.site-license small:last-child:after{display:none}@media screen and (max-width:768px){.footer{display:-ms-flexbox;display:flex;-ms-flex-direction:column;flex-direction:column;padding-top:12.8px;padding-top:1.28rem}.footer .footer-sidebar{-ms-flex-order:1;order:1}.footer .other-projects{-ms-flex-order:2;order:2}.footer .app-badges{-ms-flex-order:3;order:3}.footer-sidebar{width:100%}.sprite.footer-sidebar-icon{display:block;position:relative;left:0;margin:0 auto 12.8px;margin:0 auto 1.28rem}.footer-sidebar-content{max-width:none}.footer-sidebar-text{margin:0;padding:0;text-align:center}}@media screen and (max-width:480px){.footer{padding:9.6px 6.4px 12.8px;padding:.96rem .64rem 1.28rem}}@media (max-width:480px){.search-container{margin-top:0;height:78px;height:7.8rem;position:absolute;top:96px;top:9.6rem;left:0;right:0;max-width:100%;width:auto;padding:0;text-align:left}.search-container label{display:none}.search-form #searchInput{max-width:40%;vertical-align:middle}.search-form .formBtn{max-width:25%;vertical-align:middle}form fieldset{margin:0;border-left:0;border-right:0}hr{margin-top:6.5px;margin-top:.65rem}}@media (-webkit-min-device-pixel-ratio:2),(min--moz-device-pixel-ratio:2),(min-resolution:2dppx),(min-resolution:192dpi){hr{border-bottom-width:.5px}}@supports (-webkit-marquee-style:slide){hr{border-bottom-width:1px}}.js-enabled .central-featured,.js-enabled .jsl10n{visibility:hidden}.jsl10n-visible .central-featured,.jsl10n-visible .jsl10n{visibility:visible}.otherprojects-icon{*zoom:1;*display:inline}.suggestion-item{*width:auto}.search-container button{*display:inline}#searchInput{*padding:8px 0 0 8px;*width:90%;*height:34px}#search-input{*display:inline}.langlist ul{*text-align:center}.langlist ul li{*display:inline!important;*padding-left:5px;*padding-right:5px}@media print{body{background-color:transparent}a{color:#000!important;background:none!important;padding:0!important}a:link,a:visited{color:#520;background:transparent}img{border:0}}\\n</style>\\n<link rel=\"preconnect\" href=\"//upload.wikimedia.org\">\\n</head>\\n<body id=\"www-wikipedia-org\">\\n<div class=\"central-textlogo\" style=\"font-size: 1em;\">\\n<img class=\"central-featured-logo\" src=\"portal/wikipedia.org/assets/img/Wikipedia-logo-v2.png\" srcset=\"portal/wikipedia.org/assets/img/Wikipedia-logo-v2@1.5x.png 1.5x, portal/wikipedia.org/assets/img/Wikipedia-logo-v2@2x.png 2x\" width=\"200\" height=\"183\" alt=\"Wikipedia\">\\n<h1 class=\"central-textlogo-wrapper\">\\n<span class=\"central-textlogo__image sprite svg-Wikipedia_wordmark\">\\nWikipedia\\n</span>\\n<strong class=\"jsl10n localized-slogan\" data-jsl10n=\"slogan\">The Free Encyclopedia</strong>\\n</h1>\\n</div>\\n<div class=\"central-featured\" data-el-section=\"primary links\">\\n<!-- #1. en.wikipedia.org - 1 853 264 000 views/day -->\\n<div class=\"central-featured-lang lang1\" lang=\"en\" dir=\"ltr\">\\n<a id=\"js-link-box-en\" href=\"//en.wikipedia.org/\" title=\"English — Wikipedia — The Free Encyclopedia\" class=\"link-box\" data-slogan=\"The Free Encyclopedia\">\\n<strong>English</strong>\\n<small><bdi dir=\"ltr\">6&nbsp;260&nbsp;000+</bdi> <span>articles</span></small>\\n</a>\\n</div>\\n<!-- #2. es.wikipedia.org - 264 736 000 views/day -->\\n<div class=\"central-featured-lang lang2\" lang=\"es\" dir=\"ltr\">\\n<a id=\"js-link-box-es\" href=\"//es.wikipedia.org/\" title=\"Español — Wikipedia — La enciclopedia libre\" class=\"link-box\" data-slogan=\"La enciclopedia libre\">\\n<strong>Español</strong>\\n<small><bdi dir=\"ltr\">1&nbsp;664&nbsp;000+</bdi> <span>artículos</span></small>\\n</a>\\n</div>\\n<!-- #3. ja.wikipedia.org - 256 758 000 views/day -->\\n<div class=\"central-featured-lang lang3\" lang=\"ja\" dir=\"ltr\">\\n<a id=\"js-link-box-ja\" href=\"//ja.wikipedia.org/\" title=\"Nihongo — ウィキペディア — フリー百科事典\" class=\"link-box\" data-slogan=\"フリー百科事典\">\\n<strong>日本語</strong>\\n<small><bdi dir=\"ltr\">1&nbsp;256&nbsp;000+</bdi> <span>記事</span></small>\\n</a>\\n</div>\\n<!-- #4. de.wikipedia.org - 236 732 000 views/day -->\\n<div class=\"central-featured-lang lang4\" lang=\"de\" dir=\"ltr\">\\n<a id=\"js-link-box-de\" href=\"//de.wikipedia.org/\" title=\"Deutsch — Wikipedia — Die freie Enzyklopädie\" class=\"link-box\" data-slogan=\"Die freie Enzyklopädie\">\\n<strong>Deutsch</strong>\\n<small><bdi dir=\"ltr\">2&nbsp;542&nbsp;000+</bdi> <span>Artikel</span></small>\\n</a>\\n</div>\\n<!-- #5. ru.wikipedia.org - 203 482 000 views/day -->\\n<div class=\"central-featured-lang lang5\" lang=\"ru\" dir=\"ltr\">\\n<a id=\"js-link-box-ru\" href=\"//ru.wikipedia.org/\" title=\"Russkiy — Википедия — Свободная энциклопедия\" class=\"link-box\" data-slogan=\"Свободная энциклопедия\">\\n<strong>Русский</strong>\\n<small><bdi dir=\"ltr\">1&nbsp;703&nbsp;000+</bdi> <span>статей</span></small>\\n</a>\\n</div>\\n<!-- #6. fr.wikipedia.org - 179 657 000 views/day -->\\n<div class=\"central-featured-lang lang6\" lang=\"fr\" dir=\"ltr\">\\n<a id=\"js-link-box-fr\" href=\"//fr.wikipedia.org/\" title=\"Français — Wikipédia — L’encyclopédie libre\" class=\"link-box\" data-slogan=\"L’encyclopédie libre\">\\n<strong>Français</strong>\\n<small><bdi dir=\"ltr\">2&nbsp;304&nbsp;000+</bdi> <span>articles</span></small>\\n</a>\\n</div>\\n<!-- #7. it.wikipedia.org - 136 618 000 views/day -->\\n<div class=\"central-featured-lang lang7\" lang=\"it\" dir=\"ltr\">\\n<a id=\"js-link-box-it\" href=\"//it.wikipedia.org/\" title=\"Italiano — Wikipedia — L&#x27;enciclopedia libera\" class=\"link-box\" data-slogan=\"L&#x27;enciclopedia libera\">\\n<strong>Italiano</strong>\\n<small><bdi dir=\"ltr\">1&nbsp;677&nbsp;000+</bdi> <span>voci</span></small>\\n</a>\\n</div>\\n<!-- #8. zh.wikipedia.org - 119 098 000 views/day -->\\n<div class=\"central-featured-lang lang8\" lang=\"zh\" dir=\"ltr\">\\n<a id=\"js-link-box-zh\" href=\"//zh.wikipedia.org/\" title=\"Zhōngwén — 維基百科 — 自由的百科全書\" class=\"link-box\" data-converttitle-hans=\"Zhōngwén — 维基百科 — 自由的百科全书\" data-slogan=\"自由的百科全書\">\\n<strong>中文</strong>\\n<small><bdi dir=\"ltr\">1&nbsp;180&nbsp;000+</bdi> <span data-convert-hans=\"条目\" id=\"zh_art\">條目</span></small>\\n</a>\\n</div>\\n<!-- #9. pt.wikipedia.org - 75 022 000 views/day -->\\n<div class=\"central-featured-lang lang9\" lang=\"pt\" dir=\"ltr\">\\n<a id=\"js-link-box-pt\" href=\"//pt.wikipedia.org/\" title=\"Português — Wikipédia — A enciclopédia livre\" class=\"link-box\" data-slogan=\"A enciclopédia livre\">\\n<strong>Português</strong>\\n<small><bdi dir=\"ltr\">1&nbsp;058&nbsp;000+</bdi> <span>artigos</span></small>\\n</a>\\n</div>\\n<!-- #10. pl.wikipedia.org - 68 623 000 views/day -->\\n<div class=\"central-featured-lang lang10\" lang=\"pl\" dir=\"ltr\">\\n<a id=\"js-link-box-pl\" href=\"//pl.wikipedia.org/\" title=\"Polski — Wikipedia — Wolna encyklopedia\" class=\"link-box\" data-slogan=\"Wolna encyklopedia\">\\n<strong>Polski</strong>\\n<small><bdi dir=\"ltr\">1&nbsp;460&nbsp;000+</bdi> <span>haseł</span></small>\\n</a>\\n</div>\\n</div>\\n<div class=\"search-container\">\\n<form class=\"pure-form\" id=\"search-form\" action=\"//www.wikipedia.org/search-redirect.php\" data-el-section=\"search\">\\n<fieldset>\\n<input type=\"hidden\" name=\"family\" value=\"wikipedia\">\\n<input type=\"hidden\" id=\"hiddenLanguageInput\" name=\"language\" value=\"en\">\\n<div class=\"search-input\" id=\"search-input\">\\n<label for=\"searchInput\" class=\"screen-reader-text\" data-jsl10n=\"search-input-label\">Search Wikipedia</label>\\n<input id=\"searchInput\" name=\"search\" type=\"search\" size=\"20\" autofocus=\"autofocus\" accesskey=\"F\" dir=\"auto\" autocomplete=\"off\">\\n<div class=\"styled-select no-js\">\\n<div class=\"hide-arrow\">\\n<select id=\"searchLanguage\" name=\"language\">\\n<option value=\"ar\" lang=\"ar\">العربية</option><!-- Al-ʿArabīyah -->\\n<option value=\"ast\" lang=\"ast\">Asturianu</option>\\n<option value=\"az\" lang=\"az\">Azərbaycanca</option>\\n<option value=\"bg\" lang=\"bg\">Български</option><!-- Bǎlgarski -->\\n<option value=\"nan\" lang=\"nan\">Bân-lâm-gú / Hō-ló-oē</option>\\n<option value=\"bn\" lang=\"bn\">বাংলা</option><!-- Bangla -->\\n<option value=\"be\" lang=\"be\">Беларуская</option><!-- Belaruskaya -->\\n<option value=\"ca\" lang=\"ca\">Català</option>\\n<option value=\"cs\" lang=\"cs\">Čeština</option><!-- čeština -->\\n<option value=\"cy\" lang=\"cy\">Cymraeg</option><!-- Cymraeg -->\\n<option value=\"da\" lang=\"da\">Dansk</option>\\n<option value=\"de\" lang=\"de\">Deutsch</option>\\n<option value=\"et\" lang=\"et\">Eesti</option>\\n<option value=\"el\" lang=\"el\">Ελληνικά</option><!-- Ellīniká -->\\n<option value=\"en\" lang=\"en\" selected=selected>English</option><!-- English -->\\n<option value=\"es\" lang=\"es\">Español</option>\\n<option value=\"eo\" lang=\"eo\">Esperanto</option>\\n<option value=\"eu\" lang=\"eu\">Euskara</option>\\n<option value=\"fa\" lang=\"fa\">فارسی</option><!-- Fārsi -->\\n<option value=\"fr\" lang=\"fr\">Français</option>\\n<option value=\"gl\" lang=\"gl\">Galego</option>\\n<option value=\"hy\" lang=\"hy\">Հայերեն</option><!-- Hayeren -->\\n<option value=\"hi\" lang=\"hi\">हिन्दी</option><!-- Hindī -->\\n<option value=\"hr\" lang=\"hr\">Hrvatski</option>\\n<option value=\"id\" lang=\"id\">Bahasa Indonesia</option>\\n<option value=\"it\" lang=\"it\">Italiano</option>\\n<option value=\"he\" lang=\"he\">עברית</option><!-- Ivrit -->\\n<option value=\"ka\" lang=\"ka\">ქართული</option><!-- Kartuli -->\\n<option value=\"la\" lang=\"la\">Latina</option>\\n<option value=\"lv\" lang=\"lv\">Latviešu</option>\\n<option value=\"lt\" lang=\"lt\">Lietuvių</option>\\n<option value=\"hu\" lang=\"hu\">Magyar</option>\\n<option value=\"mk\" lang=\"mk\">Македонски</option><!-- Makedonski -->\\n<option value=\"arz\" lang=\"arz\">مصرى</option><!-- Maṣrī -->\\n<option value=\"ms\" lang=\"ms\">Bahasa Melayu</option>\\n<option value=\"min\" lang=\"min\">Bahaso Minangkabau</option>\\n<option value=\"my\" lang=\"my\">မြန်မာဘာသာ</option><!-- Myanmarsar -->\\n<option value=\"nl\" lang=\"nl\">Nederlands</option>\\n<option value=\"ja\" lang=\"ja\">日本語</option><!-- Nihongo -->\\n<option value=\"no\" lang=\"nb\">Norsk (bokmål)</option>\\n<option value=\"nn\" lang=\"nn\">Norsk (nynorsk)</option>\\n<option value=\"ce\" lang=\"ce\">Нохчийн</option><!-- Noxçiyn -->\\n<option value=\"uz\" lang=\"uz\">Oʻzbekcha / Ўзбекча</option>\\n<option value=\"pl\" lang=\"pl\">Polski</option>\\n<option value=\"pt\" lang=\"pt\">Português</option>\\n<option value=\"kk\" lang=\"kk\">Қазақша / Qazaqşa / قازاقشا</option>\\n<option value=\"ro\" lang=\"ro\">Română</option><!-- Română -->\\n<option value=\"ru\" lang=\"ru\">Русский</option><!-- Russkiy -->\\n<option value=\"simple\" lang=\"en\">Simple English</option>\\n<option value=\"ceb\" lang=\"ceb\">Sinugboanong Binisaya</option>\\n<option value=\"sk\" lang=\"sk\">Slovenčina</option>\\n<option value=\"sl\" lang=\"sl\">Slovenščina</option>\\n<option value=\"sr\" lang=\"sr\">Српски / Srpski</option>\\n<option value=\"sh\" lang=\"sh\">Srpskohrvatski / Српскохрватски</option>\\n<option value=\"fi\" lang=\"fi\">Suomi</option><!-- suomi -->\\n<option value=\"sv\" lang=\"sv\">Svenska</option>\\n<option value=\"ta\" lang=\"ta\">தமிழ்</option><!-- Tamiḻ -->\\n<option value=\"tt\" lang=\"tt\">Татарча / Tatarça</option>\\n<option value=\"th\" lang=\"th\">ภาษาไทย</option><!-- Phasa Thai -->\\n<option value=\"tg\" lang=\"tg\">Тоҷикӣ</option><!-- Tojikī -->\\n<option value=\"azb\" lang=\"azb\">تۆرکجه</option><!-- Türkce -->\\n<option value=\"tr\" lang=\"tr\">Türkçe</option><!-- Türkçe -->\\n<option value=\"uk\" lang=\"uk\">Українська</option><!-- Ukrayins’ka -->\\n<option value=\"ur\" lang=\"ur\">اردو</option><!-- Urdu -->\\n<option value=\"vi\" lang=\"vi\">Tiếng Việt</option>\\n<option value=\"vo\" lang=\"vo\">Volapük</option>\\n<option value=\"war\" lang=\"war\">Winaray</option>\\n<option value=\"zh-yue\" lang=\"yue\">粵語</option><!-- Yuht Yúh / Jyut6 jyu5 -->\\n<option value=\"zh\" lang=\"zh\">中文</option><!-- Zhōngwén -->\\n<option value=\"ko\" lang=\"ko\">한국어</option><!-- Hangugeo -->\\n</select>\\n<div class=\"styled-select-active-helper\"></div>\\n</div>\\n<i class=\"sprite svg-arrow-down\"></i>\\n</div>\\n</div>\\n<button class=\"pure-button pure-button-primary-progressive\" type=\"submit\">\\n<i class=\"sprite svg-search-icon\" data-jsl10n=\"search-input-button\">Search</i>\\n</button>\\n<input type=\"hidden\" value=\"Go\" name=\"go\">\\n</fieldset>\\n</form>\\n</div>\\n<div class=\"lang-list-button-wrapper\">\\n<button id=\"js-lang-list-button\" class=\"lang-list-button\">\\n<i class=\"sprite svg-language-icon\"></i>\\n<span class=\"lang-list-button-text jsl10n\" data-jsl10n=\"language-button-text\">Read Wikipedia in your language </span>\\n<i class=\"sprite svg-arrow-down-blue\"></i>\\n</button>\\n</div>\\n<div class=\"lang-list-border\"></div>\\n<div class=\"lang-list-container\">\\n<div id=\"js-lang-lists\" class=\"lang-list-content\">\\n<h2 class=\"bookshelf-container\">\\n<span class=\"bookshelf\">\\n<span class=\"text\">\\n<bdi dir=\"ltr\">\\n1&nbsp;000&nbsp;000+\\n</bdi>\\n<span class=\"jsl10n\" data-jsl10n=\"entries\">\\narticles\\n</span>\\n</span>\\n</span>\\n</h2>\\n<div class=\"langlist langlist-large hlist\" data-el-section=\"secondary links\">\\n<ul>\\n<li><a href=\"//ar.wikipedia.org/\" lang=\"ar\" title=\"Al-ʿArabīyah\"><bdi dir=\"rtl\">العربية</bdi></a></li>\\n<li><a href=\"//de.wikipedia.org/\" lang=\"de\">Deutsch</a></li>\\n<li><a href=\"//en.wikipedia.org/\" lang=\"en\" title=\"English\">English</a></li>\\n<li><a href=\"//es.wikipedia.org/\" lang=\"es\">Español</a></li>\\n<li><a href=\"//fr.wikipedia.org/\" lang=\"fr\">Français</a></li>\\n<li><a href=\"//it.wikipedia.org/\" lang=\"it\">Italiano</a></li>\\n<li><a href=\"//arz.wikipedia.org/\" lang=\"arz\" title=\"Maṣrī\"><bdi dir=\"rtl\">مصرى</bdi></a></li>\\n<li><a href=\"//nl.wikipedia.org/\" lang=\"nl\">Nederlands</a></li>\\n<li><a href=\"//ja.wikipedia.org/\" lang=\"ja\" title=\"Nihongo\">日本語</a></li>\\n<li><a href=\"//pl.wikipedia.org/\" lang=\"pl\">Polski</a></li>\\n<li><a href=\"//pt.wikipedia.org/\" lang=\"pt\">Português</a></li>\\n<li><a href=\"//ru.wikipedia.org/\" lang=\"ru\" title=\"Russkiy\">Русский</a></li>\\n<li><a href=\"//ceb.wikipedia.org/\" lang=\"ceb\">Sinugboanong Binisaya</a></li>\\n<li><a href=\"//sv.wikipedia.org/\" lang=\"sv\">Svenska</a></li>\\n<li><a href=\"//uk.wikipedia.org/\" lang=\"uk\" title=\"Ukrayins’ka\">Українська</a></li>\\n<li><a href=\"//vi.wikipedia.org/\" lang=\"vi\">Tiếng Việt</a></li>\\n<li><a href=\"//war.wikipedia.org/\" lang=\"war\">Winaray</a></li>\\n<li><a href=\"//zh.wikipedia.org/\" lang=\"zh\" title=\"Zhōngwén\">中文</a></li>\\n</ul>\\n</div>\\n<h2 class=\"bookshelf-container\">\\n<span class=\"bookshelf\">\\n<span class=\"text\">\\n<bdi dir=\"ltr\">\\n100&nbsp;000+\\n</bdi>\\n<span class=\"jsl10n\" data-jsl10n=\"entries\">\\narticles\\n</span>\\n</span>\\n</span>\\n</h2>\\n<div class=\"langlist langlist-large hlist\" data-el-section=\"secondary links\">\\n<ul>\\n<li><a href=\"//ast.wikipedia.org/\" lang=\"ast\">Asturianu</a></li>\\n<li><a href=\"//az.wikipedia.org/\" lang=\"az\">Azərbaycanca</a></li>\\n<li><a href=\"//bg.wikipedia.org/\" lang=\"bg\" title=\"Bǎlgarski\">Български</a></li>\\n<li><a href=\"//zh-min-nan.wikipedia.org/\" lang=\"nan\">Bân-lâm-gú / Hō-ló-oē</a></li>\\n<li><a href=\"//bn.wikipedia.org/\" lang=\"bn\" title=\"Bangla\">বাংলা</a></li>\\n<li><a href=\"//be.wikipedia.org/\" lang=\"be\" title=\"Belaruskaya\">Беларуская</a></li>\\n<li><a href=\"//ca.wikipedia.org/\" lang=\"ca\">Català</a></li>\\n<li><a href=\"//cs.wikipedia.org/\" lang=\"cs\" title=\"čeština\">Čeština</a></li>\\n<li><a href=\"//cy.wikipedia.org/\" lang=\"cy\" title=\"Cymraeg\">Cymraeg</a></li>\\n<li><a href=\"//da.wikipedia.org/\" lang=\"da\">Dansk</a></li>\\n<li><a href=\"//et.wikipedia.org/\" lang=\"et\">Eesti</a></li>\\n<li><a href=\"//el.wikipedia.org/\" lang=\"el\" title=\"Ellīniká\">Ελληνικά</a></li>\\n<li><a href=\"//eo.wikipedia.org/\" lang=\"eo\">Esperanto</a></li>\\n<li><a href=\"//eu.wikipedia.org/\" lang=\"eu\">Euskara</a></li>\\n<li><a href=\"//fa.wikipedia.org/\" lang=\"fa\" title=\"Fārsi\"><bdi dir=\"rtl\">فارسی</bdi></a></li>\\n<li><a href=\"//gl.wikipedia.org/\" lang=\"gl\">Galego</a></li>\\n<li><a href=\"//hy.wikipedia.org/\" lang=\"hy\" title=\"Hayeren\">Հայերեն</a></li>\\n<li><a href=\"//hi.wikipedia.org/\" lang=\"hi\" title=\"Hindī\">हिन्दी</a></li>\\n<li><a href=\"//hr.wikipedia.org/\" lang=\"hr\">Hrvatski</a></li>\\n<li><a href=\"//id.wikipedia.org/\" lang=\"id\">Bahasa Indonesia</a></li>\\n<li><a href=\"//he.wikipedia.org/\" lang=\"he\" title=\"Ivrit\"><bdi dir=\"rtl\">עברית</bdi></a></li>\\n<li><a href=\"//ka.wikipedia.org/\" lang=\"ka\" title=\"Kartuli\">ქართული</a></li>\\n<li><a href=\"//la.wikipedia.org/\" lang=\"la\">Latina</a></li>\\n<li><a href=\"//lv.wikipedia.org/\" lang=\"lv\">Latviešu</a></li>\\n<li><a href=\"//lt.wikipedia.org/\" lang=\"lt\">Lietuvių</a></li>\\n<li><a href=\"//hu.wikipedia.org/\" lang=\"hu\">Magyar</a></li>\\n<li><a href=\"//mk.wikipedia.org/\" lang=\"mk\" title=\"Makedonski\">Македонски</a></li>\\n<li><a href=\"//ms.wikipedia.org/\" lang=\"ms\">Bahasa Melayu</a></li>\\n<li><a href=\"//min.wikipedia.org/\" lang=\"min\">Bahaso Minangkabau</a></li>\\n<li><a href=\"//my.wikipedia.org/\" lang=\"my\" title=\"Myanmarsar\">မြန်မာဘာသာ</a></li>\\n<li lang=\"no\">Norsk<ul><li><a href=\"//no.wikipedia.org/\" lang=\"nb\">bokmål</a></li><li><a href=\"//nn.wikipedia.org/\" lang=\"nn\">nynorsk</a></li></ul></li>\\n<li><a href=\"//ce.wikipedia.org/\" lang=\"ce\" title=\"Noxçiyn\">Нохчийн</a></li>\\n<li><a href=\"//uz.wikipedia.org/\" lang=\"uz\">Oʻzbekcha / Ўзбекча</a></li>\\n<li><a href=\"//kk.wikipedia.org/\" lang=\"kk\"><span lang=\"kk-Cyrl\">Қазақша</span> / <span lang=\"kk-Latn\">Qazaqşa</span> / <bdi lang=\"kk-Arab\" dir=\"rtl\">قازاقشا</bdi></a></li>\\n<li><a href=\"//ro.wikipedia.org/\" lang=\"ro\" title=\"Română\">Română</a></li>\\n<li><a href=\"//simple.wikipedia.org/\" lang=\"en\">Simple English</a></li>\\n<li><a href=\"//sk.wikipedia.org/\" lang=\"sk\">Slovenčina</a></li>\\n<li><a href=\"//sl.wikipedia.org/\" lang=\"sl\">Slovenščina</a></li>\\n<li><a href=\"//sr.wikipedia.org/\" lang=\"sr\">Српски / Srpski</a></li>\\n<li><a href=\"//sh.wikipedia.org/\" lang=\"sh\">Srpskohrvatski / Српскохрватски</a></li>\\n<li><a href=\"//fi.wikipedia.org/\" lang=\"fi\" title=\"suomi\">Suomi</a></li>\\n<li><a href=\"//ta.wikipedia.org/\" lang=\"ta\" title=\"Tamiḻ\">தமிழ்</a></li>\\n<li><a href=\"//tt.wikipedia.org/\" lang=\"tt\">Татарча / Tatarça</a></li>\\n<li><a href=\"//th.wikipedia.org/\" lang=\"th\" title=\"Phasa Thai\">ภาษาไทย</a></li>\\n<li><a href=\"//tg.wikipedia.org/\" lang=\"tg\" title=\"Tojikī\">Тоҷикӣ</a></li>\\n<li><a href=\"//azb.wikipedia.org/\" lang=\"azb\" title=\"Türkce\"><bdi dir=\"rtl\">تۆرکجه</bdi></a></li>\\n<li><a href=\"//tr.wikipedia.org/\" lang=\"tr\" title=\"Türkçe\">Türkçe</a></li>\\n<li><a href=\"//ur.wikipedia.org/\" lang=\"ur\" title=\"Urdu\"><bdi dir=\"rtl\">اردو</bdi></a></li>\\n<li><a href=\"//vo.wikipedia.org/\" lang=\"vo\">Volapük</a></li>\\n<li><a href=\"//zh-yue.wikipedia.org/\" lang=\"yue\" title=\"Yuht Yúh / Jyut6 jyu5\" data-convert-hans=\"粤语\" id=\"zh-yue_wiki\">粵語</a></li>\\n<li><a href=\"//ko.wikipedia.org/\" lang=\"ko\" title=\"Hangugeo\">한국어</a></li>\\n</ul>\\n</div>\\n<h2 class=\"bookshelf-container\">\\n<span class=\"bookshelf\">\\n<span class=\"text\">\\n<bdi dir=\"ltr\">\\n10&nbsp;000+\\n</bdi>\\n<span class=\"jsl10n\" data-jsl10n=\"entries\">\\narticles\\n</span>\\n</span>\\n</span>\\n</h2>\\n<div class=\"langlist hlist\" data-el-section=\"secondary links\">\\n<ul>\\n<li><a href=\"//ace.wikipedia.org/\" lang=\"ace\">Bahsa Acèh</a></li>\\n<li><a href=\"//af.wikipedia.org/\" lang=\"af\">Afrikaans</a></li>\\n<li><a href=\"//als.wikipedia.org/\" lang=\"gsw\">Alemannisch</a></li>\\n<li><a href=\"//am.wikipedia.org/\" lang=\"am\" title=\"Āmariññā\">አማርኛ</a></li>\\n<li><a href=\"//an.wikipedia.org/\" lang=\"an\">Aragonés</a></li>\\n<li><a href=\"//map-bms.wikipedia.org/\" lang=\"map-x-bms\">Basa Banyumasan</a></li>\\n<li><a href=\"//ba.wikipedia.org/\" lang=\"ba\" title=\"Başqortsa\">Башҡортса</a></li>\\n<li><a href=\"//be-tarask.wikipedia.org/\" lang=\"be\" title=\"Belaruskaya (Taraškievica)\">Беларуская (Тарашкевіца)</a></li>\\n<li><a href=\"//bcl.wikipedia.org/\" lang=\"bcl\">Bikol Central</a></li>\\n<li><a href=\"//bpy.wikipedia.org/\" lang=\"bpy\" title=\"Bishnupriya Manipuri\">বিষ্ণুপ্রিয়া মণিপুরী</a></li>\\n<li><a href=\"//bar.wikipedia.org/\" lang=\"bar\">Boarisch</a></li>\\n<li><a href=\"//bs.wikipedia.org/\" lang=\"bs\">Bosanski</a></li>\\n<li><a href=\"//br.wikipedia.org/\" lang=\"br\">Brezhoneg</a></li>\\n<li><a href=\"//cv.wikipedia.org/\" lang=\"cv\" title=\"Čăvašla\">Чӑвашла</a></li>\\n<li><a href=\"//nv.wikipedia.org/\" lang=\"nv\">Diné Bizaad</a></li>\\n<li><a href=\"//eml.wikipedia.org/\" lang=\"roa-x-eml\">Emigliàn–Rumagnòl</a></li>\\n<li><a href=\"//fo.wikipedia.org/\" lang=\"fo\">Føroyskt</a></li>\\n<li><a href=\"//fy.wikipedia.org/\" lang=\"fy\">Frysk</a></li>\\n<li><a href=\"//ga.wikipedia.org/\" lang=\"ga\">Gaeilge</a></li>\\n<li><a href=\"//gd.wikipedia.org/\" lang=\"gd\">Gàidhlig</a></li>\\n<li><a href=\"//gu.wikipedia.org/\" lang=\"gu\" title=\"Gujarati\">ગુજરાતી</a></li>\\n<li><a href=\"//hsb.wikipedia.org/\" lang=\"hsb\">Hornjoserbsce</a></li>\\n<li><a href=\"//io.wikipedia.org/\" lang=\"io\" title=\"Ido\">Ido</a></li>\\n<li><a href=\"//ilo.wikipedia.org/\" lang=\"ilo\">Ilokano</a></li>\\n<li><a href=\"//ia.wikipedia.org/\" lang=\"ia\">Interlingua</a></li>\\n<li><a href=\"//os.wikipedia.org/\" lang=\"os\" title=\"Iron Ævzag\">Ирон æвзаг</a></li>\\n<li><a href=\"//is.wikipedia.org/\" lang=\"is\">Íslenska</a></li>\\n<li><a href=\"//jv.wikipedia.org/\" lang=\"jv\" title=\"Jawa\">Jawa</a></li>\\n<li><a href=\"//kn.wikipedia.org/\" lang=\"kn\" title=\"Kannada\">ಕನ್ನಡ</a></li>\\n<li><a href=\"//ht.wikipedia.org/\" lang=\"ht\">Kreyòl Ayisyen</a></li>\\n<li><a href=\"//ku.wikipedia.org/\" lang=\"ku\"><span lang=\"ku-Latn\">Kurdî</span> / <bdi lang=\"ku-Arab\" dir=\"rtl\">كوردی</bdi></a></li>\\n<li><a href=\"//ckb.wikipedia.org/\" lang=\"ckb\" title=\"Kurdîy Nawendî\"><bdi dir=\"rtl\">کوردیی ناوەندی</bdi></a></li>\\n<li><a href=\"//ky.wikipedia.org/\" lang=\"ky\" title=\"Kyrgyzča\">Кыргызча</a></li>\\n<li><a href=\"//mrj.wikipedia.org/\" lang=\"mjr\" title=\"Kyryk Mary\">Кырык Мары</a></li>\\n<li><a href=\"//lb.wikipedia.org/\" lang=\"lb\">Lëtzebuergesch</a></li>\\n<li><a href=\"//li.wikipedia.org/\" lang=\"li\">Limburgs</a></li>\\n<li><a href=\"//lmo.wikipedia.org/\" lang=\"lmo\">Lombard</a></li>\\n<li><a href=\"//mai.wikipedia.org/\" lang=\"mai\" title=\"Maithilī\">मैथिली</a></li>\\n<li><a href=\"//mg.wikipedia.org/\" lang=\"mg\">Malagasy</a></li>\\n<li><a href=\"//ml.wikipedia.org/\" lang=\"ml\" title=\"Malayalam\">മലയാളം</a></li>\\n<li><a href=\"//zh-classical.wikipedia.org/\" lang=\"lzh\" title=\"Man4jin4 / Wényán\">文言</a></li>\\n<li><a href=\"//mr.wikipedia.org/\" lang=\"mr\" title=\"Marathi\">मराठी</a></li>\\n<li><a href=\"//xmf.wikipedia.org/\" lang=\"xmf\" title=\"Margaluri\">მარგალური</a></li>\\n<li><a href=\"//mzn.wikipedia.org/\" lang=\"mzn\" title=\"Mäzeruni\"><bdi dir=\"rtl\">مازِرونی</bdi></a></li>\\n<li><a href=\"//cdo.wikipedia.org/\" lang=\"cdo\" title=\"Ming-deng-ngu\">Mìng-dĕ̤ng-ngṳ̄ / 閩東語</a></li>\\n<li><a href=\"//mn.wikipedia.org/\" lang=\"mn\" title=\"Mongol\">Монгол</a></li>\\n<li><a href=\"//new.wikipedia.org/\" lang=\"new\" title=\"Nepal Bhasa\">नेपाल भाषा</a></li>\\n<li><a href=\"//ne.wikipedia.org/\" lang=\"ne\" title=\"Nepālī\">नेपाली</a></li>\\n<li><a href=\"//nap.wikipedia.org/\" lang=\"nap\">Nnapulitano</a></li>\\n<li><a href=\"//frr.wikipedia.org/\" lang=\"frr\">Nordfriisk</a></li>\\n<li><a href=\"//oc.wikipedia.org/\" lang=\"oc\">Occitan</a></li>\\n<li><a href=\"//mhr.wikipedia.org/\" lang=\"mhr\" title=\"Olyk Marij\">Марий</a></li>\\n<li><a href=\"//or.wikipedia.org/\" lang=\"or\" title=\"Oṛiā\">ଓଡି଼ଆ</a></li>\\n<li><a href=\"//pa.wikipedia.org/\" lang=\"pa\" title=\"Pañjābī (Gurmukhī)\">ਪੰਜਾਬੀ (ਗੁਰਮੁਖੀ)</a></li>\\n<li><a href=\"//pnb.wikipedia.org/\" lang=\"pnb\" title=\"Pañjābī (Shāhmukhī)\"><bdi dir=\"rtl\">پنجابی (شاہ مکھی)</bdi></a></li>\\n<li><a href=\"//ps.wikipedia.org/\" lang=\"ps\" title=\"Paʂto\"><bdi dir=\"rtl\">پښتو</bdi></a></li>\\n<li><a href=\"//pms.wikipedia.org/\" lang=\"pms\">Piemontèis</a></li>\\n<li><a href=\"//nds.wikipedia.org/\" lang=\"nds\">Plattdüütsch</a></li>\\n<li><a href=\"//qu.wikipedia.org/\" lang=\"qu\">Runa Simi</a></li>\\n<li><a href=\"//sa.wikipedia.org/\" lang=\"sa\" title=\"Saṃskṛtam\">संस्कृतम्</a></li>\\n<li><a href=\"//sah.wikipedia.org/\" lang=\"sah\" title=\"Saxa Tyla\">Саха Тыла</a></li>\\n<li><a href=\"//sco.wikipedia.org/\" lang=\"sco\">Scots</a></li>\\n<li><a href=\"//sq.wikipedia.org/\" lang=\"sq\">Shqip</a></li>\\n<li><a href=\"//scn.wikipedia.org/\" lang=\"scn\">Sicilianu</a></li>\\n<li><a href=\"//si.wikipedia.org/\" lang=\"si\" title=\"Siṃhala\">සිංහල</a></li>\\n<li><a href=\"//sd.wikipedia.org/\" lang=\"sd\" title=\"Sindhī\"><bdi dir=\"rtl\">سنڌي</bdi></a></li>\\n<li><a href=\"//szl.wikipedia.org/\" lang=\"szl\">Ślůnski</a></li>\\n<li><a href=\"//su.wikipedia.org/\" lang=\"su\">Basa Sunda</a></li>\\n<li><a href=\"//sw.wikipedia.org/\" lang=\"sw\">Kiswahili</a></li>\\n<li><a href=\"//tl.wikipedia.org/\" lang=\"tl\">Tagalog</a></li>\\n<li><a href=\"//te.wikipedia.org/\" lang=\"te\" title=\"Telugu\">తెలుగు</a></li>\\n<li><a href=\"//bug.wikipedia.org/\" lang=\"bug\">ᨅᨔ ᨕᨙᨁᨗ / Basa Ugi</a></li>\\n<li><a href=\"//vec.wikipedia.org/\" lang=\"vec\">Vèneto</a></li>\\n<li><a href=\"//wa.wikipedia.org/\" lang=\"wa\">Walon</a></li>\\n<li><a href=\"//wuu.wikipedia.org/\" lang=\"wuu\" title=\"Wú Yǔ\" data-convert-hans=\"吴语\" id=\"wuu_wiki\">吳語</a></li>\\n<li><a href=\"//yi.wikipedia.org/\" lang=\"yi\" title=\"Yidiš\"><bdi dir=\"rtl\">ייִדיש</bdi></a></li>\\n<li><a href=\"//yo.wikipedia.org/\" lang=\"yo\">Yorùbá</a></li>\\n<li><a href=\"//diq.wikipedia.org/\" lang=\"diq\" title=\"Zazaki\">Zazaki</a></li>\\n<li><a href=\"//bat-smg.wikipedia.org/\" lang=\"sgs\">Žemaitėška</a></li>\\n</ul>\\n</div>\\n<h2 class=\"bookshelf-container\">\\n<span class=\"bookshelf\">\\n<span class=\"text\">\\n<bdi dir=\"ltr\">\\n1&nbsp;000+\\n</bdi>\\n<span class=\"jsl10n\" data-jsl10n=\"entries\">\\narticles\\n</span>\\n</span>\\n</span>\\n</h2>\\n<div class=\"langlist hlist\" data-el-section=\"secondary links\">\\n<ul>\\n<li><a href=\"//kbd.wikipedia.org/\" lang=\"kbd\" title=\"Adighabze\">Адыгэбзэ</a></li>\\n<li><a href=\"//ang.wikipedia.org/\" lang=\"ang\">Ænglisc</a></li>\\n<li><a href=\"//ak.wikipedia.org/\" lang=\"ak\">Akan</a></li>\\n<li><a href=\"//ab.wikipedia.org/\" lang=\"ab\" title=\"Aṗsua\">Аҧсуа</a></li>\\n<li><a href=\"//hyw.wikipedia.org/\" lang=\"hyw\" title=\"Arevmdahayeren\">Արեւմտահայերէն</a></li>\\n<li><a href=\"//roa-rup.wikipedia.org/\" lang=\"roa-rup\">Armãneashce</a></li>\\n<li><a href=\"//frp.wikipedia.org/\" lang=\"frp\">Arpitan</a></li>\\n<li><a href=\"//ig.wikipedia.org/\" lang=\"ig\">asụsụ bekee maọbụ asụsụ oyibo</a></li>\\n<li><a href=\"//arc.wikipedia.org/\" lang=\"arc\" title=\"Ātûrāyâ\"><bdi dir=\"rtl\">ܐܬܘܪܝܐ</bdi></a></li>\\n<li><a href=\"//gn.wikipedia.org/\" lang=\"gn\">Avañe’ẽ</a></li>\\n<li><a href=\"//av.wikipedia.org/\" lang=\"av\" title=\"Avar\">Авар</a></li>\\n<li><a href=\"//ay.wikipedia.org/\" lang=\"ay\">Aymar</a></li>\\n<li><a href=\"//bjn.wikipedia.org/\" lang=\"bjn\">Bahasa Banjar</a></li>\\n<li><a href=\"//bh.wikipedia.org/\" lang=\"bh\" title=\"Bhōjapurī\">भोजपुरी</a></li>\\n<li><a href=\"//bi.wikipedia.org/\" lang=\"bi\">Bislama</a></li>\\n<li><a href=\"//bo.wikipedia.org/\" lang=\"bo\" title=\"Bod Skad\">བོད་ཡིག</a></li>\\n<li><a href=\"//bxr.wikipedia.org/\" lang=\"bxr\" title=\"Buryad\">Буряад</a></li>\\n<li><a href=\"//cbk-zam.wikipedia.org/\" lang=\"cbk-x-zam\">Chavacano de Zamboanga</a></li>\\n<li><a href=\"//co.wikipedia.org/\" lang=\"co\">Corsu</a></li>\\n<li><a href=\"//za.wikipedia.org/\" lang=\"za\">Vahcuengh / 話僮</a></li>\\n<li><a href=\"//se.wikipedia.org/\" lang=\"se\">Davvisámegiella</a></li>\\n<li><a href=\"//pdc.wikipedia.org/\" lang=\"pdc\">Deitsch</a></li>\\n<li><a href=\"//dsb.wikipedia.org/\" lang=\"dsb\">Dolnoserbski</a></li>\\n<li><a href=\"//myv.wikipedia.org/\" lang=\"myv\" title=\"Erzjanj\">Эрзянь</a></li>\\n<li><a href=\"//ext.wikipedia.org/\" lang=\"ext\">Estremeñu</a></li>\\n<li><a href=\"//hif.wikipedia.org/\" lang=\"hif\">Fiji Hindi</a></li>\\n<li><a href=\"//fur.wikipedia.org/\" lang=\"fur\">Furlan</a></li>\\n<li><a href=\"//gv.wikipedia.org/\" lang=\"gv\">Gaelg</a></li>\\n<li><a href=\"//gag.wikipedia.org/\" lang=\"gag\">Gagauz</a></li>\\n<li><a href=\"//ki.wikipedia.org/\" lang=\"ki\">Gĩkũyũ</a></li>\\n<li><a href=\"//glk.wikipedia.org/\" lang=\"glk\" title=\"Giləki\"><bdi dir=\"rtl\">گیلکی</bdi></a></li>\\n<li><a href=\"//gan.wikipedia.org/\" lang=\"gan\" title=\"Gon ua\" data-convert-hans=\"赣语\" id=\"gan_wiki\">贛語</a></li>\\n<li><a href=\"//hak.wikipedia.org/\" lang=\"hak\">Hak-kâ-ngî / 客家語</a></li>\\n<li><a href=\"//xal.wikipedia.org/\" lang=\"xal\" title=\"Halʹmg\">Хальмг</a></li>\\n<li><a href=\"//ha.wikipedia.org/\" lang=\"ha\"><span lang=\"ha-Latn\">Hausa</span> / <bdi lang=\"ha-Arab\" dir=\"rtl\">هَوُسَا</bdi></a></li>\\n<li><a href=\"//haw.wikipedia.org/\" lang=\"haw\">ʻŌlelo Hawaiʻi</a></li>\\n<li><a href=\"//ie.wikipedia.org/\" lang=\"ie\">Interlingue</a></li>\\n<li><a href=\"//pam.wikipedia.org/\" lang=\"pam\">Kapampangan</a></li>\\n<li><a href=\"//csb.wikipedia.org/\" lang=\"csb\">Kaszëbsczi</a></li>\\n<li><a href=\"//kw.wikipedia.org/\" lang=\"kw\">Kernewek</a></li>\\n<li><a href=\"//km.wikipedia.org/\" lang=\"km\" title=\"Phéasa Khmér\">ភាសាខ្មែរ</a></li>\\n<li><a href=\"//rw.wikipedia.org/\" lang=\"rw\">Kinyarwanda</a></li>\\n<li><a href=\"//kv.wikipedia.org/\" lang=\"kv\" title=\"Komi\">Коми</a></li>\\n<li><a href=\"//kg.wikipedia.org/\" lang=\"kg\">Kongo</a></li>\\n<li><a href=\"//gom.wikipedia.org/\" lang=\"gom\">कोंकणी / Konknni</a></li>\\n<li><a href=\"//gcr.wikipedia.org/\" lang=\"gcr\" title=\"Kriyòl Gwiyannen\">Kriyòl Gwiyannen</a></li>\\n<li><a href=\"//lo.wikipedia.org/\" lang=\"lo\" title=\"Phaasaa Laao\">ພາສາລາວ</a></li>\\n<li><a href=\"//lad.wikipedia.org/\" lang=\"lad\" title=\"Ladino\"><span lang=\"lad-Latn\">Dzhudezmo</span> / <bdi lang=\"lad-Hebr\" dir=\"rtl\">לאדינו</bdi></a></li>\\n<li><a href=\"//lbe.wikipedia.org/\" lang=\"lbe\" title=\"Lakːu\">Лакку</a></li>\\n<li><a href=\"//ltg.wikipedia.org/\" lang=\"ltg\">Latgaļu</a></li>\\n<li><a href=\"//lez.wikipedia.org/\" lang=\"lez\" title=\"Lezgi\">Лезги</a></li>\\n<li><a href=\"//ln.wikipedia.org/\" lang=\"ln\">Lingála</a></li>\\n<li><a href=\"//jbo.wikipedia.org/\" lang=\"jbo\">lojban</a></li>\\n<li><a href=\"//lg.wikipedia.org/\" lang=\"lg\">Luganda</a></li>\\n<li><a href=\"//lij.wikipedia.org/\" lang=\"lij\">Lìgure</a></li>\\n<li><a href=\"//mt.wikipedia.org/\" lang=\"mt\">Malti</a></li>\\n<li><a href=\"//ty.wikipedia.org/\" lang=\"ty\">Reo Mā’ohi</a></li>\\n<li><a href=\"//mi.wikipedia.org/\" lang=\"mi\">Māori</a></li>\\n<li><a href=\"//mwl.wikipedia.org/\" lang=\"mwl\">Mirandés</a></li>\\n<li><a href=\"//mdf.wikipedia.org/\" lang=\"mdf\" title=\"Mokšenj\">Мокшень</a></li>\\n<li><a href=\"//fj.wikipedia.org/\" lang=\"fj\">Na Vosa Vaka-Viti</a></li>\\n<li><a href=\"//nah.wikipedia.org/\" lang=\"nah\">Nāhuatlahtōlli</a></li>\\n<li><a href=\"//na.wikipedia.org/\" lang=\"na\">Dorerin Naoero</a></li>\\n<li><a href=\"//nds-nl.wikipedia.org/\" lang=\"nds-nl\">Nedersaksisch</a></li>\\n<li><a href=\"//nrm.wikipedia.org/\" lang=\"roa-x-nrm\">Nouormand / Normaund</a></li>\\n<li><a href=\"//nov.wikipedia.org/\" lang=\"nov\">Novial</a></li>\\n<li><a href=\"//om.wikipedia.org/\" lang=\"om\">Afaan Oromoo</a></li>\\n<li><a href=\"//as.wikipedia.org/\" lang=\"as\" title=\"Ôxômiya\">অসমীযা়</a></li>\\n<li><a href=\"//pi.wikipedia.org/\" lang=\"pi\" title=\"Pāḷi\">पालि</a></li>\\n<li><a href=\"//pag.wikipedia.org/\" lang=\"pag\">Pangasinán</a></li>\\n<li><a href=\"//pap.wikipedia.org/\" lang=\"pap\">Papiamentu</a></li>\\n<li><a href=\"//koi.wikipedia.org/\" lang=\"koi\" title=\"Perem Komi\">Перем Коми</a></li>\\n<li><a href=\"//pfl.wikipedia.org/\" lang=\"pfl\">Pfälzisch</a></li>\\n<li><a href=\"//pcd.wikipedia.org/\" lang=\"pcd\">Picard</a></li>\\n<li><a href=\"//krc.wikipedia.org/\" lang=\"krc\" title=\"Qaraçay–Malqar\">Къарачай–Малкъар</a></li>\\n<li><a href=\"//kaa.wikipedia.org/\" lang=\"kaa\">Qaraqalpaqsha</a></li>\\n<li><a href=\"//crh.wikipedia.org/\" lang=\"crh\">Qırımtatarca</a></li>\\n<li><a href=\"//ksh.wikipedia.org/\" lang=\"ksh\">Ripoarisch</a></li>\\n<li><a href=\"//rm.wikipedia.org/\" lang=\"rm\">Rumantsch</a></li>\\n<li><a href=\"//rue.wikipedia.org/\" lang=\"rue\" title=\"Rusin’skyj Yazyk\">Русиньскый Язык</a></li>\\n<li><a href=\"//sc.wikipedia.org/\" lang=\"sc\">Sardu</a></li>\\n<li><a href=\"//stq.wikipedia.org/\" lang=\"stq\">Seeltersk</a></li>\\n<li><a href=\"//nso.wikipedia.org/\" lang=\"nso\">Sesotho sa Leboa</a></li>\\n<li><a href=\"//sn.wikipedia.org/\" lang=\"sn\">ChiShona</a></li>\\n<li><a href=\"//so.wikipedia.org/\" lang=\"so\">Soomaaliga</a></li>\\n<li><a href=\"//srn.wikipedia.org/\" lang=\"srn\">Sranantongo</a></li>\\n<li><a href=\"//kab.wikipedia.org/\" lang=\"kab\" title=\"Taqbaylit\">Taqbaylit</a></li>\\n<li><a href=\"//roa-tara.wikipedia.org/\" lang=\"roa\">Tarandíne</a></li>\\n<li><a href=\"//tet.wikipedia.org/\" lang=\"tet\">Tetun</a></li>\\n<li><a href=\"//tpi.wikipedia.org/\" lang=\"tpi\">Tok Pisin</a></li>\\n<li><a href=\"//to.wikipedia.org/\" lang=\"to\">faka Tonga</a></li>\\n<li><a href=\"//tk.wikipedia.org/\" lang=\"tk\">Türkmençe</a></li>\\n<li><a href=\"//tyv.wikipedia.org/\" lang=\"tyv\" title=\"Tyva dyl\">Тыва дыл</a></li>\\n<li><a href=\"//udm.wikipedia.org/\" lang=\"udm\" title=\"Udmurt\">Удмурт</a></li>\\n<li><a href=\"//ug.wikipedia.org/\" lang=\"ug\"><bdi dir=\"rtl\">ئۇيغۇرچه</bdi></a></li>\\n<li><a href=\"//vep.wikipedia.org/\" lang=\"vep\">Vepsän</a></li>\\n<li><a href=\"//fiu-vro.wikipedia.org/\" lang=\"fiu-vro\">Võro</a></li>\\n<li><a href=\"//vls.wikipedia.org/\" lang=\"vls\">West-Vlams</a></li>\\n<li><a href=\"//wo.wikipedia.org/\" lang=\"wo\">Wolof</a></li>\\n<li><a href=\"//xh.wikipedia.org/\" lang=\"xh\">isiXhosa</a></li>\\n<li><a href=\"//zea.wikipedia.org/\" lang=\"zea\">Zeêuws</a></li>\\n<li><a href=\"//zu.wikipedia.org/\" lang=\"zu\">isiZulu</a></li>\\n<li><a href=\"//dv.wikipedia.org/\" lang=\"dv\" title=\"އިނގިރޭސި\"><bdi dir=\"rtl\">ދިވެހިބަސް</bdi></a></li>\\n</ul>\\n</div>\\n<h2 class=\"bookshelf-container\">\\n<span class=\"bookshelf\">\\n<span class=\"text\">\\n<bdi dir=\"ltr\">\\n100+\\n</bdi>\\n<span class=\"jsl10n\" data-jsl10n=\"entries\">\\narticles\\n</span>\\n</span>\\n</span>\\n</h2>\\n<div class=\"langlist langlist-tiny hlist\" data-el-section=\"secondary links\">\\n<ul>\\n<li><a href=\"//bm.wikipedia.org/\" lang=\"bm\">Bamanankan</a></li>\\n<li><a href=\"//ch.wikipedia.org/\" lang=\"ch\">Chamoru</a></li>\\n<li><a href=\"//ny.wikipedia.org/\" lang=\"ny\">Chichewa</a></li>\\n<li><a href=\"//ee.wikipedia.org/\" lang=\"ee\">Eʋegbe</a></li>\\n<li><a href=\"//ff.wikipedia.org/\" lang=\"ff\">Fulfulde</a></li>\\n<li><a href=\"//got.wikipedia.org/\" lang=\"got\" title=\"Gutisk\">𐌲𐌿𐍄𐌹𐍃𐌺</a></li>\\n<li><a href=\"//iu.wikipedia.org/\" lang=\"iu\">ᐃᓄᒃᑎᑐᑦ / Inuktitut</a></li>\\n<li><a href=\"//ik.wikipedia.org/\" lang=\"ik\">Iñupiak</a></li>\\n<li><a href=\"//kl.wikipedia.org/\" lang=\"kl\">Kalaallisut</a></li>\\n<li><a href=\"//ks.wikipedia.org/\" lang=\"ks\" title=\"Kashmiri\"><bdi dir=\"rtl\">كشميري</bdi></a></li>\\n<li><a href=\"//cr.wikipedia.org/\" lang=\"cr\">Nēhiyawēwin / ᓀᐦᐃᔭᐍᐏᐣ</a></li>\\n<li><a href=\"//pih.wikipedia.org/\" lang=\"pih\">Norfuk / Pitkern</a></li>\\n<li><a href=\"//pnt.wikipedia.org/\" lang=\"pnt\" title=\"Pontiaká\">Ποντιακά</a></li>\\n<li><a href=\"//dz.wikipedia.org/\" lang=\"dz\" title=\"Rdzong-Kha\">རྫོང་ཁ</a></li>\\n<li><a href=\"//rmy.wikipedia.org/\" lang=\"rmy\">Romani</a></li>\\n<li><a href=\"//rn.wikipedia.org/\" lang=\"rn\">Kirundi</a></li>\\n<li><a href=\"//sm.wikipedia.org/\" lang=\"sm\">Gagana Sāmoa</a></li>\\n<li><a href=\"//sg.wikipedia.org/\" lang=\"sg\">Sängö</a></li>\\n<li><a href=\"//st.wikipedia.org/\" lang=\"st\">Sesotho</a></li>\\n<li><a href=\"//tn.wikipedia.org/\" lang=\"tn\">Setswana</a></li>\\n<li><a href=\"//cu.wikipedia.org/\" lang=\"cu\" title=\"Slověnĭskŭ\">Словѣ́ньскъ / ⰔⰎⰑⰂⰡⰐⰠⰔⰍⰟ</a></li>\\n<li><a href=\"//ss.wikipedia.org/\" lang=\"ss\">SiSwati</a></li>\\n<li><a href=\"//chr.wikipedia.org/\" lang=\"chr\" title=\"Tsalagi\">ᏣᎳᎩ</a></li>\\n<li><a href=\"//chy.wikipedia.org/\" lang=\"chy\">Tsėhesenėstsestotse</a></li>\\n<li><a href=\"//ve.wikipedia.org/\" lang=\"ve\">Tshivenḓa</a></li>\\n<li><a href=\"//ts.wikipedia.org/\" lang=\"ts\">Xitsonga</a></li>\\n<li><a href=\"//tum.wikipedia.org/\" lang=\"tum\">chiTumbuka</a></li>\\n<li><a href=\"//tw.wikipedia.org/\" lang=\"tw\">Twi</a></li>\\n<li><a href=\"//ti.wikipedia.org/\" lang=\"ti\" title=\"Təgərəña\">ትግርኛ</a></li>\\n<li><a href=\"//nqo.wikipedia.org/\" lang=\"nqo\" title=\"N&#x27;Ko\">ߒߞߏ</a></li>\\n</ul>\\n</div>\\n<div class=\"langlist langlist-others hlist\" data-el-section=\"other languages\">\\n<a href=\"https://meta.wikimedia.org/wiki/Special:MyLanguage/List_of_Wikipedias\" lang data-jsl10n=\"other-languages-label\">Other languages</a>\\n</div>\\n</div>\\n</div>\\n<hr>\\n<div class=\"footer\" data-el-section=\"other projects\">\\n<div class=\"footer-sidebar\">\\n<div class=\"footer-sidebar-content\">\\n<div class=\"footer-sidebar-icon sprite svg-Wikimedia-logo_black\">\\n</div>\\n<div class=\"footer-sidebar-text jsl10n\" data-jsl10n=\"footer-description\">\\nWikipedia is hosted by the <a href=\"//wikimediafoundation.org/\">Wikimedia Foundation</a>, a non-profit organization that also hosts a range of other projects.\\n</div>\\n</div>\\n</div>\\n<div class=\"footer-sidebar app-badges\">\\n<div class=\"footer-sidebar-content\">\\n<div class=\"footer-sidebar-text\">\\n<div class=\"footer-sidebar-icon sprite svg-wikipedia_app_tile\"></div>\\n<strong class=\"jsl10n\" data-jsl10n=\"app-links.title\">\\n<a class=\"jsl10n\" data-jsl10n=\"app-links.url\" href=\"https://en.wikipedia.org/wiki/List_of_Wikipedia_mobile_applications\">\\nDownload Wikipedia for Android or iOS\\n</a>\\n</strong>\\n<p class=\"jsl10n\" data-jsl10n=\"app-links.description\">\\nSave your favorite articles to read offline, sync your reading lists across devices and customize your reading experience with the official Wikipedia app.\\n</p>\\n<ul>\\n<li class=\"app-badge app-badge-android\">\\n<a target=\"_blank\" rel=\"noreferrer\" href=\"https://play.google.com/store/apps/details?id=org.wikipedia&referrer=utm_source%3Dportal%26utm_medium%3Dbutton%26anid%3Dadmob\">\\n<span class=\"sprite svg-badge_google_play_store\">\\n</span></a>\\n</li>\\n<li class=\"app-badge app-badge-ios\">\\n<a target=\"_blank\" rel=\"noreferrer\" href=\"https://itunes.apple.com/app/apple-store/id324715238?pt=208305&ct=portal&mt=8\">\\n<span class=\"sprite svg-badge_ios_app_store\">\\n</span></a>\\n</li>\\n</ul>\\n</div>\\n</div>\\n</div>\\n<div class=\"other-projects\">\\n<div class=\"other-project\">\\n<a class=\"other-project-link\" href=\"//commons.wikimedia.org/\">\\n<div class=\"other-project-icon\">\\n<div class=\"sprite svg-Commons-logo_sister\"></div>\\n</div>\\n<div class=\"other-project-text\">\\n<span class=\"other-project-title jsl10n\" data-jsl10n=\"commons.name\">Commons</span>\\n<span class=\"other-project-tagline jsl10n\" data-jsl10n=\"commons.slogan\">Freely usable photos &amp; more</span>\\n</div>\\n</a>\\n</div>\\n<div class=\"other-project\">\\n<a class=\"other-project-link\" href=\"//www.wikivoyage.org/\">\\n<div class=\"other-project-icon\">\\n<div class=\"sprite svg-Wikivoyage-logo_sister\"></div>\\n</div>\\n<div class=\"other-project-text\">\\n<span class=\"other-project-title jsl10n\" data-jsl10n=\"wikivoyage.name\">Wikivoyage</span>\\n<span class=\"other-project-tagline jsl10n\" data-jsl10n=\"wikivoyage.slogan\">Free travel guide</span>\\n</div>\\n</a>\\n</div>\\n<div class=\"other-project\">\\n<a class=\"other-project-link\" href=\"//www.wiktionary.org/\">\\n<div class=\"other-project-icon\">\\n<div class=\"sprite svg-Wiktionary-logo_sister\"></div>\\n</div>\\n<div class=\"other-project-text\">\\n<span class=\"other-project-title jsl10n\" data-jsl10n=\"wiktionary.name\">Wiktionary</span>\\n<span class=\"other-project-tagline jsl10n\" data-jsl10n=\"wiktionary.slogan\">Free dictionary</span>\\n</div>\\n</a>\\n</div>\\n<div class=\"other-project\">\\n<a class=\"other-project-link\" href=\"//www.wikibooks.org/\">\\n<div class=\"other-project-icon\">\\n<div class=\"sprite svg-Wikibooks-logo_sister\"></div>\\n</div>\\n<div class=\"other-project-text\">\\n<span class=\"other-project-title jsl10n\" data-jsl10n=\"wikibooks.name\">Wikibooks</span>\\n<span class=\"other-project-tagline jsl10n\" data-jsl10n=\"wikibooks.slogan\">Free textbooks</span>\\n</div>\\n</a>\\n</div>\\n<div class=\"other-project\">\\n<a class=\"other-project-link\" href=\"//www.wikinews.org/\">\\n<div class=\"other-project-icon\">\\n<div class=\"sprite svg-Wikinews-logo_sister\"></div>\\n</div>\\n<div class=\"other-project-text\">\\n<span class=\"other-project-title jsl10n\" data-jsl10n=\"wikinews.name\">Wikinews</span>\\n<span class=\"other-project-tagline jsl10n\" data-jsl10n=\"wikinews.slogan\">Free news source</span>\\n</div>\\n</a>\\n</div>\\n<div class=\"other-project\">\\n<a class=\"other-project-link\" href=\"//www.wikidata.org/\">\\n<div class=\"other-project-icon\">\\n<div class=\"sprite svg-Wikidata-logo_sister\"></div>\\n</div>\\n<div class=\"other-project-text\">\\n<span class=\"other-project-title jsl10n\" data-jsl10n=\"wikidata.name\">Wikidata</span>\\n<span class=\"other-project-tagline jsl10n\" data-jsl10n=\"wikidata.slogan\">Free knowledge base</span>\\n</div>\\n</a>\\n</div>\\n<div class=\"other-project\">\\n<a class=\"other-project-link\" href=\"//www.wikiversity.org/\">\\n<div class=\"other-project-icon\">\\n<div class=\"sprite svg-Wikiversity-logo_sister\"></div>\\n</div>\\n<div class=\"other-project-text\">\\n<span class=\"other-project-title jsl10n\" data-jsl10n=\"wikiversity.name\">Wikiversity</span>\\n<span class=\"other-project-tagline jsl10n\" data-jsl10n=\"wikiversity.slogan\">Free course materials</span>\\n</div>\\n</a>\\n</div>\\n<div class=\"other-project\">\\n<a class=\"other-project-link\" href=\"//www.wikiquote.org/\">\\n<div class=\"other-project-icon\">\\n<div class=\"sprite svg-Wikiquote-logo_sister\"></div>\\n</div>\\n<div class=\"other-project-text\">\\n<span class=\"other-project-title jsl10n\" data-jsl10n=\"wikiquote.name\">Wikiquote</span>\\n<span class=\"other-project-tagline jsl10n\" data-jsl10n=\"wikiquote.slogan\">Free quote compendium</span>\\n</div>\\n</a>\\n</div>\\n<div class=\"other-project\">\\n<a class=\"other-project-link\" href=\"//www.mediawiki.org/\">\\n<div class=\"other-project-icon\">\\n<div class=\"sprite svg-MediaWiki-logo_sister\"></div>\\n</div>\\n<div class=\"other-project-text\">\\n<span class=\"other-project-title jsl10n\" data-jsl10n=\"mediawiki.name\">MediaWiki</span>\\n<span class=\"other-project-tagline jsl10n\" data-jsl10n=\"mediawiki.slogan\">Free &amp; open wiki application</span>\\n</div>\\n</a>\\n</div>\\n<div class=\"other-project\">\\n<a class=\"other-project-link\" href=\"//www.wikisource.org/\">\\n<div class=\"other-project-icon\">\\n<div class=\"sprite svg-Wikisource-logo_sister\"></div>\\n</div>\\n<div class=\"other-project-text\">\\n<span class=\"other-project-title jsl10n\" data-jsl10n=\"wikisource.name\">Wikisource</span>\\n<span class=\"other-project-tagline jsl10n\" data-jsl10n=\"wikisource.slogan\">Free library</span>\\n</div>\\n</a>\\n</div>\\n<div class=\"other-project\">\\n<a class=\"other-project-link\" href=\"//species.wikimedia.org/\">\\n<div class=\"other-project-icon\">\\n<div class=\"sprite svg-Wikispecies-logo_sister\"></div>\\n</div>\\n<div class=\"other-project-text\">\\n<span class=\"other-project-title jsl10n\" data-jsl10n=\"wikispecies.name\">Wikispecies</span>\\n<span class=\"other-project-tagline jsl10n\" data-jsl10n=\"wikispecies.slogan\">Free species directory</span>\\n</div>\\n</a>\\n</div>\\n<div class=\"other-project\">\\n<a class=\"other-project-link\" href=\"//meta.wikimedia.org/\">\\n<div class=\"other-project-icon\">\\n<div class=\"sprite svg-Meta-Wiki-logo_sister\"></div>\\n</div>\\n<div class=\"other-project-text\">\\n<span class=\"other-project-title jsl10n\" data-jsl10n=\"metawiki.name\">Meta-Wiki</span>\\n<span class=\"other-project-tagline jsl10n\" data-jsl10n=\"metawiki.slogan\">Community coordination &amp; documentation</span>\\n</div>\\n</a>\\n</div>\\n</div>\\n</div>\\n<p class=\"site-license\">\\n<small class=\"jsl10n\" data-jsl10n=\"license\">This page is available under the <a href=\"https://creativecommons.org/licenses/by-sa/3.0/\">Creative Commons Attribution-ShareAlike License</a></small>\\n<small class=\"jsl10n\" data-jsl10n=\"terms\"><a href=\"//meta.wikimedia.org/wiki/Terms_of_Use\">Terms of Use</a></small>\\n<small class=\"jsl10n\" data-jsl10n=\"Privacy Policy\"><a href=\"//meta.wikimedia.org/wiki/Privacy_policy\">Privacy Policy</a></small>\\n</p>\\n<script>\\nvar rtlLangs = [\\'ar\\',\\'arc\\',\\'arz\\',\\'bcc\\',\\'bgn\\',\\'bqi\\',\\'ckb\\',\\'dv\\',\\'fa\\',\\'glk\\',\\'he\\',\\'kk-cn\\',\\'kk-arab\\',\\'khw\\',\\'ks\\',\\'ku-arab\\',\\'lki\\',\\'lrc\\',\\'luz\\',\\'mzn\\',\\'nqo\\',\\'pnb\\',\\'ps\\',\\'sd\\',\\'sdh\\',\\'ug\\',\\'ur\\',\\'yi\\'],\\n    translationsHash = \\'ff4ba27d\\',\\n    /*\\n     This object is used by l10n scripts (page-localized.js, topten-localized.js)\\n     to reveal the page content after l10n json is loaded.\\n     A timer is also set to prevent JS from hiding page content indefinitelty.\\n     This script is inlined to safeguard againt script loading errors and placed\\n     at the top of the page to safeguard against any HTML loading/parsing errors.\\n    */\\n    wmL10nVisible = {\\n        ready: false,\\n        makeVisible: function(){\\n            if ( !wmL10nVisible.ready ) {\\n                wmL10nVisible.ready = true;\\n                document.body.className += \\' jsl10n-visible\\';\\n            }\\n        }\\n    };\\n    window.setTimeout( wmL10nVisible.makeVisible, 1000 )\\n</script>\\n<script src=\"portal/wikipedia.org/assets/js/index-f149846206.js\"></script>\\n<!--[if gt IE 9]><!-->\\n<script src=\"portal/wikipedia.org/assets/js/gt-ie9-eb680c4142.js\"></script>\\n<!--<![endif]-->\\n<!--[if lte IE 9]><!-->\\n<style>\\n.styled-select {\\n        display: block;\\n    }\\n</style>\\n<!--<![endif]-->\\n<!--[if lte IE 9]>\\n<style>\\n    .langlist > ul {\\n        text-align: center;\\n    }\\n    .langlist > ul > li {\\n        display: inline;\\n        padding: 0 0.5em;\\n    }\\n</style>\\n<![endif]-->\\n</body>\\n</html>\\n'"
      ]
     },
     "execution_count": 20,
     "metadata": {},
     "output_type": "execute_result"
    }
   ],
   "source": [
    "html"
   ]
  },
  {
   "cell_type": "code",
   "execution_count": 21,
   "metadata": {},
   "outputs": [
    {
     "data": {
      "text/plain": [
       "['DefragResult',\n",
       " 'DefragResultBytes',\n",
       " 'MAX_CACHE_SIZE',\n",
       " 'ParseResult',\n",
       " 'ParseResultBytes',\n",
       " 'Quoter',\n",
       " 'ResultBase',\n",
       " 'SplitResult',\n",
       " 'SplitResultBytes',\n",
       " '_ALWAYS_SAFE',\n",
       " '_ALWAYS_SAFE_BYTES',\n",
       " '_DefragResultBase',\n",
       " '_NetlocResultMixinBase',\n",
       " '_NetlocResultMixinBytes',\n",
       " '_NetlocResultMixinStr',\n",
       " '_ParseResultBase',\n",
       " '_ResultMixinBytes',\n",
       " '_ResultMixinStr',\n",
       " '_SplitResultBase',\n",
       " '__all__',\n",
       " '__builtins__',\n",
       " '__cached__',\n",
       " '__doc__',\n",
       " '__file__',\n",
       " '__loader__',\n",
       " '__name__',\n",
       " '__package__',\n",
       " '__spec__',\n",
       " '_asciire',\n",
       " '_checknetloc',\n",
       " '_coerce_args',\n",
       " '_decode_args',\n",
       " '_encode_result',\n",
       " '_hexdig',\n",
       " '_hextobyte',\n",
       " '_hostprog',\n",
       " '_implicit_encoding',\n",
       " '_implicit_errors',\n",
       " '_noop',\n",
       " '_parse_cache',\n",
       " '_portprog',\n",
       " '_safe_quoters',\n",
       " '_splitattr',\n",
       " '_splithost',\n",
       " '_splitnetloc',\n",
       " '_splitnport',\n",
       " '_splitparams',\n",
       " '_splitpasswd',\n",
       " '_splitport',\n",
       " '_splitquery',\n",
       " '_splittag',\n",
       " '_splittype',\n",
       " '_splituser',\n",
       " '_splitvalue',\n",
       " '_to_bytes',\n",
       " '_typeprog',\n",
       " 'clear_cache',\n",
       " 'collections',\n",
       " 'namedtuple',\n",
       " 'non_hierarchical',\n",
       " 'parse_qs',\n",
       " 'parse_qsl',\n",
       " 'quote',\n",
       " 'quote_from_bytes',\n",
       " 'quote_plus',\n",
       " 're',\n",
       " 'scheme_chars',\n",
       " 'splitattr',\n",
       " 'splithost',\n",
       " 'splitnport',\n",
       " 'splitpasswd',\n",
       " 'splitport',\n",
       " 'splitquery',\n",
       " 'splittag',\n",
       " 'splittype',\n",
       " 'splituser',\n",
       " 'splitvalue',\n",
       " 'sys',\n",
       " 'to_bytes',\n",
       " 'unquote',\n",
       " 'unquote_plus',\n",
       " 'unquote_to_bytes',\n",
       " 'unwrap',\n",
       " 'urldefrag',\n",
       " 'urlencode',\n",
       " 'urljoin',\n",
       " 'urlparse',\n",
       " 'urlsplit',\n",
       " 'urlunparse',\n",
       " 'urlunsplit',\n",
       " 'uses_fragment',\n",
       " 'uses_netloc',\n",
       " 'uses_params',\n",
       " 'uses_query',\n",
       " 'uses_relative',\n",
       " 'warnings']"
      ]
     },
     "execution_count": 21,
     "metadata": {},
     "output_type": "execute_result"
    }
   ],
   "source": [
    "from urllib import parse\n",
    "dir(parse)"
   ]
  },
  {
   "cell_type": "code",
   "execution_count": 22,
   "metadata": {},
   "outputs": [],
   "source": [
    "params={\"departureDate\":\"2021-03-03\",\"departureAirport\":\"HYD\",\"arrivalAirport\":\"DEL\"}"
   ]
  },
  {
   "cell_type": "code",
   "execution_count": 23,
   "metadata": {},
   "outputs": [],
   "source": [
    "querystring = parse.urlencode(params)"
   ]
  },
  {
   "cell_type": "code",
   "execution_count": 24,
   "metadata": {},
   "outputs": [
    {
     "data": {
      "text/plain": [
       "'departureDate=2021-03-03&departureAirport=HYD&arrivalAirport=DEL'"
      ]
     },
     "execution_count": 24,
     "metadata": {},
     "output_type": "execute_result"
    }
   ],
   "source": [
    "querystring"
   ]
  },
  {
   "cell_type": "code",
   "execution_count": 25,
   "metadata": {},
   "outputs": [],
   "source": [
    "url = \"https://www.expedia.com/api/flight/search\"+\"?\"+querystring"
   ]
  },
  {
   "cell_type": "code",
   "execution_count": 26,
   "metadata": {},
   "outputs": [
    {
     "data": {
      "text/plain": [
       "<Response [429]>"
      ]
     },
     "execution_count": 26,
     "metadata": {},
     "output_type": "execute_result"
    }
   ],
   "source": [
    "requests.get(url, headers = {'User-agent': 'your bot 0.1'})"
   ]
  },
  {
   "cell_type": "code",
   "execution_count": 27,
   "metadata": {},
   "outputs": [
    {
     "data": {
      "text/plain": [
       "True"
      ]
     },
     "execution_count": 27,
     "metadata": {},
     "output_type": "execute_result"
    }
   ],
   "source": [
    "#to check if we still have connecton with the server\n",
    "resp.isclosed()"
   ]
  },
  {
   "cell_type": "code",
   "execution_count": 28,
   "metadata": {},
   "outputs": [
    {
     "data": {
      "text/plain": [
       "200"
      ]
     },
     "execution_count": 28,
     "metadata": {},
     "output_type": "execute_result"
    }
   ],
   "source": [
    "resp.code"
   ]
  },
  {
   "cell_type": "code",
   "execution_count": null,
   "metadata": {},
   "outputs": [],
   "source": []
  },
  {
   "cell_type": "code",
   "execution_count": 29,
   "metadata": {},
   "outputs": [
    {
     "name": "stdout",
     "output_type": "stream",
     "text": [
      "{\n",
      "  \"Quotes\" : [ {\n",
      "    \"QuoteId\" : 1,\n",
      "    \"MinPrice\" : 120,\n",
      "    \"Direct\" : false,\n",
      "    \"OutboundLeg\" : {\n",
      "      \"CarrierIds\" : [ 1793 ],\n",
      "      \"OriginId\" : 81727,\n",
      "      \"DestinationId\" : 73076,\n",
      "      \"DepartureDate\" : \"2021-03-03T00:00:00\"\n",
      "    },\n",
      "    \"QuoteDateTime\" : \"2021-03-01T01:37:00\"\n",
      "  }, {\n",
      "    \"QuoteId\" : 2,\n",
      "    \"MinPrice\" : 347,\n",
      "    \"Direct\" : true,\n",
      "    \"OutboundLeg\" : {\n",
      "      \"CarrierIds\" : [ 1793 ],\n",
      "      \"OriginId\" : 81727,\n",
      "      \"DestinationId\" : 73076,\n",
      "      \"DepartureDate\" : \"2021-03-03T00:00:00\"\n",
      "    },\n",
      "    \"QuoteDateTime\" : \"2021-03-01T07:49:00\"\n",
      "  } ],\n",
      "  \"Carriers\" : [ {\n",
      "    \"CarrierId\" : 1793,\n",
      "    \"Name\" : \"United\"\n",
      "  } ],\n",
      "  \"Places\" : [ {\n",
      "    \"Name\" : \"Chicago O'Hare International\",\n",
      "    \"Type\" : \"Station\",\n",
      "    \"PlaceId\" : 73076,\n",
      "    \"IataCode\" : \"ORD\",\n",
      "    \"SkyscannerCode\" : \"ORD\",\n",
      "    \"CityName\" : \"Chicago\",\n",
      "    \"CityId\" : \"CHIA\",\n",
      "    \"CountryName\" : \"United States\"\n",
      "  }, {\n",
      "    \"Name\" : \"San Francisco International\",\n",
      "    \"Type\" : \"Station\",\n",
      "    \"PlaceId\" : 81727,\n",
      "    \"IataCode\" : \"SFO\",\n",
      "    \"SkyscannerCode\" : \"SFO\",\n",
      "    \"CityName\" : \"San Francisco\",\n",
      "    \"CityId\" : \"SFOA\",\n",
      "    \"CountryName\" : \"United States\"\n",
      "  } ],\n",
      "  \"Currencies\" : [ {\n",
      "    \"Code\" : \"USD\",\n",
      "    \"Symbol\" : \"$\",\n",
      "    \"ThousandsSeparator\" : \",\",\n",
      "    \"DecimalSeparator\" : \".\",\n",
      "    \"SymbolOnLeft\" : true,\n",
      "    \"SpaceBetweenAmountAndSymbol\" : false,\n",
      "    \"RoundingCoefficient\" : 0,\n",
      "    \"DecimalDigits\" : 2\n",
      "  } ],\n",
      "  \"Routes\" : [ {\n",
      "    \"QuoteDateTime\" : \"2021-03-01T01:37:00\",\n",
      "    \"Price\" : 120,\n",
      "    \"QuoteIds\" : [ 1, 2 ],\n",
      "    \"OriginId\" : 81727,\n",
      "    \"DestinationId\" : 73076\n",
      "  } ]\n",
      "}\n"
     ]
    }
   ],
   "source": [
    "#From Skyscanner\n",
    "import requests\n",
    "\n",
    "url = \"https://skyscanner-skyscanner-flight-search-v1.p.rapidapi.com/apiservices/browseroutes/v1.0/US/USD/en-US/SFO-sky/ORD-sky/2021-03-03\"\n",
    "\n",
    "querystring = {\"inboundpartialdate\":\"2021-03-03\"}\n",
    "\n",
    "headers = {\n",
    "    'x-rapidapi-key': \"e4f45619a7msh00ab3d2d7433e6ep15bb05jsnb3bc14c37ccb\",\n",
    "    'x-rapidapi-host': \"skyscanner-skyscanner-flight-search-v1.p.rapidapi.com\"\n",
    "    }\n",
    "\n",
    "response = requests.request(\"GET\", url, headers=headers, params=querystring)\n",
    "\n",
    "print(response.text)"
   ]
  },
  {
   "cell_type": "code",
   "execution_count": 30,
   "metadata": {},
   "outputs": [
    {
     "name": "stdout",
     "output_type": "stream",
     "text": [
      "<HTML><HEAD>\n",
      "<TITLE>Access Denied</TITLE>\n",
      "</HEAD><BODY>\n",
      "<H1>Access Denied</H1>\n",
      " \n",
      "You don't have permission to access \"http&#58;&#47;&#47;www&#46;expedia&#46;com&#47;api&#47;flight&#47;search&#63;\" on this server.<P>\n",
      "Reference&#32;&#35;18&#46;9e01d517&#46;1614605395&#46;2be299c\n",
      "</BODY>\n",
      "</HTML>\n",
      "\n"
     ]
    }
   ],
   "source": [
    "import requests\n",
    "\n",
    "url = \"https://www.expedia.com/api/flight/search?departureDate=2021-03-03&departureAirport=HYD&arrivalAirport=BLR\"\n",
    "\n",
    "#querystring = {\"aircraftCode\":\"<REQUIRED>\",\"flightNumber\":\"<REQUIRED>\",\"carrierCode\":\"<REQUIRED>\",\"departureTime\":\"<REQUIRED>\",\"duration\":\"<REQUIRED>\",\"originLocationCode\":\"<REQUIRED>\",\"arrivalDate\":\"<REQUIRED>\",\"destinationLocationCode\":\"<REQUIRED>\",\"arrivalTime\":\"<REQUIRED>\",\"departureDate\":\"<REQUIRED>\"}\n",
    "querystring = {\"departureDate\":\"2021-03-03\",\"departureAirport\":\"HYD\",\"arrivalAirport\":\"DEL\"}\n",
    "headers = {\n",
    "  \"activity-id\": \"<!--tlactivity-id: e19bd8bf-6abd-4611-bb5c-faf0c54964be-->\",\n",
    "  \"content-encoding\": \"gzip\",\n",
    "  \"content-language\": \"en-US\",\n",
    "  \"content-length\": \"9761\",\n",
    "  \"content-type\": \"application/json;charset=UTF-8\",\n",
    "  \"date\": \"Mon, 01 Mar 2021 06:23:45 GMT\",\n",
    "  \"p3p\": \"policyref=\\\"/w3c/p3p.xml\\\", CP=\\\"CAO DSP IND COR ADM CONo CUR CUSi DEV PSA PSD DELi OUR COM NAV PHY ONL PUR UNI\\\"\",\n",
    "  \"same_site_supported\": \"true\",\n",
    "  \"server\": \"Expedia WebServer\",\n",
    "  \"strict-transport-security\": \"max-age=2592000; includeSubDomains;\",\n",
    "  \"trace-id\": \"e19bd8bf-6abd-4611-bb5c-faf0c54964be\",\n",
    "  \"vary\": \"Accept-Encoding\",\n",
    "  \"x-app-info\": \"expweb,release-2021-02-r4.12419.2344752,us-west-2:expweb\",\n",
    "  \"x-b3-traceid\": \"e19bd8bf6abd4611bb5cfaf0c54964be\",\n",
    "  \"x-cgp-info\": \"noJvmRouteSet;a9c29634-7a56-11eb-b1c2-0242b5f86d60\",\n",
    "  \"x-content-type-options\": \"nosniff\",\n",
    "  \"x-edgeconnect-cache-status\": \"0\",\n",
    "  \"x-page-id\": \"page.MobileFlightApiSearch,F,20\",\n",
    "  \"x-ua-compatible\": \"IE=Edge\",\n",
    "  \"x-xss-protection\": \"1\"\n",
    "}\n",
    "\n",
    "response = requests.request(\"GET\", url, headers=headers, params=querystring)\n",
    "\n",
    "print(response.text)"
   ]
  },
  {
   "cell_type": "code",
   "execution_count": null,
   "metadata": {},
   "outputs": [],
   "source": []
  }
 ],
 "metadata": {
  "accelerator": "GPU",
  "colab": {
   "collapsed_sections": [],
   "name": "ModelBuilding_Chirag.ipynb",
   "provenance": []
  },
  "kernelspec": {
   "display_name": "Python 3",
   "language": "python",
   "name": "python3"
  },
  "language_info": {
   "codemirror_mode": {
    "name": "ipython",
    "version": 3
   },
   "file_extension": ".py",
   "mimetype": "text/x-python",
   "name": "python",
   "nbconvert_exporter": "python",
   "pygments_lexer": "ipython3",
   "version": "3.8.3"
  }
 },
 "nbformat": 4,
 "nbformat_minor": 1
}
